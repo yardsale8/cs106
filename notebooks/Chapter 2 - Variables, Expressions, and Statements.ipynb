{
 "metadata": {
  "name": ""
 },
 "nbformat": 3,
 "nbformat_minor": 0,
 "worksheets": [
  {
   "cells": [
    {
     "cell_type": "markdown",
     "metadata": {},
     "source": [
      "# Chapter 2 - Variables, Expressions, and Statements"
     ]
    },
    {
     "cell_type": "markdown",
     "metadata": {},
     "source": [
      "## Type conversion functions\n",
      "\n",
      "* We can convert types with\n",
      "    * `int`\n",
      "    * `str`\n",
      "    * `float`"
     ]
    },
    {
     "cell_type": "code",
     "collapsed": false,
     "input": [
      "print(int(\"2\"), int(3.7))\n",
      "print(float(\"2.5\"),float(3))\n",
      "print(str(2),str(2.5))"
     ],
     "language": "python",
     "metadata": {},
     "outputs": []
    },
    {
     "cell_type": "markdown",
     "metadata": {},
     "source": [
      "## Getting Input from the User\n",
      "\n",
      "* Use the `input` function\n",
      "* **Be sure to assign the output**"
     ]
    },
    {
     "cell_type": "markdown",
     "metadata": {},
     "source": [
      "## The `input` and `raw_input` statements\n",
      "\n",
      "* Interactive Text\n",
      "    * `var_name = input(\"A prompt to the user.\")`\n",
      "* Python 2\n",
      "    * `var_name = raw_input(\"A prompt to the user.\")`"
     ]
    },
    {
     "cell_type": "markdown",
     "metadata": {},
     "source": [
      "### Try it in `spyder`!"
     ]
    },
    {
     "cell_type": "code",
     "collapsed": false,
     "input": [
      "output = raw_input(\"What is your name?\")"
     ],
     "language": "python",
     "metadata": {},
     "outputs": []
    },
    {
     "cell_type": "code",
     "collapsed": false,
     "input": [
      "print(output, type(output))"
     ],
     "language": "python",
     "metadata": {},
     "outputs": []
    }
   ],
   "metadata": {}
  }
 ]
}