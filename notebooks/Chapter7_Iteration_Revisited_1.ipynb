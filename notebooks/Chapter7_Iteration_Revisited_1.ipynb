{
 "metadata": {
  "name": ""
 },
 "nbformat": 3,
 "nbformat_minor": 0,
 "worksheets": [
  {
   "cells": [
    {
     "cell_type": "code",
     "collapsed": false,
     "input": [
      "%run talktools\n",
      "from __future__ import division, print_function"
     ],
     "language": "python",
     "metadata": {
      "slideshow": {
       "slide_type": "notes"
      }
     },
     "outputs": [
      {
       "html": [
        "<style>\n",
        "\n",
        ".rendered_html\n",
        "{\n",
        "  color: #2C5494;\n",
        "  font-family: Ubuntu;\n",
        "  font-size: 250%;\n",
        "  line-height: 1.1;\n",
        "  margin: 0.5em 0;\n",
        "  }\n",
        "\n",
        ".title\n",
        "{\n",
        "  color: #498AF3;\n",
        "  font-size: 250%;\n",
        "  font-weight:bold;\n",
        "  line-height: 1.2; \n",
        "  margin: 10px 50px 10px;\n",
        "  }\n",
        "\n",
        ".subtitle\n",
        "{\n",
        "  color: #386BBC;\n",
        "  font-size: 180%;\n",
        "  font-weight:bold;\n",
        "  line-height: 1.2; \n",
        "  margin: 20px 50px 20px;\n",
        "  }\n",
        "\n",
        ".slide-header, p.slide-header\n",
        "{\n",
        "  color: #498AF3;\n",
        "  font-size: 200%;\n",
        "  font-weight:bold;\n",
        "  margin: 0px 20px 10px;\n",
        "  page-break-before: always;\n",
        "  text-align: center;\n",
        "  }\n",
        "\n",
        ".rendered_html h1\n",
        "{\n",
        "  color: #498AF3;\n",
        "  line-height: 1.2; \n",
        "  margin: 0.15em 0em 0.5em;\n",
        "  page-break-before: always;\n",
        "  text-align: center;\n",
        "  }\n",
        "\n",
        "\n",
        ".rendered_html h2\n",
        "{ \n",
        "  color: #386BBC;\n",
        "  line-height: 1.2;\n",
        "  margin: 1.1em 0em 0.5em;\n",
        "  }\n",
        "\n",
        ".rendered_html h3\n",
        "{ \n",
        "  font-size: 120%;\n",
        "  line-height: 1.4;\n",
        "  margin: 0.5em 0em 0.5em;\n",
        "  }\n",
        "\n",
        ".rendered_html li\n",
        "{\n",
        "  line-height: 1.8;\n",
        "  }\n",
        "\n",
        ".input_prompt, .CodeMirror-lines\n",
        "{\n",
        "  font-family: Consolas;\n",
        "  font-size: 200%;\n",
        "  line-height:1.4;\n",
        "  }\n",
        ".output_area\n",
        "{\n",
        "  font-family: Consolas;\n",
        "  font-size: 160%;\n",
        "  line-height:1.5;\n",
        "  }\n",
        "\n",
        ".gap-above\n",
        "{\n",
        "  padding-top: 200px;\n",
        "  }\n",
        "\n",
        ".gap01\n",
        "{\n",
        "  padding-top: 20px;\n",
        "  }\n",
        "\n",
        ".gap05\n",
        "{\n",
        "  padding-top: 100px;\n",
        "  }\n",
        "\n",
        ".gap1\n",
        "{\n",
        "  padding-top: 200px;\n",
        "  }\n",
        "\n",
        ".gap2\n",
        "{\n",
        "  padding-top: 400px;\n",
        "  }\n",
        "\n",
        ".gap3\n",
        "{\n",
        "  padding-top: 600px;\n",
        "  }\n",
        "\n",
        ".emph\n",
        "{\n",
        "  color: #386BBC;\n",
        "  }\n",
        "\n",
        ".warn\n",
        "{\n",
        "  color: red;\n",
        "  }\n",
        "\n",
        ".center\n",
        "{\n",
        "  text-align: center;\n",
        "  }\n",
        "\n",
        ".nb_link\n",
        "{\n",
        "    padding-bottom: 0.5em;\n",
        "}\n",
        "\n",
        "</style>\n"
       ],
       "metadata": {},
       "output_type": "display_data",
       "text": [
        "<IPython.core.display.HTML at 0x58e1f50>"
       ]
      }
     ],
     "prompt_number": 2
    },
    {
     "cell_type": "markdown",
     "metadata": {
      "slideshow": {
       "slide_type": "slide"
      }
     },
     "source": [
      "### Goals\n",
      "\n",
      "1. Show how abstracting with variables is useful.\n",
      "    1. pure numbers $\\longrightarrow$ variables\n",
      "2. Noticing repetition\n",
      "3. Eliminating repetition with a `for` loop\n",
      "4. Write a *general solution*\n",
      "    1. Solution to many problems\n"
     ]
    },
    {
     "cell_type": "markdown",
     "metadata": {
      "slideshow": {
       "slide_type": "slide"
      }
     },
     "source": [
      "#### Example - The Fibonacci Numbers\n",
      "\n",
      "* 1\n",
      "* 1\n",
      "* 1 + 1 = 2\n",
      "* 1 + 2 = 3\n",
      "* 2 + 3 = 5\n",
      "* 3 + 5 = 8\n",
      "* ? + ? = ?"
     ]
    },
    {
     "cell_type": "markdown",
     "metadata": {
      "slideshow": {
       "slide_type": "slide"
      }
     },
     "source": [
      "#### Pure Number Approach: Print the 1st 10 numbers"
     ]
    },
    {
     "cell_type": "code",
     "collapsed": false,
     "input": [
      "print(1)\n",
      "print(1)\n",
      "print(1+1)\n",
      "print(2+1)\n",
      "print(3+2)\n",
      "print(5+3)\n",
      "print(8+5)"
     ],
     "language": "python",
     "metadata": {
      "slideshow": {
       "slide_type": "fragment"
      }
     },
     "outputs": []
    },
    {
     "cell_type": "markdown",
     "metadata": {
      "slideshow": {
       "slide_type": "fragment"
      }
     },
     "source": [
      "Copy to `spyder` and add the last three lines"
     ]
    },
    {
     "cell_type": "markdown",
     "metadata": {
      "slideshow": {
       "slide_type": "slide"
      }
     },
     "source": [
      "### Plus/Minus of the Pure Number Solution\n",
      "**Plus**\n",
      "\n",
      "* Easy to understand\n",
      "* Helps understand the process\n",
      "\n",
      "**Minus**\n",
      "\n",
      "* Easy to make a mistake\n",
      "* Not automated **at all**"
     ]
    },
    {
     "cell_type": "markdown",
     "metadata": {
      "slideshow": {
       "slide_type": "slide"
      }
     },
     "source": [
      "#### Wasn't that annoying?\n",
      "\n",
      "\n",
      "* Would be better with variables\n",
      "    * No need to compute each solution\n",
      "    * Don't have to worry about arithmetic errors"
     ]
    },
    {
     "cell_type": "markdown",
     "metadata": {
      "slideshow": {
       "slide_type": "slide"
      }
     },
     "source": [
      "#### Numbers $\\rightarrow$ Variables Process\n",
      "\n",
      "1. Pick good names\n",
      "2. Define the main computation\n",
      "3. Set the initial values\n",
      "4. Update the variables"
     ]
    },
    {
     "cell_type": "markdown",
     "metadata": {
      "slideshow": {
       "slide_type": "slide"
      }
     },
     "source": [
      "#### Resulting Code\n",
      "\n",
      "* <font color=\"red\">set initial values</font>\n",
      "* <font color=\"green\">main computation</font>\n",
      "* <font color=\"blue\">update variables</font>\n",
      "* <font color=\"green\">main computation</font>\n",
      "* <font color=\"blue\">update variables</font>\n",
      "* <font color=\"green\">main computation</font>\n",
      "* <font color=\"blue\">update variables</font>\n",
      "* ..."
     ]
    },
    {
     "cell_type": "markdown",
     "metadata": {
      "slideshow": {
       "slide_type": "slide"
      }
     },
     "source": [
      "#### Pick names \n",
      "8 = 5 + 3"
     ]
    },
    {
     "cell_type": "markdown",
     "metadata": {
      "slideshow": {
       "slide_type": "fragment"
      }
     },
     "source": [
      "* `second_to_last`\n",
      "* `last`\n",
      "* `next`"
     ]
    },
    {
     "cell_type": "markdown",
     "metadata": {
      "slideshow": {
       "slide_type": "slide"
      }
     },
     "source": [
      "#### Main Computation\n",
      "\n",
      "`next = last + second_to_last`"
     ]
    },
    {
     "cell_type": "markdown",
     "metadata": {
      "slideshow": {
       "slide_type": "slide"
      }
     },
     "source": [
      "* **Update Variables**\n",
      "    * `next = last + second_to_last`\n",
      "        * 8 = 5 + 3\n",
      "        * 13 = 8 + 5"
     ]
    },
    {
     "cell_type": "markdown",
     "metadata": {
      "slideshow": {
       "slide_type": "fragment"
      }
     },
     "source": [
      "<table border=\"1\">\n",
      "<tr>\n",
      "<td><b>This Step</b></td>\n",
      "<td><b>Last Step</b></td>\n",
      "</tr>\n",
      "<tr>\n",
      "<td><code>last</code></td>\n",
      "<td><code>next</code></td>\n",
      "</tr>\n",
      "<tr>\n",
      "<td><code>second_to_last</code></td>\n",
      "<td><code>last</code></td>\n",
      "</tr>\n",
      "<tr>\n",
      "<td><code>next</code></td>\n",
      "<td><code>last+second_to_last</code></td>\n",
      "</tr>\n",
      "</table> "
     ]
    },
    {
     "cell_type": "markdown",
     "metadata": {
      "slideshow": {
       "slide_type": "slide"
      }
     },
     "source": [
      "* **Update Statements**\n",
      "    * `second_to_last = last`\n",
      "    * `last = second_to_last`\n",
      "\n"
     ]
    },
    {
     "cell_type": "markdown",
     "metadata": {
      "slideshow": {
       "slide_type": "fragment"
      }
     },
     "source": [
      "* **Order Matters** What's wrong with the reverse order?\n",
      "    * `second_to_last = last`\n",
      "    * `last = second_to_last`"
     ]
    },
    {
     "cell_type": "markdown",
     "metadata": {
      "slideshow": {
       "slide_type": "slide"
      }
     },
     "source": [
      "#### Putting it all together\n",
      "\n",
      "\n",
      "* Copy to `spyder`\n",
      "* Make it compute 10 values with copy/paste\n",
      "* Print the $10^{\\text{th}}$ value"
     ]
    },
    {
     "cell_type": "code",
     "collapsed": false,
     "input": [
      "#Set up initial values\n",
      "second_to_last = 1\n",
      "last = 1\n",
      "#compute\n",
      "next = last + second_to_last\n",
      "#update\n",
      "second_to_last = last\n",
      "last = next\n",
      "#compute\n",
      "next = last + second_to_last\n",
      "#update\n",
      "second_to_last = last\n",
      "last = next"
     ],
     "language": "python",
     "metadata": {
      "slideshow": {
       "slide_type": "subslide"
      }
     },
     "outputs": [],
     "prompt_number": 5
    },
    {
     "cell_type": "markdown",
     "metadata": {
      "slideshow": {
       "slide_type": "slide"
      }
     },
     "source": [
      "### Plus/Minus of the No Loop Solution\n",
      "\n",
      "* **Plus**\n",
      "    * Shows off the logic of the solution\n",
      "    * Not as many errors\n",
      "* **Minus**\n",
      "    * Not very general/automated\n",
      "        * Different $n \\rightarrow$ edit the file\n",
      "    * Longer $\\rightarrow$ harder to read/understand"
     ]
    },
    {
     "cell_type": "markdown",
     "metadata": {
      "slideshow": {
       "slide_type": "slide"
      }
     },
     "source": [
      "### Eliminate the repetition\n",
      "\n",
      "* Find the repetition\n",
      "* Replace with a loop"
     ]
    },
    {
     "cell_type": "code",
     "collapsed": false,
     "input": [
      "second_to_last = 1\n",
      "last = 1\n",
      "#repeat\n",
      "next = last + second_to_last\n",
      "second_to_last = last\n",
      "last = next\n",
      "#repeat\n",
      "next = last + second_to_last\n",
      "second_to_last = last\n",
      "last = next\n",
      "#repeat\n",
      "next = last + second_to_last\n",
      "second_to_last = last\n",
      "last = next"
     ],
     "language": "python",
     "metadata": {
      "slideshow": {
       "slide_type": "subslide"
      }
     },
     "outputs": [],
     "prompt_number": 5
    },
    {
     "cell_type": "markdown",
     "metadata": {
      "slideshow": {
       "slide_type": "slide"
      }
     },
     "source": [
      "#### Repeated Code $\\rightarrow$ `for` loop"
     ]
    },
    {
     "cell_type": "code",
     "collapsed": false,
     "input": [
      "n = 10\n",
      "#These are the first 2 values\n",
      "second_to_last = 1\n",
      "last = 1\n",
      "# now compute the next n - 2\n",
      "for i in range(n - 2):\n",
      "    next = last + second_to_last\n",
      "    second_to_last = last\n",
      "    last = next\n",
      "print(next)"
     ],
     "language": "python",
     "metadata": {
      "slideshow": {
       "slide_type": "fragment"
      }
     },
     "outputs": [
      {
       "output_type": "stream",
       "stream": "stdout",
       "text": [
        "55\n"
       ]
      }
     ],
     "prompt_number": 7
    },
    {
     "cell_type": "markdown",
     "metadata": {
      "slideshow": {
       "slide_type": "slide"
      }
     },
     "source": [
      "### Plus/Minus of the Loop Solution\n",
      "\n",
      "* **Plus**\n",
      "    * General - very easy to solve a different $n$\n",
      "    * Concise - Less lines of code, easier to read\n",
      "    * Illustrates the repetition\n",
      "* **Minus**\n",
      "    * More abstract - Requires understanding of loops"
     ]
    }
   ],
   "metadata": {}
  }
 ]
}