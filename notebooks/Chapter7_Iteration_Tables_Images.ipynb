{
 "metadata": {
  "name": ""
 },
 "nbformat": 3,
 "nbformat_minor": 0,
 "worksheets": [
  {
   "cells": [
    {
     "cell_type": "code",
     "collapsed": false,
     "input": [
      "from __future__ import print_function\n",
      "#%run talktools.py"
     ],
     "language": "python",
     "metadata": {
      "slideshow": {
       "slide_type": "slide"
      }
     },
     "outputs": [],
     "prompt_number": 3
    },
    {
     "cell_type": "markdown",
     "metadata": {
      "slideshow": {
       "slide_type": "slide"
      }
     },
     "source": [
      "# Chapter 7 - Iteration Revisited\n",
      "## Topic 3 - Tables and Images"
     ]
    },
    {
     "cell_type": "markdown",
     "metadata": {
      "slideshow": {
       "slide_type": "slide"
      }
     },
     "source": [
      "### Double `for` loops\n",
      "\n",
      "Recall the double `for` loop presented in the book\n",
      "\n",
      "* See if you can predict the output"
     ]
    },
    {
     "cell_type": "code",
     "collapsed": false,
     "input": [
      "for i in range(3):\n",
      "    for j in range(4):\n",
      "        print( i, j)"
     ],
     "language": "python",
     "metadata": {
      "slideshow": {
       "slide_type": "slide"
      }
     },
     "outputs": []
    },
    {
     "cell_type": "code",
     "collapsed": false,
     "input": [
      "for i in range(3):\n",
      "    for j in range(4):\n",
      "        print( i, j)"
     ],
     "language": "python",
     "metadata": {
      "slideshow": {
       "slide_type": "slide"
      }
     },
     "outputs": [
      {
       "output_type": "stream",
       "stream": "stdout",
       "text": [
        "0 0\n",
        "0 1\n",
        "0 2\n",
        "0 3\n",
        "1 0\n",
        "1 1\n",
        "1 2\n",
        "1 3\n",
        "2 0\n",
        "2 1\n",
        "2 2\n",
        "2 3\n"
       ]
      }
     ],
     "prompt_number": 4
    },
    {
     "cell_type": "markdown",
     "metadata": {
      "slideshow": {
       "slide_type": "slide"
      }
     },
     "source": [
      "### Two Dimensional Data\n",
      "\n",
      "* Sometimes data has 2 dimensions\n",
      "* Examples\n",
      "    * Table data\n",
      "    * Database tables (like excel tables)\n",
      "    * Matrices (in math)"
     ]
    },
    {
     "cell_type": "markdown",
     "metadata": {
      "slideshow": {
       "slide_type": "slide"
      }
     },
     "source": [
      "### Example\n",
      "\n",
      "\n",
      "The Supreme Court examined evidence from a random survey related to drinking and driving.  The values in the table represent number of people.\n",
      "\n",
      "<TABLE border=\"1\"\n",
      "          summary=\"The Supreme Court examined evidence from a random survey related to drinking and driving.  The values in the table represent number of people.\">\n",
      "<CAPTION><EM>Drinking and Driving: Gender vs. Drinking</EM></CAPTION>\n",
      "<TR><TH rowspan=\"2\"><TH colspan=\"2\">Drank Alcohol in Last 2 Hours\n",
      "<TR><TH>Yes<TH>No\n",
      "<TR><TH>Males<TD>77<TD>404\n",
      "<TR><TH>Females<TD>16<TD>122\n",
      "</TABLE>\n",
      "\n",
      "\n"
     ]
    },
    {
     "cell_type": "markdown",
     "metadata": {
      "slideshow": {
       "slide_type": "slide"
      }
     },
     "source": [
      "### Tables in `python`\n",
      "\n",
      "* In python we use a list of lists for a table\n",
      "* Outside list holds rows\n",
      "* each inside list represents one row"
     ]
    },
    {
     "cell_type": "code",
     "collapsed": false,
     "input": [
      "Table = [[77, 404],\n",
      "         [16, 122]]"
     ],
     "language": "python",
     "metadata": {
      "slideshow": {
       "slide_type": "fragment"
      }
     },
     "outputs": [],
     "prompt_number": 1
    },
    {
     "cell_type": "markdown",
     "metadata": {
      "slideshow": {
       "slide_type": "slide"
      }
     },
     "source": [
      "### Iterating over a Table - Use a double for loop\n",
      "\n",
      "* The outer loop gives rows\n",
      "* The inner loop gives elements of rows\n",
      "* The inner loop is *dependent* on the outer loop\n"
     ]
    },
    {
     "cell_type": "code",
     "collapsed": false,
     "input": [
      "for row in Table:\n",
      "    print(row)\n",
      "    for item in row:\n",
      "        print(item)"
     ],
     "language": "python",
     "metadata": {
      "slideshow": {
       "slide_type": "slide"
      }
     },
     "outputs": [
      {
       "output_type": "stream",
       "stream": "stdout",
       "text": [
        "[77, 404]\n",
        "77\n",
        "404\n",
        "[16, 122]\n",
        "16\n",
        "122\n"
       ]
      }
     ],
     "prompt_number": 6
    },
    {
     "cell_type": "markdown",
     "metadata": {
      "slideshow": {
       "slide_type": "slide"
      }
     },
     "source": [
      "### Image Manipulation\n",
      "\n",
      "\n",
      "** IMPORTANT - Download `cImage.py` and `smu_campus.jpg` into your python folder **"
     ]
    },
    {
     "cell_type": "code",
     "collapsed": false,
     "input": [
      "import cImage as image\n",
      "im = image.Image('smu_campus.jpg')"
     ],
     "language": "python",
     "metadata": {
      "slideshow": {
       "slide_type": "fragment"
      }
     },
     "outputs": [],
     "prompt_number": 1
    },
    {
     "cell_type": "markdown",
     "metadata": {
      "slideshow": {
       "slide_type": "slide"
      }
     },
     "source": [
      "### Greyscale Images\n",
      "\n",
      "* You make a greyscale image by\n",
      "    * averaging the RGB values\n",
      "    * replacing each RGB value with the average"
     ]
    },
    {
     "cell_type": "code",
     "collapsed": false,
     "input": [
      "grayscale_image = image.EmptyImage(im.getWidth(),im.getHeight())\n",
      "for col in range(im.getWidth()):\n",
      "    for row in range(im.getHeight()):\n",
      "        p = im.getPixel(col, row)\n",
      "\n",
      "        red = p.getRed()\n",
      "        green = p.getGreen()\n",
      "        blue = p.getBlue()\n",
      "\n",
      "        avg = int((red + green + blue) / 3.0)\n",
      "\n",
      "        newpixel = image.Pixel(avg, avg, avg)\n",
      "        grayscale_image.setPixel(col, row, newpixel)"
     ],
     "language": "python",
     "metadata": {
      "slideshow": {
       "slide_type": "slide"
      }
     },
     "outputs": [],
     "prompt_number": 2
    },
    {
     "cell_type": "code",
     "collapsed": false,
     "input": [
      "win = image.ImageWin()\n",
      "grayscale_image.draw(win)\n",
      "win.exitonclick()"
     ],
     "language": "python",
     "metadata": {
      "slideshow": {
       "slide_type": "slide"
      }
     },
     "outputs": [],
     "prompt_number": "*"
    }
   ],
   "metadata": {}
  }
 ]
}