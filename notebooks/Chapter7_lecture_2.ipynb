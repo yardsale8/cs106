{
 "cells": [
  {
   "cell_type": "markdown",
   "metadata": {
    "slideshow": {
     "slide_type": "slide"
    }
   },
   "source": [
    "## Chapter 7 - `while` loops"
   ]
  },
  {
   "cell_type": "markdown",
   "metadata": {
    "slideshow": {
     "slide_type": "slide"
    }
   },
   "source": [
    "### Definite and Indefinite Loops\n",
    "\n",
    "* *Definite Loop* Known number of iterations\n",
    "    * Know **Before** you start\n",
    "* *Indefinite Loop* Unknown number of iterations\n",
    "    * We will know **when we get there**."
   ]
  },
  {
   "cell_type": "markdown",
   "metadata": {
    "slideshow": {
     "slide_type": "slide"
    }
   },
   "source": [
    "### Example - Fibonacci Numbers\n",
    "\n",
    "* Definite Loop: *Compute the $15^{th}$ Fibonacci number*\n",
    "    * 13 iterations\n",
    "* Indefinite Loop: *First Fibonacci number $\\ge$ 1000*\n",
    "    * Who knows how many iterations"
   ]
  },
  {
   "cell_type": "markdown",
   "metadata": {
    "slideshow": {
     "slide_type": "slide"
    }
   },
   "source": [
    "### Loops in Python\n",
    "\n",
    "* Definite loop\n",
    "    * `for` loop\n",
    "* Indefinite Loop\n",
    "    * `while` loop"
   ]
  },
  {
   "cell_type": "markdown",
   "metadata": {
    "slideshow": {
     "slide_type": "slide"
    }
   },
   "source": [
    "### `while` loop structure"
   ]
  },
  {
   "cell_type": "code",
   "execution_count": null,
   "metadata": {
    "collapsed": false,
    "slideshow": {
     "slide_type": "fragment"
    }
   },
   "outputs": [],
   "source": [
    "while <condition>:\n",
    "    <body>"
   ]
  },
  {
   "cell_type": "markdown",
   "metadata": {
    "slideshow": {
     "slide_type": "fragment"
    }
   },
   "source": [
    "While `<condition> == True`, repeatedly execute `<body>`\n",
    "    "
   ]
  },
  {
   "cell_type": "markdown",
   "metadata": {
    "slideshow": {
     "slide_type": "slide"
    }
   },
   "source": [
    "### Careful!\n",
    "Copy and run the following code in `spyder`"
   ]
  },
  {
   "cell_type": "code",
   "execution_count": null,
   "metadata": {
    "collapsed": false,
    "slideshow": {
     "slide_type": "fragment"
    }
   },
   "outputs": [],
   "source": [
    "x = 5\n",
    "while x < 10:\n",
    "    print(\"Hello\")"
   ]
  },
  {
   "cell_type": "markdown",
   "metadata": {
    "slideshow": {
     "slide_type": "fragment"
    }
   },
   "source": [
    "**Beware of infinite loops!**"
   ]
  },
  {
   "cell_type": "markdown",
   "metadata": {
    "slideshow": {
     "slide_type": "slide"
    }
   },
   "source": [
    "### Example - First Fibonacci number $\\ge$ 1000"
   ]
  },
  {
   "cell_type": "code",
   "execution_count": null,
   "metadata": {
    "collapsed": false,
    "slideshow": {
     "slide_type": "fragment"
    }
   },
   "outputs": [],
   "source": [
    "last = 1\n",
    "second_to_last = 1\n",
    "current = 0 #  Have to set a value of current for next line\n",
    "while current < 1000:\n",
    "    current = last + second_to_last\n",
    "    second_to_last = last\n",
    "    last = current\n",
    "print(\"The first Fibonacci number over 1000 is\",current)"
   ]
  },
  {
   "cell_type": "markdown",
   "metadata": {
    "slideshow": {
     "slide_type": "slide"
    }
   },
   "source": [
    "### Keeping Count"
   ]
  },
  {
   "cell_type": "code",
   "execution_count": 1,
   "metadata": {
    "collapsed": false,
    "slideshow": {
     "slide_type": "fragment"
    }
   },
   "outputs": [
    {
     "name": "stdout",
     "output_type": "stream",
     "text": [
      "The 17th Fibonacci number, 1597, is the 1st Fibonacci number over 1000\n"
     ]
    }
   ],
   "source": [
    "last, second_to_last, cnt = 1, 1, 2\n",
    "current = 0\n",
    "while current < 1000:   \n",
    "    current = last + second_to_last\n",
    "    second_to_last = last\n",
    "    last = current\n",
    "    cnt = cnt + 1\n",
    "print(\"The \",cnt,\"th Fibonacci number, \",current,\\\n",
    "      \", is the 1st Fibonacci number over 1000\", sep='')"
   ]
  },
  {
   "cell_type": "markdown",
   "metadata": {
    "slideshow": {
     "slide_type": "slide"
    }
   },
   "source": [
    "### The $3n+1$ Sequence\n",
    "Step Function\n",
    "\n",
    "* $n$ is even: `return n // 2`\n",
    "    * Integer division\n",
    "    * Be sure to `import division` from `__future__`!\n",
    "* $n$ is odd `return 3n+1`"
   ]
  },
  {
   "cell_type": "code",
   "execution_count": null,
   "metadata": {
    "collapsed": false,
    "slideshow": {
     "slide_type": "slide"
    }
   },
   "outputs": [],
   "source": [
    "#Important for spyder\n",
    "gt\n",
    "def step(n):\n",
    "    \"\"\" A single step \"\"\"\n",
    "    if n % 2 == 0:\n",
    "        return n // 2\n",
    "    else:\n",
    "        return 3*n + 1"
   ]
  },
  {
   "cell_type": "markdown",
   "metadata": {
    "slideshow": {
     "slide_type": "fragment"
    }
   },
   "source": [
    "### The $3n+1$ Sequence\n",
    "\n",
    "* Until `n == 1` (stopping condition)\n",
    "* While `n != 1` (continue condition)\n",
    "    * `n = step(n)`"
   ]
  },
  {
   "cell_type": "code",
   "execution_count": null,
   "metadata": {
    "collapsed": false,
    "slideshow": {
     "slide_type": "slide"
    }
   },
   "outputs": [],
   "source": [
    "n = 5\n",
    "while n != 1:\n",
    "    print(n)\n",
    "    n = step(n)\n",
    "print(n)"
   ]
  },
  {
   "cell_type": "code",
   "execution_count": null,
   "metadata": {
    "collapsed": false,
    "slideshow": {
     "slide_type": "slide"
    }
   },
   "outputs": [],
   "source": [
    "#Important for spyder\n",
    "from __future__ import division\n",
    "def seq3np1(n):\n",
    "    ''' Prints the 3n+1 sequence starting at n '''\n",
    "    while n != 1:\n",
    "        print(n)\n",
    "        n = step(n)\n",
    "    print(n)    # the last print is 1"
   ]
  },
  {
   "cell_type": "code",
   "execution_count": null,
   "metadata": {
    "collapsed": false,
    "slideshow": {
     "slide_type": "slide"
    }
   },
   "outputs": [],
   "source": [
    "seq3np1(5)"
   ]
  },
  {
   "cell_type": "code",
   "execution_count": null,
   "metadata": {
    "collapsed": false,
    "slideshow": {
     "slide_type": "slide"
    }
   },
   "outputs": [],
   "source": [
    "seq3np1(27)"
   ]
  },
  {
   "cell_type": "markdown",
   "metadata": {
    "slideshow": {
     "slide_type": "slide"
    }
   },
   "source": [
    "**Try `seq3np1(27)` in `spyder`**"
   ]
  }
 ],
 "metadata": {
  "celltoolbar": "Slideshow",
  "kernelspec": {
   "display_name": "Python 3",
   "language": "python",
   "name": "python3"
  },
  "language_info": {
   "codemirror_mode": {
    "name": "ipython",
    "version": 3
   },
   "file_extension": ".py",
   "mimetype": "text/x-python",
   "name": "python",
   "nbconvert_exporter": "python",
   "pygments_lexer": "ipython3",
   "version": "3.4.1"
  }
 },
 "nbformat": 4,
 "nbformat_minor": 0
}
