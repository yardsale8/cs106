{
 "cells": [
  {
   "cell_type": "code",
   "execution_count": 4,
   "metadata": {
    "collapsed": false,
    "slideshow": {
     "slide_type": "skip"
    }
   },
   "outputs": [
    {
     "data": {
      "text/html": [
       "<style>\n",
       "\n",
       ".rendered_html\n",
       "{\n",
       "  color: #2C5494;\n",
       "  font-family: Ubuntu;\n",
       "  font-size: 250%;\n",
       "  line-height: 1.1;\n",
       "  margin: 0.5em 0;\n",
       "  }\n",
       "\n",
       ".title\n",
       "{\n",
       "  color: #498AF3;\n",
       "  font-size: 250%;\n",
       "  font-weight:bold;\n",
       "  line-height: 1.2; \n",
       "  margin: 10px 50px 10px;\n",
       "  }\n",
       "\n",
       ".subtitle\n",
       "{\n",
       "  color: #386BBC;\n",
       "  font-size: 180%;\n",
       "  font-weight:bold;\n",
       "  line-height: 1.2; \n",
       "  margin: 20px 50px 20px;\n",
       "  }\n",
       "\n",
       ".slide-header, p.slide-header\n",
       "{\n",
       "  color: #498AF3;\n",
       "  font-size: 200%;\n",
       "  font-weight:bold;\n",
       "  margin: 0px 20px 10px;\n",
       "  page-break-before: always;\n",
       "  text-align: center;\n",
       "  }\n",
       "\n",
       ".rendered_html h1\n",
       "{\n",
       "  color: #498AF3;\n",
       "  line-height: 1.2; \n",
       "  margin: 0.15em 0em 0.5em;\n",
       "  page-break-before: always;\n",
       "  text-align: center;\n",
       "  }\n",
       "\n",
       "\n",
       ".rendered_html h2\n",
       "{ \n",
       "  color: #386BBC;\n",
       "  line-height: 1.2;\n",
       "  margin: 1.1em 0em 0.5em;\n",
       "  }\n",
       "\n",
       ".rendered_html h3\n",
       "{ \n",
       "  font-size: 120%;\n",
       "  line-height: 1.4;\n",
       "  margin: 0.5em 0em 0.5em;\n",
       "  }\n",
       "\n",
       ".rendered_html li\n",
       "{\n",
       "  line-height: 1.8;\n",
       "  }\n",
       "\n",
       ".input_prompt, .CodeMirror-lines\n",
       "{\n",
       "  font-family: Consolas;\n",
       "  font-size: 200%;\n",
       "  line-height:1.4;\n",
       "  }\n",
       ".output_area\n",
       "{\n",
       "  font-family: Consolas;\n",
       "  font-size: 160%;\n",
       "  line-height:1.5;\n",
       "  }\n",
       "\n",
       ".gap-above\n",
       "{\n",
       "  padding-top: 200px;\n",
       "  }\n",
       "\n",
       ".gap01\n",
       "{\n",
       "  padding-top: 20px;\n",
       "  }\n",
       "\n",
       ".gap05\n",
       "{\n",
       "  padding-top: 100px;\n",
       "  }\n",
       "\n",
       ".gap1\n",
       "{\n",
       "  padding-top: 200px;\n",
       "  }\n",
       "\n",
       ".gap2\n",
       "{\n",
       "  padding-top: 400px;\n",
       "  }\n",
       "\n",
       ".gap3\n",
       "{\n",
       "  padding-top: 600px;\n",
       "  }\n",
       "\n",
       ".emph\n",
       "{\n",
       "  color: #386BBC;\n",
       "  }\n",
       "\n",
       ".warn\n",
       "{\n",
       "  color: red;\n",
       "  }\n",
       "\n",
       ".center\n",
       "{\n",
       "  text-align: center;\n",
       "  }\n",
       "\n",
       ".nb_link\n",
       "{\n",
       "    padding-bottom: 0.5em;\n",
       "}\n",
       "\n",
       "</style>\n"
      ],
      "text/plain": [
       "<IPython.core.display.HTML at 0x2c28f90>"
      ]
     },
     "metadata": {},
     "output_type": "display_data"
    }
   ],
   "source": [
    "%run talktools\n",
    "from __future__ import print_function, division"
   ]
  },
  {
   "cell_type": "markdown",
   "metadata": {
    "slideshow": {
     "slide_type": "slide"
    }
   },
   "source": [
    "## Functions and Abstraction\n",
    "\n",
    "Functions allow us to\n",
    "\n",
    "* Give many lines of code one name\n",
    "    * *abstraction*\n",
    "* Introduce parameters\n",
    "    * A form of variables\n",
    "    * Named \"holes\" in the code\n",
    "    * Allows *generalization*"
   ]
  },
  {
   "cell_type": "markdown",
   "metadata": {
    "slideshow": {
     "slide_type": "slide"
    }
   },
   "source": [
    "## Function Definition\n",
    "\n",
    "* A function is defined using a function definition.\n",
    "* Basic format\n",
    "* Only defines the function\n",
    "    * Body doesn't execute"
   ]
  },
  {
   "cell_type": "code",
   "execution_count": null,
   "metadata": {
    "collapsed": false,
    "slideshow": {
     "slide_type": "fragment"
    }
   },
   "outputs": [],
   "source": [
    "def name(parameters):\n",
    "    body"
   ]
  },
  {
   "cell_type": "markdown",
   "metadata": {
    "slideshow": {
     "slide_type": "slide"
    }
   },
   "source": [
    "## Function Parameters and Arguments\n",
    "\n",
    "* **Parameters** are the *names* of the input\n",
    "    * Defined in the function definition\n",
    "* **Arguments** are the values of the parameters\n",
    "    * Defined in function call"
   ]
  },
  {
   "cell_type": "markdown",
   "metadata": {
    "slideshow": {
     "slide_type": "slide"
    }
   },
   "source": [
    "### Example - Find the parameters and arguments"
   ]
  },
  {
   "cell_type": "code",
   "execution_count": null,
   "metadata": {
    "collapsed": false,
    "slideshow": {
     "slide_type": "fragment"
    }
   },
   "outputs": [],
   "source": [
    "from math import sqrt\n",
    "def distance(x, y):\n",
    "    dist = sqrt(x**2 + y**2)\n",
    "    print(dist)"
   ]
  },
  {
   "cell_type": "code",
   "execution_count": null,
   "metadata": {
    "collapsed": false,
    "slideshow": {
     "slide_type": "fragment"
    }
   },
   "outputs": [],
   "source": [
    "distance(3,4)"
   ]
  },
  {
   "cell_type": "code",
   "execution_count": null,
   "metadata": {
    "collapsed": false,
    "slideshow": {
     "slide_type": "fragment"
    }
   },
   "outputs": [],
   "source": [
    "distance(1,1)"
   ]
  },
  {
   "cell_type": "markdown",
   "metadata": {
    "slideshow": {
     "slide_type": "slide"
    }
   },
   "source": [
    "### Fruitful and Void Function\n",
    "\n",
    "* *Fruitful* functions return a value\n",
    "    * Contain a `return` statement\n",
    "* *Void* functions return `None`\n",
    "    * **Does not** contain `return`"
   ]
  },
  {
   "cell_type": "code",
   "execution_count": null,
   "metadata": {
    "collapsed": false,
    "slideshow": {
     "slide_type": "subslide"
    }
   },
   "outputs": [],
   "source": [
    "from math import sqrt\n",
    "# THIS IS BAD!\n",
    "def print_distance(x,y):\n",
    "    dist = sqrt(x**2 + y**2)\n",
    "    print(dist)\n",
    "\n",
    "# THIS IS GOOD!\n",
    "def return_distance(x,y):\n",
    "    dist = sqrt(x**2 + y**2)\n",
    "    return dist"
   ]
  },
  {
   "cell_type": "markdown",
   "metadata": {
    "slideshow": {
     "slide_type": "slide"
    }
   },
   "source": [
    "### What's wrong with print statements in functions\n",
    "\n",
    "* You can't use them in your program!\n",
    "    * They make it **LOOK** like you return a value\n",
    "    * You don't really return\n",
    "* **A good rule:** No print/input in functions\n",
    "    * except prints for debugging"
   ]
  },
  {
   "cell_type": "code",
   "execution_count": null,
   "metadata": {
    "collapsed": false,
    "slideshow": {
     "slide_type": "fragment"
    }
   },
   "outputs": [],
   "source": [
    "a = print_distance(3,4)\n",
    "print(a)"
   ]
  },
  {
   "cell_type": "code",
   "execution_count": null,
   "metadata": {
    "collapsed": false,
    "slideshow": {
     "slide_type": "fragment"
    }
   },
   "outputs": [],
   "source": [
    "b = return_distance(3,4)\n",
    "print(b)"
   ]
  },
  {
   "cell_type": "markdown",
   "metadata": {
    "slideshow": {
     "slide_type": "slide"
    }
   },
   "source": [
    "### Comments in code\n",
    "\n",
    "\n",
    "You can place a comment in code using a `#` at the start of the line"
   ]
  },
  {
   "cell_type": "code",
   "execution_count": 2,
   "metadata": {
    "collapsed": false,
    "slideshow": {
     "slide_type": "fragment"
    }
   },
   "outputs": [
    {
     "name": "stdout",
     "output_type": "stream",
     "text": [
      "Hello\n"
     ]
    }
   ],
   "source": [
    "# This line is ignored\n",
    "print(\"Hello\")"
   ]
  },
  {
   "cell_type": "markdown",
   "metadata": {
    "slideshow": {
     "slide_type": "slide"
    }
   },
   "source": [
    "### Doc Strings\n",
    "\n",
    "* Required for all functions \n",
    "    * by convention\n",
    "* Start on first line of definition\n",
    "* Use multi-line string\n",
    "    * `\"\"\" Example \"\"\"`\n",
    "   "
   ]
  },
  {
   "cell_type": "code",
   "execution_count": null,
   "metadata": {
    "collapsed": false,
    "slideshow": {
     "slide_type": "subslide"
    }
   },
   "outputs": [],
   "source": [
    "from math import sqrt\n",
    "def distance( x, y ):\n",
    "    \"\"\" Calculate the distance along the \n",
    "        hypotenuse of a right triangle with sides x and y\"\"\"\n",
    "    hyp = sqrt( x**2 + y**2)\n",
    "    return hyp"
   ]
  },
  {
   "cell_type": "markdown",
   "metadata": {
    "slideshow": {
     "slide_type": "subslide"
    }
   },
   "source": [
    "#### Doc strings and `help`\n",
    "\n",
    "When you call `help` on a function, you get the doc string.\n"
   ]
  },
  {
   "cell_type": "code",
   "execution_count": null,
   "metadata": {
    "collapsed": false,
    "slideshow": {
     "slide_type": "fragment"
    }
   },
   "outputs": [],
   "source": [
    "help(distance)"
   ]
  },
  {
   "cell_type": "markdown",
   "metadata": {
    "slideshow": {
     "slide_type": "fragment"
    }
   },
   "source": [
    "**This is why quality python code includes doc strings**"
   ]
  },
  {
   "cell_type": "markdown",
   "metadata": {
    "slideshow": {
     "slide_type": "slide"
    }
   },
   "source": [
    "### The Function Design Recipe\n",
    "\n",
    "We will use the following design recipe for building functions.\n",
    "\n",
    "This recipe and some of the examples/problems come from [How to Design Programs](http://htdp.org/2003-09-26/Book/curriculum-Z-H-5.html#node_sec_2.5)"
   ]
  },
  {
   "cell_type": "markdown",
   "metadata": {
    "slideshow": {
     "slide_type": "fragment"
    }
   },
   "source": [
    "**Purpose:** Provide a proven, quality approach to design. \n",
    "\n",
    "**Numbers:** The order in which you complete the recipe.\n",
    "\n"
   ]
  },
  {
   "cell_type": "markdown",
   "metadata": {
    "slideshow": {
     "slide_type": "subslide"
    }
   },
   "source": [
    "#### Design Steps\n",
    "\n",
    "1. Contract\n",
    "2. Purpose Statement\n",
    "3. Examples\n",
    "4. Refine definition (header and body)\n",
    "5. Test examples"
   ]
  },
  {
   "cell_type": "markdown",
   "metadata": {
    "slideshow": {
     "slide_type": "slide"
    }
   },
   "source": [
    "#### Example"
   ]
  },
  {
   "cell_type": "code",
   "execution_count": null,
   "metadata": {
    "collapsed": false,
    "slideshow": {
     "slide_type": "fragment"
    }
   },
   "outputs": [],
   "source": [
    "#4. Refine Definition and body\n",
    "def distance(x, y):\n",
    "    \"\"\" 1. Contract: distance(number, number) -> number\n",
    "        2. Purpose: Compute the length of the hypotenuse \n",
    "                    of a right triangle\n",
    "        3. Examples: distance(3,4) return 5\n",
    "                     distance(1,1) returns sqrt(2)\n",
    "    \"\"\"\n",
    "    hyp = sqrt(x**2 + y**2)\n",
    "    return hyp\n",
    "\n",
    "#5. Tests:\n",
    "#Define the tests\n",
    "def test_distance():\n",
    "    assert distance(3,4) == 5\n",
    "    assert distance(1,1) == sqrt(2)\n",
    "# Run the tests\n",
    "test_distance()"
   ]
  },
  {
   "cell_type": "markdown",
   "metadata": {
    "slideshow": {
     "slide_type": "slide"
    }
   },
   "source": [
    "### The Design Recipe Components\n",
    "\n",
    "#### 1. The Contract\n",
    "\n",
    "* Functions consume and produce data\n",
    "* The contract gives the type and number of inputs and outputs\n",
    "\n",
    "#### 2. The Purpose Statement\n",
    "\n",
    "* Describes *what* the function computes and why\n",
    "* Complete sentence"
   ]
  },
  {
   "cell_type": "markdown",
   "metadata": {
    "slideshow": {
     "slide_type": "subslide"
    }
   },
   "source": [
    "### The Design Recipe Components (cont.)\n",
    "\n",
    "#### 3. Examples:\n",
    "\n",
    "Make examples before writing the body\n",
    "\n",
    "* Working examples by hand helps understand the problem\n",
    "* Gives us examples for later testing\n",
    "\n",
    "**This is an important step that is overlooked by many students!**"
   ]
  },
  {
   "cell_type": "markdown",
   "metadata": {
    "slideshow": {
     "slide_type": "subslide"
    }
   },
   "source": [
    "### The Design Recipe Components (cont.)\n",
    "\n",
    "#### 4. Refine the definition and body\n",
    "\n",
    "You are now ready to write the function\n",
    "\n",
    "* many need to write/rewrite the header\n",
    "* make sure you return the output (if necessary)"
   ]
  },
  {
   "cell_type": "markdown",
   "metadata": {
    "slideshow": {
     "slide_type": "subslide"
    }
   },
   "source": [
    "### The Design Recipe Components (cont.)\n",
    "\n",
    "#### 5. Test Examples\n",
    "\n",
    "* An important design step is to test your code.\n",
    "* We will build testing of functions into the module.\n",
    "* Testing procedure will change as we gain tools.\n",
    "* There are important tools for testing."
   ]
  },
  {
   "cell_type": "markdown",
   "metadata": {
    "slideshow": {
     "slide_type": "subslide"
    }
   },
   "source": [
    "#### Making a test function\n",
    " \n",
    " \n",
    "**Name:** 'test_' + function name\n",
    " \n",
    " \n",
    "**Assertions:** use `assert function call == value`\n",
    "     * `assert` raises an exception if untrue\n",
    "     * Notice the 2 equals in `==` \n",
    "         * only using `=` is a bug (assignment)\n",
    " \n",
    " \n",
    "**Design then run the test function**"
   ]
  },
  {
   "cell_type": "markdown",
   "metadata": {
    "slideshow": {
     "slide_type": "slide"
    }
   },
   "source": [
    "### Example\n",
    "\n",
    "Design a function to compute the future value of a loan that starts with principal $P$ after $t$ years at an interest rate of $r$ compounded $n$ times a year.\n",
    "\n",
    "\n",
    "**Step 0** Research the topic on wikipedia etc."
   ]
  },
  {
   "cell_type": "code",
   "execution_count": 1,
   "metadata": {
    "collapsed": false,
    "slideshow": {
     "slide_type": "subslide"
    }
   },
   "outputs": [
    {
     "data": {
      "text/html": [
       "<iframe src=http://en.wikipedia.org/wiki/Compound_interest#Compound_Interest height=250 width=1000></iframe>"
      ],
      "text/plain": [
       "<IPython.core.display.HTML at 0x1035a3e80>"
      ]
     },
     "execution_count": 1,
     "metadata": {},
     "output_type": "execute_result"
    }
   ],
   "source": [
    "from IPython.display import HTML\n",
    "HTML('<iframe \\\n",
    "src=http://en.wikipedia.org/wiki/Compound_interest#Compound_Interest \\\n",
    "height=250 width=1000></iframe>')"
   ]
  },
  {
   "cell_type": "markdown",
   "metadata": {
    "slideshow": {
     "slide_type": "subslide"
    }
   },
   "source": [
    "#### Contract and Purpose\n",
    "\n",
    "Filled in a\n",
    "    * temparary header\n",
    "    * temparary body (use `pass`)"
   ]
  },
  {
   "cell_type": "code",
   "execution_count": null,
   "metadata": {
    "collapsed": false,
    "slideshow": {
     "slide_type": "fragment"
    }
   },
   "outputs": [],
   "source": [
    "def temp_header():\n",
    "    ''' Contract: interest( number, number, number, number) -> number\n",
    "        Purpose: Compute the future value of a loan with\n",
    "                  P - Principal amount\n",
    "                  r - annual interest rate\n",
    "                  n - number of times compounded a year\n",
    "                  t - time in years\n",
    "                  returns A - value at the end of t years\n",
    "    '''\n",
    "    pass"
   ]
  },
  {
   "cell_type": "markdown",
   "metadata": {},
   "source": [
    "#### Examples"
   ]
  },
  {
   "cell_type": "code",
   "execution_count": null,
   "metadata": {
    "collapsed": false,
    "slideshow": {
     "slide_type": "subslide"
    }
   },
   "outputs": [],
   "source": [
    "n = 4\n",
    "P = 10000\n",
    "r = 0.05\n",
    "t = 10\n",
    "A = P*(1+ r/n )**(n*t)\n",
    "print round(A,2)"
   ]
  },
  {
   "cell_type": "code",
   "execution_count": null,
   "metadata": {
    "collapsed": false,
    "slideshow": {
     "slide_type": "fragment"
    }
   },
   "outputs": [],
   "source": [
    "n = 12\n",
    "P = 100\n",
    "r = 0.10\n",
    "t = 5\n",
    "A = P*(1+ r/n )**(n*t)\n",
    "print round(A,2)"
   ]
  },
  {
   "cell_type": "code",
   "execution_count": null,
   "metadata": {
    "collapsed": false,
    "slideshow": {
     "slide_type": "subslide"
    }
   },
   "outputs": [],
   "source": [
    "def temp_header(n, P, r, t):\n",
    "    ''' Contract: interest(number,number,number,number)->number\n",
    "        Purpose: Compute the future value of a loan with\n",
    "                  n - number of times compounded a year\n",
    "                  P - Principal amount\n",
    "                  r - annual interest rate\n",
    "                  t - time in years\n",
    "                  returns A - value at the end of t years\n",
    "        Examples: round(interest(4, 10000, 0.05, 10),2) returns 16436.19\n",
    "                  round(interest(12, 100, 0.10, 5), 2) returns 164.53\n",
    "    '''\n",
    "    pass"
   ]
  },
  {
   "cell_type": "markdown",
   "metadata": {
    "slideshow": {
     "slide_type": "subslide"
    }
   },
   "source": [
    "#### Refine the header and body\n",
    "\n",
    "**Remember to watch out for integer division!  Always make the numerator a `float`**"
   ]
  },
  {
   "cell_type": "code",
   "execution_count": null,
   "metadata": {
    "collapsed": false,
    "slideshow": {
     "slide_type": "fragment"
    }
   },
   "outputs": [],
   "source": [
    "def interest(n, P, r, t):\n",
    "    ''' Contract: interest(number,number,number,number) -> number\n",
    "        Purpose: Compute the future value of a loan with\n",
    "                  n - number of times compounded a year\n",
    "                  P - Principal amount\n",
    "                  r - annual interest rate\n",
    "                  t - time in years\n",
    "                  returns A - value at the end of t years\n",
    "        Examples: round(interest(4, 10000, 0.05, 10),2) returns 16436.19\n",
    "                  round(interest(12, 100, 0.10, 5), 2) returns 164.53\n",
    "    '''\n",
    "    value = P*(1+ float(r)/n )**(n*t)\n",
    "    return value"
   ]
  },
  {
   "cell_type": "markdown",
   "metadata": {
    "slideshow": {
     "slide_type": "subslide"
    }
   },
   "source": [
    "#### Test examples\n",
    "\n",
    "\n",
    "*Notice that we round examples that use floating point numbers.*"
   ]
  },
  {
   "cell_type": "code",
   "execution_count": null,
   "metadata": {
    "collapsed": false,
    "slideshow": {
     "slide_type": "subslide"
    }
   },
   "outputs": [],
   "source": [
    "def interest(n, P, r, t):\n",
    "    ''' Contract: interest(number,number,number,number) -> number\n",
    "        Purpose: Compute the future value of a loan with\n",
    "                  n - number of times compounded a year\n",
    "                  P - Principal amount\n",
    "                  r - annual interest rate\n",
    "                  t - time in years\n",
    "                  returns A - value at the end of t years\n",
    "        Examples: round(interest(4, 10000, 0.05, 10),2) returns 16436.19\n",
    "                  round(interest(12, 100, 0.10, 5), 2) returns 164.53\n",
    "    '''\n",
    "    value = P*(1+ float(r)/n )**(n*t)\n",
    "    return value\n",
    "\n",
    "def test_interest():\n",
    "    assert round(interest(4, 10000, 0.05, 10),2) == 16436.19\n",
    "    assert round(interest(12, 100, 0.10, 5), 2) == 164.53\n",
    "test_interest()"
   ]
  },
  {
   "cell_type": "markdown",
   "metadata": {
    "slideshow": {
     "slide_type": "subslide"
    }
   },
   "source": [
    "#### When Tests Fail\n",
    "\n",
    "* Nothing happened on the last example (GOOD!)\n",
    "* Let's see what happens when we fail a test (BAD!)\n",
    "    * Change one of the values"
   ]
  },
  {
   "cell_type": "code",
   "execution_count": null,
   "metadata": {
    "collapsed": false,
    "slideshow": {
     "slide_type": "subslide"
    }
   },
   "outputs": [],
   "source": [
    "def interest(n, P, r, t):\n",
    "    ''' Contract: interest( n(number), P(number), r(number), t(number)) -> number\n",
    "        Purpose: Compute the future value of a loan with\n",
    "                  n - number of times compounded a year\n",
    "                  P - Principal amount\n",
    "                  r - annual interest rate\n",
    "                  t - time in years\n",
    "                  returns A - value at the end of t years\n",
    "        Examples: round(interest(4, 10000, 0.05, 10),2) returns 16436.19\n",
    "                  round(interest(12, 100, 0.10, 5), 2) returns 164.53\n",
    "    '''\n",
    "    value = P*(1+ float(r)/n )**(n*t)\n",
    "    return value\n",
    "\n",
    "def test_interest():\n",
    "    assert round(interest(4, 10000, 0.05, 10),2) == 5\n",
    "    assert round(interest(12, 100, 0.10, 5), 2) == 164.53\n",
    "test_interest()"
   ]
  }
 ],
 "metadata": {
  "celltoolbar": "Slideshow",
  "kernelspec": {
   "display_name": "Python 3",
   "language": "python",
   "name": "python3"
  },
  "language_info": {
   "codemirror_mode": {
    "name": "ipython",
    "version": 3
   },
   "file_extension": ".py",
   "mimetype": "text/x-python",
   "name": "python",
   "nbconvert_exporter": "python",
   "pygments_lexer": "ipython3",
   "version": "3.4.3"
  }
 },
 "nbformat": 4,
 "nbformat_minor": 0
}
