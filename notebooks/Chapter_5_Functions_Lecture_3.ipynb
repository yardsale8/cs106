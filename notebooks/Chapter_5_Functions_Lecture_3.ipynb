{
 "cells": [
  {
   "cell_type": "code",
   "execution_count": null,
   "metadata": {
    "collapsed": false,
    "slideshow": {
     "slide_type": "skip"
    }
   },
   "outputs": [],
   "source": [
    "%run talktools"
   ]
  },
  {
   "cell_type": "markdown",
   "metadata": {
    "slideshow": {
     "slide_type": "slide"
    }
   },
   "source": [
    "### The Accumulator Pattern\n",
    "\n",
    "We *accumulate* the answer over many interations.\n",
    "\n",
    "1. Start with `accumulator` = starting value\n",
    "    1. Many times starting value is nothing\n",
    "2. Use a `for` loop\n",
    "3. Update the `accumulator` each step"
   ]
  },
  {
   "cell_type": "markdown",
   "metadata": {
    "slideshow": {
     "slide_type": "slide"
    }
   },
   "source": [
    "#### Books example"
   ]
  },
  {
   "cell_type": "code",
   "execution_count": 2,
   "metadata": {
    "collapsed": false,
    "slideshow": {
     "slide_type": "fragment"
    }
   },
   "outputs": [],
   "source": [
    "def accumulator_square(x):\n",
    "    ''' add x to accumulator x times\n",
    "        examples: 2**2 = 2 + 2\n",
    "                  3**2 = 3 + 3 + 3\n",
    "                  4**2 = 4 + 4 + 4 + 4\n",
    "    '''\n",
    "    acc = 0\n",
    "    for i in range(x):\n",
    "        acc = acc + x\n",
    "    return acc"
   ]
  },
  {
   "cell_type": "code",
   "execution_count": 3,
   "metadata": {
    "collapsed": false,
    "slideshow": {
     "slide_type": "fragment"
    }
   },
   "outputs": [
    {
     "data": {
      "text/plain": [
       "16"
      ]
     },
     "execution_count": 3,
     "metadata": {},
     "output_type": "execute_result"
    }
   ],
   "source": [
    "accumulator_square(4)"
   ]
  },
  {
   "cell_type": "markdown",
   "metadata": {
    "slideshow": {
     "slide_type": "slide"
    }
   },
   "source": [
    "#### Example - Compute interest with accumulator pattern.\n",
    "\n",
    "$$ A = P\\left(1 + \\frac{r}{n}\\right)^{nt} =  P*\\underbrace{\\left(1 + \\frac{r}{n}\\right)*\\cdots*\\left(1 + \\frac{r}{n}\\right)}_{\\text{$nt$ times}}$$ \n",
    "\n",
    "We will multiply $P$ by $\\left(1 + \\frac{r}{n}\\right)$ a total of $nt$ times."
   ]
  },
  {
   "cell_type": "code",
   "execution_count": 2,
   "metadata": {
    "collapsed": false,
    "slideshow": {
     "slide_type": "fragment"
    }
   },
   "outputs": [],
   "source": [
    "def accum_interest(n, P, r, t):\n",
    "    ''' Calculate the interest using the accumulator pattern '''\n",
    "    acc = P\n",
    "    for i in range(n*t):\n",
    "        acc = acc * (1 + r/n)\n",
    "    return round(acc, 2)"
   ]
  },
  {
   "cell_type": "code",
   "execution_count": 3,
   "metadata": {
    "collapsed": false,
    "slideshow": {
     "slide_type": "fragment"
    }
   },
   "outputs": [
    {
     "data": {
      "text/plain": [
       "16436.19"
      ]
     },
     "execution_count": 3,
     "metadata": {},
     "output_type": "execute_result"
    }
   ],
   "source": [
    "accum_interest(4, 10000, 0.05, 10)"
   ]
  },
  {
   "cell_type": "markdown",
   "metadata": {
    "slideshow": {
     "slide_type": "slide"
    }
   },
   "source": [
    "### Flow of Execution\n",
    "\n",
    "* The function definition doesn't execute the function, just defines\n",
    "* A function call\n",
    "    * sets the value of arguments\n",
    "    * Executes the body\n",
    "    * Returns to the main loop\n",
    "* Function might call other functions."
   ]
  },
  {
   "cell_type": "markdown",
   "metadata": {
    "slideshow": {
     "slide_type": "slide"
    }
   },
   "source": [
    "#### Example 1 - Using `spyder` to track the flow of execution"
   ]
  },
  {
   "cell_type": "code",
   "execution_count": 14,
   "metadata": {
    "collapsed": false,
    "slideshow": {
     "slide_type": "fragment"
    }
   },
   "outputs": [
    {
     "name": "stdout",
     "output_type": "stream",
     "text": [
      "125\n"
     ]
    }
   ],
   "source": [
    "def pow(x,y):\n",
    "    out = x**y\n",
    "    return out\n",
    "x = 5\n",
    "y = pow(x, 3)\n",
    "print(y)"
   ]
  },
  {
   "cell_type": "markdown",
   "metadata": {
    "slideshow": {
     "slide_type": "fragment"
    }
   },
   "source": [
    "1. Copy the above code into spyder.\n",
    "\n",
    "2. Start `Debugging` the file.\n",
    "<img src=\"files/spyder_debug.png\"/>\n",
    "3. Put the cursor at the top of the file.\n",
    "4. Step through the file line by line.\n",
    "<img src=\"files/spyder_step_into.png\"/>\n"
   ]
  },
  {
   "cell_type": "markdown",
   "metadata": {
    "slideshow": {
     "slide_type": "slide"
    }
   },
   "source": [
    "#### Example 2 - Use the `spyder` debugger to follow the flow of execution"
   ]
  },
  {
   "cell_type": "code",
   "execution_count": 12,
   "metadata": {
    "collapsed": false,
    "slideshow": {
     "slide_type": "fragment"
    }
   },
   "outputs": [
    {
     "name": "stdout",
     "output_type": "stream",
     "text": [
      "30\n"
     ]
    }
   ],
   "source": [
    "def pow(x,y):\n",
    "    out = x**y\n",
    "    return out\n",
    "\n",
    "\n",
    "def add(x,y):\n",
    "    out = x + y\n",
    "    return out\n",
    "\n",
    "x = 5\n",
    "y = pow(x, 2)\n",
    "z = add(x, y)\n",
    "print(z)"
   ]
  },
  {
   "cell_type": "markdown",
   "metadata": {
    "slideshow": {
     "slide_type": "slide"
    }
   },
   "source": [
    "**Example 3 - Use the `spyder` debugger to follow the flow of execution**"
   ]
  },
  {
   "cell_type": "code",
   "execution_count": 15,
   "metadata": {
    "collapsed": false,
    "slideshow": {
     "slide_type": "fragment"
    }
   },
   "outputs": [
    {
     "name": "stdout",
     "output_type": "stream",
     "text": [
      "34\n"
     ]
    }
   ],
   "source": [
    "def pow(x,y):\n",
    "    out = x**y\n",
    "    return out\n",
    "def add(x,y):\n",
    "    out = x + y\n",
    "    return out\n",
    "def sum_of_squares(x,y):\n",
    "    x2 = pow(x,2)\n",
    "    y2 = pow(y, 2)\n",
    "    total = add(x2, y2)\n",
    "    return total\n",
    "\n",
    "x = 5\n",
    "y = 3\n",
    "z = sum_of_squares(x, y)\n",
    "print(z)"
   ]
  },
  {
   "cell_type": "code",
   "execution_count": null,
   "metadata": {
    "collapsed": false
   },
   "outputs": [],
   "source": []
  }
 ],
 "metadata": {
  "celltoolbar": "Slideshow",
  "kernelspec": {
   "display_name": "Python 3",
   "language": "python",
   "name": "python3"
  },
  "language_info": {
   "codemirror_mode": {
    "name": "ipython",
    "version": 3
   },
   "file_extension": ".py",
   "mimetype": "text/x-python",
   "name": "python",
   "nbconvert_exporter": "python",
   "pygments_lexer": "ipython3",
   "version": "3.4.1"
  }
 },
 "nbformat": 4,
 "nbformat_minor": 0
}
