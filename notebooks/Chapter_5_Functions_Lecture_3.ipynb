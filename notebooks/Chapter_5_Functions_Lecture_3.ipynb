{
 "metadata": {
  "celltoolbar": "Slideshow",
  "name": "",
  "signature": "sha256:491b914b3ce05b06db478459248df4b2ab1dcd510af8328a1f623df9903e251d"
 },
 "nbformat": 3,
 "nbformat_minor": 0,
 "worksheets": [
  {
   "cells": [
    {
     "cell_type": "code",
     "collapsed": false,
     "input": [
      "%run talktools"
     ],
     "language": "python",
     "metadata": {
      "slideshow": {
       "slide_type": "skip"
      }
     },
     "outputs": []
    },
    {
     "cell_type": "markdown",
     "metadata": {
      "slideshow": {
       "slide_type": "slide"
      }
     },
     "source": [
      "### The Accumulator Pattern\n",
      "\n",
      "We *accumulate* the answer over many interations.\n",
      "\n",
      "1. Start with `accumulator` = starting value\n",
      "    1. Many times starting value is nothing\n",
      "2. Use a `for` loop\n",
      "3. Update the `accumulator` each step"
     ]
    },
    {
     "cell_type": "markdown",
     "metadata": {
      "slideshow": {
       "slide_type": "slide"
      }
     },
     "source": [
      "#### Books example"
     ]
    },
    {
     "cell_type": "code",
     "collapsed": false,
     "input": [
      "def accumulator_square(x):\n",
      "    ''' add x to accumulator x times\n",
      "        examples: 2**2 = 2 + 2\n",
      "                  3**2 = 3 + 3 + 3\n",
      "                  4**2 = 4 + 4 + 4 + 4\n",
      "    '''\n",
      "    acc = 0\n",
      "    for i in range(x):\n",
      "        acc = acc + x\n",
      "    return acc"
     ],
     "language": "python",
     "metadata": {
      "slideshow": {
       "slide_type": "fragment"
      }
     },
     "outputs": [],
     "prompt_number": 2
    },
    {
     "cell_type": "code",
     "collapsed": false,
     "input": [
      "accumulator_square(4)"
     ],
     "language": "python",
     "metadata": {
      "slideshow": {
       "slide_type": "fragment"
      }
     },
     "outputs": [
      {
       "metadata": {},
       "output_type": "pyout",
       "prompt_number": 3,
       "text": [
        "16"
       ]
      }
     ],
     "prompt_number": 3
    },
    {
     "cell_type": "markdown",
     "metadata": {
      "slideshow": {
       "slide_type": "slide"
      }
     },
     "source": [
      "#### Example - Compute interest with accumulator pattern.\n",
      "\n",
      "$$ A = P\\left(1 + \\frac{r}{n}\\right)^{nt} =  P*\\underbrace{\\left(1 + \\frac{r}{n}\\right)*\\cdots*\\left(1 + \\frac{r}{n}\\right)}_{\\text{$nt$ times}}$$ \n",
      "\n",
      "We will multiply $P$ by $\\left(1 + \\frac{r}{n}\\right)$ a total of $nt$ times."
     ]
    },
    {
     "cell_type": "code",
     "collapsed": false,
     "input": [
      "def accum_interest(n, P, r, t):\n",
      "    ''' Calculate the interest using the accumulator pattern '''\n",
      "    acc = P\n",
      "    for i in range(n*t):\n",
      "        acc = acc * (1 + r/n)\n",
      "    return acc"
     ],
     "language": "python",
     "metadata": {
      "slideshow": {
       "slide_type": "fragment"
      }
     },
     "outputs": [],
     "prompt_number": 9
    },
    {
     "cell_type": "code",
     "collapsed": false,
     "input": [
      "accum_interest(4, 10000, 0.05, 10)"
     ],
     "language": "python",
     "metadata": {
      "slideshow": {
       "slide_type": "fragment"
      }
     },
     "outputs": [
      {
       "metadata": {},
       "output_type": "pyout",
       "prompt_number": 10,
       "text": [
        "16436.19463487011"
       ]
      }
     ],
     "prompt_number": 10
    },
    {
     "cell_type": "markdown",
     "metadata": {
      "slideshow": {
       "slide_type": "slide"
      }
     },
     "source": [
      "### Flow of Execution\n",
      "\n",
      "* The function definition doesn't execute the function, just defines\n",
      "* A function call\n",
      "    * sets the value of arguments\n",
      "    * Executes the body\n",
      "    * Returns to the main loop\n",
      "* Function might call other functions."
     ]
    },
    {
     "cell_type": "markdown",
     "metadata": {
      "slideshow": {
       "slide_type": "slide"
      }
     },
     "source": [
      "#### Example 1 - Using `spyder` to track the flow of execution"
     ]
    },
    {
     "cell_type": "code",
     "collapsed": false,
     "input": [
      "def pow(x,y):\n",
      "    out = x**y\n",
      "    return out\n",
      "x = 5\n",
      "y = pow(x, 3)\n",
      "print(y)"
     ],
     "language": "python",
     "metadata": {
      "slideshow": {
       "slide_type": "fragment"
      }
     },
     "outputs": [
      {
       "output_type": "stream",
       "stream": "stdout",
       "text": [
        "125\n"
       ]
      }
     ],
     "prompt_number": 14
    },
    {
     "cell_type": "markdown",
     "metadata": {
      "slideshow": {
       "slide_type": "fragment"
      }
     },
     "source": [
      "1. Copy the above code into spyder.\n",
      "\n",
      "2. Start `Debugging` the file.\n",
      "<img src=\"files/spyder_debug.png\"/>\n",
      "3. Put the cursor at the top of the file.\n",
      "4. Step through the file line by line.\n",
      "<img src=\"files/spyder_step_into.png\"/>\n"
     ]
    },
    {
     "cell_type": "markdown",
     "metadata": {
      "slideshow": {
       "slide_type": "slide"
      }
     },
     "source": [
      "#### Example 2 - Use the `spyder` debugger to follow the flow of execution"
     ]
    },
    {
     "cell_type": "code",
     "collapsed": false,
     "input": [
      "def pow(x,y):\n",
      "    out = x**y\n",
      "    return out\n",
      "\n",
      "\n",
      "def add(x,y):\n",
      "    out = x + y\n",
      "    return out\n",
      "\n",
      "x = 5\n",
      "y = pow(x, 2)\n",
      "z = add(x, y)\n",
      "print(z)"
     ],
     "language": "python",
     "metadata": {
      "slideshow": {
       "slide_type": "fragment"
      }
     },
     "outputs": [
      {
       "output_type": "stream",
       "stream": "stdout",
       "text": [
        "30\n"
       ]
      }
     ],
     "prompt_number": 12
    },
    {
     "cell_type": "markdown",
     "metadata": {
      "slideshow": {
       "slide_type": "slide"
      }
     },
     "source": [
      "**Example 3 - Use the `spyder` debugger to follow the flow of execution**"
     ]
    },
    {
     "cell_type": "code",
     "collapsed": false,
     "input": [
      "def pow(x,y):\n",
      "    out = x**y\n",
      "    return out\n",
      "def add(x,y):\n",
      "    out = x + y\n",
      "    return out\n",
      "def sum_of_squares(x,y):\n",
      "    x2 = pow(x,2)\n",
      "    y2 = pow(y, 2)\n",
      "    total = add(x2, y2)\n",
      "    return total\n",
      "\n",
      "x = 5\n",
      "y = 3\n",
      "z = sum_of_squares(x, y)\n",
      "print(z)"
     ],
     "language": "python",
     "metadata": {
      "slideshow": {
       "slide_type": "fragment"
      }
     },
     "outputs": [
      {
       "output_type": "stream",
       "stream": "stdout",
       "text": [
        "34\n"
       ]
      }
     ],
     "prompt_number": 15
    },
    {
     "cell_type": "code",
     "collapsed": false,
     "input": [],
     "language": "python",
     "metadata": {},
     "outputs": []
    }
   ],
   "metadata": {}
  }
 ]
}