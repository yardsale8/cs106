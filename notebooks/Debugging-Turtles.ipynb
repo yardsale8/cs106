{
 "metadata": {
  "name": "",
  "signature": "sha256:a0060cbceb9f2ce307c0c79519781235c6ac3964d245386b1ac1fcee2cb8e54c"
 },
 "nbformat": 3,
 "nbformat_minor": 0,
 "worksheets": [
  {
   "cells": [
    {
     "cell_type": "markdown",
     "metadata": {
      "slideshow": {
       "slide_type": "slide"
      }
     },
     "source": [
      "# Chapter 3 - Debugging Code"
     ]
    },
    {
     "cell_type": "markdown",
     "metadata": {
      "slideshow": {
       "slide_type": "slide"
      }
     },
     "source": [
      "## How to Avoid Debugging\n",
      "\n",
      "* Work in Small Chunks\n",
      "    * Write a few lines\n",
      "    * Test the results\n",
      "    * Write a few lines\n",
      "    * Test the results\n",
      "    * etc.\n",
      "* Keep it working!\n",
      "    * Fix errors right away"
     ]
    },
    {
     "cell_type": "markdown",
     "metadata": {
      "slideshow": {
       "slide_type": "slide"
      }
     },
     "source": [
      "## Tips for Debugging\n",
      "\n",
      "* It's **really** not `pythons` fault\n",
      "* Use print statements to see values as code executes\n",
      "* Test code in the interpreter"
     ]
    },
    {
     "cell_type": "markdown",
     "metadata": {
      "slideshow": {
       "slide_type": "slide"
      }
     },
     "source": [
      "## Reading error messages\n",
      "\n",
      "  <font color=\"red\"> NameError:</font> <font color='green'>name 'wait_time_int' is not defined</font><font color='blue'> on line 5</font>\n",
      "  \n",
      "1. <font color='blue'> The line number</font>\n",
      "2.  <font color=\"red\"> The type of error</font>\n",
      "3. <font color='green'> Description</font>\n"
     ]
    },
    {
     "cell_type": "markdown",
     "metadata": {
      "slideshow": {
       "slide_type": "slide"
      }
     },
     "source": [
      "## Common Errors - Type Error\n",
      "\n",
      "* Example: Trying to add a `int` and `str`"
     ]
    },
    {
     "cell_type": "code",
     "collapsed": false,
     "input": [
      "1 + \"3\""
     ],
     "language": "python",
     "metadata": {
      "slideshow": {
       "slide_type": "fragment"
      }
     },
     "outputs": [
      {
       "ename": "TypeError",
       "evalue": "unsupported operand type(s) for +: 'int' and 'str'",
       "output_type": "pyerr",
       "traceback": [
        "\u001b[0;31m---------------------------------------------------------------------------\u001b[0m\n\u001b[0;31mTypeError\u001b[0m                                 Traceback (most recent call last)",
        "\u001b[0;32m<ipython-input-1-a9d4b5316843>\u001b[0m in \u001b[0;36m<module>\u001b[0;34m()\u001b[0m\n\u001b[0;32m----> 1\u001b[0;31m \u001b[0;36m1\u001b[0m \u001b[0;34m+\u001b[0m \u001b[0;34m\"3\"\u001b[0m\u001b[0;34m\u001b[0m\u001b[0m\n\u001b[0m",
        "\u001b[0;31mTypeError\u001b[0m: unsupported operand type(s) for +: 'int' and 'str'"
       ]
      }
     ],
     "prompt_number": 1
    },
    {
     "cell_type": "markdown",
     "metadata": {
      "slideshow": {
       "slide_type": "slide"
      }
     },
     "source": [
      "## Common Errors - Name Error\n",
      "\n",
      "* Example: Calling an undefined variable name"
     ]
    },
    {
     "cell_type": "code",
     "collapsed": false,
     "input": [
      "x = 5\n",
      "x = X + 5"
     ],
     "language": "python",
     "metadata": {
      "slideshow": {
       "slide_type": "fragment"
      }
     },
     "outputs": [
      {
       "ename": "NameError",
       "evalue": "name 'X' is not defined",
       "output_type": "pyerr",
       "traceback": [
        "\u001b[0;31m---------------------------------------------------------------------------\u001b[0m\n\u001b[0;31mNameError\u001b[0m                                 Traceback (most recent call last)",
        "\u001b[0;32m<ipython-input-2-ce752cdf74c8>\u001b[0m in \u001b[0;36m<module>\u001b[0;34m()\u001b[0m\n\u001b[1;32m      1\u001b[0m \u001b[0mx\u001b[0m \u001b[0;34m=\u001b[0m \u001b[0;36m5\u001b[0m\u001b[0;34m\u001b[0m\u001b[0m\n\u001b[0;32m----> 2\u001b[0;31m \u001b[0mx\u001b[0m \u001b[0;34m=\u001b[0m \u001b[0mX\u001b[0m \u001b[0;34m+\u001b[0m \u001b[0;36m5\u001b[0m\u001b[0;34m\u001b[0m\u001b[0m\n\u001b[0m",
        "\u001b[0;31mNameError\u001b[0m: name 'X' is not defined"
       ]
      }
     ],
     "prompt_number": 2
    },
    {
     "cell_type": "markdown",
     "metadata": {
      "slideshow": {
       "slide_type": "slide"
      }
     },
     "source": [
      "## Common Errors - Value Error\n",
      "\n",
      "* Right type, wrong value"
     ]
    },
    {
     "cell_type": "code",
     "collapsed": false,
     "input": [
      "(-1)**(0.5)"
     ],
     "language": "python",
     "metadata": {
      "slideshow": {
       "slide_type": "fragment"
      }
     },
     "outputs": [
      {
       "metadata": {},
       "output_type": "pyout",
       "prompt_number": 3,
       "text": [
        "(6.123233995736766e-17+1j)"
       ]
      }
     ],
     "prompt_number": 3
    },
    {
     "cell_type": "markdown",
     "metadata": {},
     "source": [
      "# Hello, Little Turtle\n",
      "\n",
      " We will use the `turtle` module to\n",
      " \n",
      "1. Introduce *imperative* programming\n",
      "2. Eliminate repetition with the `for` loop\n",
      "3. Introduce the concept of *classes* and *objects*"
     ]
    },
    {
     "cell_type": "markdown",
     "metadata": {},
     "source": [
      "## Importing the turtle module - three ways"
     ]
    },
    {
     "cell_type": "markdown",
     "metadata": {},
     "source": [
      "### `import` statement and using the `turtle.` prefix"
     ]
    },
    {
     "cell_type": "code",
     "collapsed": false,
     "input": [
      "import turtle\n",
      "window = turtle.Screen()\n",
      "bob = turtle.Turtle()\n",
      "bob.forward(90)\n",
      "bob.left(180)\n",
      "bob.forward(90)\n",
      "window.exitonclick()"
     ],
     "language": "python",
     "metadata": {},
     "outputs": [],
     "prompt_number": 5
    },
    {
     "cell_type": "markdown",
     "metadata": {},
     "source": [
      "### `import ... as alias` statement and using the `alias.` prefix"
     ]
    },
    {
     "cell_type": "code",
     "collapsed": false,
     "input": [
      "import turtle as t\n",
      "window = t.Screen()\n",
      "bob = t.Turtle()\n",
      "bob.forward(90)\n",
      "bob.left(180)\n",
      "bob.forward(90)\n",
      "window.exitonclick()"
     ],
     "language": "python",
     "metadata": {},
     "outputs": [],
     "prompt_number": 7
    },
    {
     "cell_type": "markdown",
     "metadata": {},
     "source": [
      "### `from ... import *` command and no prefix"
     ]
    },
    {
     "cell_type": "code",
     "collapsed": false,
     "input": [
      "from turtle import *\n",
      "window = Screen()\n",
      "bob = Turtle()\n",
      "bob.forward(90)\n",
      "bob.left(180)\n",
      "bob.forward(90)\n",
      "window.exitonclick()"
     ],
     "language": "python",
     "metadata": {},
     "outputs": [],
     "prompt_number": 8
    },
    {
     "cell_type": "markdown",
     "metadata": {},
     "source": [
      "### Use `from` to narrow the import list"
     ]
    },
    {
     "cell_type": "code",
     "collapsed": false,
     "input": [
      "from turtle import Screen, Turtle\n",
      "window = Screen()\n",
      "bob = Turtle()\n",
      "bob.forward(90)\n",
      "bob.left(180)\n",
      "bob.forward(90)\n",
      "window.exitonclick()"
     ],
     "language": "python",
     "metadata": {},
     "outputs": [],
     "prompt_number": 9
    },
    {
     "cell_type": "markdown",
     "metadata": {},
     "source": [
      "## Important Principle - DRY\n",
      "\n",
      "*D*on't *R*epeat *Y*ourself\n",
      "\n",
      "**OR**\n",
      "\n",
      "*Once and Only Once*\n",
      "\n",
      "The point is to eliminate repeated code through *abstraction*"
     ]
    },
    {
     "cell_type": "markdown",
     "metadata": {},
     "source": [
      "## Illiminating Repeated Code with the `for` loop\n",
      "\n",
      "* `for` is for Code repeated a predetermined number of times"
     ]
    },
    {
     "cell_type": "markdown",
     "metadata": {},
     "source": [
      "### Code with repetition"
     ]
    },
    {
     "cell_type": "code",
     "collapsed": false,
     "input": [
      "from turtle import Screen, Turtle\n",
      "window = Screen()\n",
      "bob = Turtle()\n",
      "#Repeat 1\n",
      "bob.forward(200)\n",
      "bob.left(90)\n",
      "#Repeat 2\n",
      "bob.forward(200)\n",
      "bob.left(90)\n",
      "#Repeat 3\n",
      "bob.forward(200)\n",
      "bob.left(90)\n",
      "#Repeat 4\n",
      "bob.forward(200)\n",
      "bob.left(90)\n",
      "window.exitonclick()"
     ],
     "language": "python",
     "metadata": {},
     "outputs": [],
     "prompt_number": 10
    },
    {
     "cell_type": "markdown",
     "metadata": {},
     "source": [
      "### Repetition removed"
     ]
    },
    {
     "cell_type": "code",
     "collapsed": false,
     "input": [
      "from turtle import Screen, Turtle\n",
      "window = Screen()\n",
      "bob = Turtle()\n",
      "for i in range(4):\n",
      "    bob.forward(200)\n",
      "    bob.left(90)\n",
      "window.exitonclick()"
     ],
     "language": "python",
     "metadata": {},
     "outputs": [],
     "prompt_number": 11
    },
    {
     "cell_type": "markdown",
     "metadata": {},
     "source": [
      "## Why Remove Repeated Code?\n",
      "\n",
      "Removing repetition\n",
      "\n",
      "* Only one error to fix\n",
      "* Less code $\\longrightarrow$ easier to understand"
     ]
    },
    {
     "cell_type": "code",
     "collapsed": false,
     "input": [],
     "language": "python",
     "metadata": {},
     "outputs": []
    }
   ],
   "metadata": {}
  }
 ]
}