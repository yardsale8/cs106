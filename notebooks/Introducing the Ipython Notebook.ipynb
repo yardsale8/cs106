{
 "metadata": {
  "name": ""
 },
 "nbformat": 3,
 "nbformat_minor": 0,
 "worksheets": [
  {
   "cells": [
    {
     "cell_type": "code",
     "collapsed": false,
     "input": [
      "from __future__ import print_function, division"
     ],
     "language": "python",
     "metadata": {},
     "outputs": []
    },
    {
     "cell_type": "markdown",
     "metadata": {},
     "source": [
      "## The Ipython Notebook\n",
      "\n",
      "* Two part application\n",
      "    * *kernel*\n",
      "        * Runs in the background\n",
      "        * Processes the `python`\n",
      "    * *notebook*\n",
      "        * Runs in a browser\n",
      "            * Firefox is best based on experience\n",
      "        * Communicates with the kernel"
     ]
    },
    {
     "cell_type": "markdown",
     "metadata": {},
     "source": [
      "## Starting an `Ipython notebook`\n",
      "\n",
      "1. Goto the`notebook` folder of the `python` folder on your desktop\n",
      "2. Click on click on `ipython_notebook.bat`\n",
      "    - This will start the kernel (block cmd window) and open the notebook in the default browser."
     ]
    },
    {
     "cell_type": "markdown",
     "metadata": {},
     "source": [
      "## The Notebook\n",
      "\n",
      "* Made of **blocks** of code and text\n",
      "    * Types include code, heading, and markdown.\n",
      "* Code blocks\n",
      "    * For executing `python` (and more!)\n",
      "    * Need to run each block\n",
      "    * Order of execution matters!"
     ]
    },
    {
     "cell_type": "markdown",
     "metadata": {},
     "source": [
      "### Exercise: Order of Execuation Matters\n",
      "1. Determine the correct value of area.\n",
      "2. Execute the second block first\n",
      "    1. Place curser in block\n",
      "    2. Click *the play button* or *Ctrl-Enter*\n",
      "    3. Question: What went wrong?\n",
      "3. Now execute both block in the correct order."
     ]
    },
    {
     "cell_type": "code",
     "collapsed": false,
     "input": [
      "length = 5\n",
      "width = 4"
     ],
     "language": "python",
     "metadata": {},
     "outputs": []
    },
    {
     "cell_type": "code",
     "collapsed": false,
     "input": [
      "area = length*width\n",
      "print(\"The area is\", area)"
     ],
     "language": "python",
     "metadata": {},
     "outputs": []
    },
    {
     "cell_type": "heading",
     "level": 1,
     "metadata": {},
     "source": [
      "Markdown Cells"
     ]
    },
    {
     "cell_type": "markdown",
     "metadata": {},
     "source": [
      "Text can be added to IPython Notebooks using Markdown cells.  Markdown is a popular markup language that is a superset of HTML. Its specification can be found here:\n",
      "\n",
      "<http://daringfireball.net/projects/markdown/>"
     ]
    },
    {
     "cell_type": "heading",
     "level": 2,
     "metadata": {},
     "source": [
      "Markdown basics"
     ]
    },
    {
     "cell_type": "markdown",
     "metadata": {},
     "source": [
      "You can make text `code`, *italic*, or **bold**."
     ]
    },
    {
     "cell_type": "markdown",
     "metadata": {},
     "source": [
      "### Unordered Lists\n",
      "\n",
      "* One\n",
      "    - Sublist\n",
      "        - This\n",
      "  - Sublist\n",
      "        - That\n",
      "        - The other thing\n",
      "* Two\n",
      "  - Sublist\n",
      "* Three\n",
      "  - Sublist"
     ]
    },
    {
     "cell_type": "markdown",
     "metadata": {},
     "source": [
      "### Ordered Lists\n",
      "\n",
      "1. Here we go\n",
      "    1. Sublist\n",
      "    2. Sublist\n",
      "2. There we go\n",
      "3. Now this"
     ]
    },
    {
     "cell_type": "markdown",
     "metadata": {},
     "source": [
      "### Links\n",
      "\n",
      "[IPython's website](http://ipython.org)"
     ]
    },
    {
     "cell_type": "heading",
     "level": 2,
     "metadata": {},
     "source": [
      "Headings"
     ]
    },
    {
     "cell_type": "markdown",
     "metadata": {},
     "source": [
      "If you want, you can add headings using Markdown's syntax:\n",
      "\n",
      "# Heading 1\n",
      "# Heading 2\n",
      "## Heading 2.1\n",
      "## Heading 2.2"
     ]
    },
    {
     "cell_type": "markdown",
     "metadata": {},
     "source": [
      "**BUT most of the time you should use the Notebook's Heading Cells to organize your Notebook content**, as they provide meaningful structure that can be interpreted by other tools, not just large bold fonts."
     ]
    },
    {
     "cell_type": "markdown",
     "metadata": {},
     "source": [
      "### Python `list`s arn't spreadsheets\n",
      "\n",
      "* A `list` in python is\n",
      "    * surrounded by brackets `[` and `]`\n",
      "    * data is separated by commas"
     ]
    },
    {
     "cell_type": "code",
     "collapsed": false,
     "input": [
      "a = [1,2,3,4]\n",
      "print a"
     ],
     "language": "python",
     "metadata": {},
     "outputs": []
    },
    {
     "cell_type": "markdown",
     "metadata": {},
     "source": [
      "### `list` addition *is not* adding elements\n",
      "\n",
      "* In a spreadsheet\n",
      "    * Adding columns adds corresponding values\n",
      "* In python\n",
      "    * Adding lists combines the lists"
     ]
    },
    {
     "cell_type": "code",
     "collapsed": false,
     "input": [
      "[1,2,3] + [4,5,6]\n"
     ],
     "language": "python",
     "metadata": {},
     "outputs": []
    },
    {
     "cell_type": "markdown",
     "metadata": {},
     "source": [
      "### Use `numpy` for spreadsheet like operations\n",
      "\n",
      "* `numpy` is\n",
      "    * a module included with `WinPython`\n",
      "        * use `import numpy as np`\n",
      "    * Includes arrays\n",
      "        * array arithmetic is component-wise arithmetic\n",
      "    * Numpy functions apply to each element of the array"
     ]
    },
    {
     "cell_type": "markdown",
     "metadata": {},
     "source": [
      "### Importing `numpy` and creating an array"
     ]
    },
    {
     "cell_type": "code",
     "collapsed": false,
     "input": [
      "import numpy as np\n",
      "a = np.array([1,2,3])\n",
      "b = np.array([3,4,5])"
     ],
     "language": "python",
     "metadata": {},
     "outputs": []
    },
    {
     "cell_type": "markdown",
     "metadata": {},
     "source": [
      "### Arithmetic on `arrays`"
     ]
    },
    {
     "cell_type": "code",
     "collapsed": false,
     "input": [
      "a + 5"
     ],
     "language": "python",
     "metadata": {},
     "outputs": []
    },
    {
     "cell_type": "code",
     "collapsed": false,
     "input": [
      "a**2 -5*a+4"
     ],
     "language": "python",
     "metadata": {},
     "outputs": []
    },
    {
     "cell_type": "code",
     "collapsed": false,
     "input": [
      "2*a -5*b"
     ],
     "language": "python",
     "metadata": {},
     "outputs": []
    },
    {
     "cell_type": "markdown",
     "metadata": {},
     "source": [
      "#### EXERCISE 1: Find the mean (average)"
     ]
    },
    {
     "cell_type": "code",
     "collapsed": false,
     "input": [
      "a = np.array([1,2,3,4,5,6,7,8,9,10])\n",
      "total = sum(a)\n",
      "n = len(a)\n",
      "mean = total/n\n",
      "print (mean)"
     ],
     "language": "python",
     "metadata": {},
     "outputs": []
    },
    {
     "cell_type": "markdown",
     "metadata": {},
     "source": [
      "### OR with `numpy` method"
     ]
    },
    {
     "cell_type": "code",
     "collapsed": false,
     "input": [
      "a.mean()"
     ],
     "language": "python",
     "metadata": {},
     "outputs": []
    },
    {
     "cell_type": "markdown",
     "metadata": {},
     "source": [
      "#### EXERCISE 2: Find the sum of squares of an array"
     ]
    },
    {
     "cell_type": "code",
     "collapsed": false,
     "input": [
      "a = np.array([1,2,3,4,5,6,7,8,9,10])\n",
      "dist = a - a.mean()\n",
      "sq_dist = dist**2\n",
      "print(sq_dist)"
     ],
     "language": "python",
     "metadata": {},
     "outputs": []
    },
    {
     "cell_type": "code",
     "collapsed": false,
     "input": [
      "SS = sum(sq_dist)\n",
      "print(SS)"
     ],
     "language": "python",
     "metadata": {},
     "outputs": []
    },
    {
     "cell_type": "markdown",
     "metadata": {},
     "source": [
      "#### OR in one line"
     ]
    },
    {
     "cell_type": "code",
     "collapsed": false,
     "input": [
      "SS = sum((a - a.mean())**2)"
     ],
     "language": "python",
     "metadata": {},
     "outputs": []
    },
    {
     "cell_type": "markdown",
     "metadata": {},
     "source": [
      "### EXERCISE 3: Other `array` statistics"
     ]
    },
    {
     "cell_type": "code",
     "collapsed": false,
     "input": [
      "a = np.array([1,2,3,4,5,6,7,8,9,10])\n",
      "print(\"The median value of a is\",np.median(a))\n",
      "print(\"The minimum value of a is\",a.min())\n",
      "print(\"The maximum value of a is\",a.max())\n",
      "print(\"The standard deviation of a is\",a.std())"
     ],
     "language": "python",
     "metadata": {},
     "outputs": []
    },
    {
     "cell_type": "markdown",
     "metadata": {},
     "source": [
      "#### A note on standard deviation\n",
      "\n",
      "* The standard deviation is a measure of spread\n",
      "    * Large SD $\\longrightarrow$ more spread out\n",
      "    * Smaller SD $\\longrightarrow$ less spread out"
     ]
    }
   ],
   "metadata": {}
  }
 ]
}