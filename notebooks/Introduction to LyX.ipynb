{
 "metadata": {
  "name": "",
  "signature": "sha256:cdc2c72367027c0d06f5cf9f9096193fbb8e3c74109908bae8ffdf730cd936c9"
 },
 "nbformat": 3,
 "nbformat_minor": 0,
 "worksheets": [
  {
   "cells": [
    {
     "cell_type": "markdown",
     "metadata": {},
     "source": [
      "# Introduction to `LyX`\n",
      "\n",
      "`LyX` is software for document creation that is especially helpful in mathematics and computer science.  The software lets you focus on content and takes care of formatting.  The resulting documents tend to have a very profession look.\n",
      "\n",
      "\n",
      "## Why Use `LyX`\n",
      "\n",
      "* To produce beautiful documents\n",
      "    * especially mathematics and computer code\n",
      "* To forget about formating\n",
      "* To help manage citations, cross-references, and the bibliography\n",
      "* Automate the creation of a title page, section numbers, etc."
     ]
    },
    {
     "cell_type": "markdown",
     "metadata": {},
     "source": [
      "## `LyX` and $\\LaTeX$\n",
      "\n",
      "$\\LaTeX$ is a mark-up language that is used to produce mathematics, computer science, and other documents.  `LyX` is a front end to $\\LaTeX$, which has the following advantages:\n",
      "\n",
      "* Hides to complexity of $\\LaTeX$ from the user\n",
      "* Provides a graphical user interface (GUI) to many $\\LaTeX$ commands\n",
      "* Give immediate feedback to the user on how equations and graphics will look\n",
      "    * In $\\LaTeX$, you need to compile and look at the resulting pdf file\n",
      "* Still allows insertion of $\\LaTeX$\n",
      "    * Good for those familiar with $\\LaTeX$\n",
      "    * Still able to perform complicated editing not in `LyX`"
     ]
    },
    {
     "cell_type": "markdown",
     "metadata": {},
     "source": [
      "# Installing `LyX`\n",
      "\n",
      "The following sections will show you how to install `LyX`"
     ]
    },
    {
     "cell_type": "markdown",
     "metadata": {},
     "source": [
      "## Installing `LyX` on Windows\n",
      "\n",
      "Installing `LyX` on a Windows machine is very start-forward.\n",
      "\n",
      "1. Download the complete package (including $\\LaTeX$) from [this site](http://www.lyx.org/Download)\n",
      "    * Most people should select the top link in the Windows section to also install $\\LaTeX$\n",
      "    * Experiences users might want to select the second link (if $\\LaTeX$ is already installed)\n",
      "2. Run the executable file when the download is complete\n",
      "    * Using the default options should be fine for most users\n",
      "3. LyX should now be available from in the start menu"
     ]
    },
    {
     "cell_type": "markdown",
     "metadata": {},
     "source": [
      "## Installing `LyX` on Mac OSX\n",
      "\n",
      "Installing `LyX` on a Mac is a little more complicated than it is on a Windows machine.\n",
      "\n",
      "1. Install $\\LaTeX$ by following one of the following links.\n",
      "    * A small(er) download that is sufficient for most is found [HERE](https://tug.org/mactex/morepackages.html).\n",
      "        * You need to install `BasicTex.pkg`\n",
      "        * You may also want to install `mactex-additions.pkg` for some helpful tools and integration\n",
      "    * A very complete and LARGE installation of $\\LaTeX$ is found [HERE](http://www.tug.org/mactex/index.html).\n",
      "        * The file you want is `MacTex.pkg`\n",
      "        * Did I mention it is very large...\n",
      "2. Download and install `LyX` from [this site](http://www.lyx.org/Download)"
     ]
    },
    {
     "cell_type": "code",
     "collapsed": false,
     "input": [],
     "language": "python",
     "metadata": {},
     "outputs": []
    }
   ],
   "metadata": {}
  }
 ]
}