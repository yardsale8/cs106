{
 "metadata": {
  "name": ""
 },
 "nbformat": 3,
 "nbformat_minor": 0,
 "worksheets": [
  {
   "cells": [
    {
     "cell_type": "code",
     "collapsed": false,
     "input": [
      "%run talktools"
     ],
     "language": "python",
     "metadata": {},
     "outputs": []
    },
    {
     "cell_type": "code",
     "collapsed": false,
     "input": [
      "from __future__ import division, print_function"
     ],
     "language": "python",
     "metadata": {},
     "outputs": []
    },
    {
     "cell_type": "markdown",
     "metadata": {},
     "source": [
      "### Complex Numbers\n",
      "\n",
      "* The imaginary number $i = \\sqrt{-1}$\n",
      "* In python `1j` stands for $i$ and `3j` stands for $3i$\n",
      "    * Use python to complete $\ud835\udc56^2,\ud835\udc56^3,\ud835\udc56^4$\n",
      "* Complex number: $a+bi$\n",
      "    * The real part: $a$\n",
      "    * The imaginary part: $b$\n",
      "* In python, `2+3j` stands for $2+3i$\n"
     ]
    },
    {
     "cell_type": "code",
     "collapsed": false,
     "input": [
      "print(1j**2, 1j**3, 1j**4)"
     ],
     "language": "python",
     "metadata": {},
     "outputs": []
    },
    {
     "cell_type": "markdown",
     "metadata": {},
     "source": [
      "### Complex Number Arithmetic\n",
      "\n",
      "* Adding and subtract \u2192 gather like terms \n",
      "    * $(2+3i)+(3\u22125i) = 5 - 2i$\n",
      "* Multiply \u2192 FOIL and gather like terms\n",
      "    * $(2+3i)\u2217(3\u22125i) = 6 - 10i + 9i - 15i^2 = -9 - i$\n",
      "* The Conjugate of $a+bi$ is $a-bi$\n",
      "    * `>>> (2+3j).conjugate()`\n",
      "    * `(2-3j)`\n",
      "* Divide \u2192 multiply by conjugate of denominator\n",
      "    * $\\frac{2+3i}{3+5i} = \\frac{(2+3i)(3-5i)}{(3+5i)(3-5i)} = \\frac{-9-i}{34}= \\frac{9}{34} - \\frac{1}{34}i$\n"
     ]
    },
    {
     "cell_type": "code",
     "collapsed": false,
     "input": [
      "print((2+3j)+(3-5j))\n",
      "print((2+3j)*(3-5j))\n",
      "print((2+3j).conjugate())\n",
      "print((2+3j)/(3+5j))"
     ],
     "language": "python",
     "metadata": {},
     "outputs": []
    },
    {
     "cell_type": "markdown",
     "metadata": {},
     "source": [
      "### The Math Library\n",
      "\n",
      "Many import math functions are available in the math library"
     ]
    },
    {
     "cell_type": "code",
     "collapsed": false,
     "input": [
      "import math\n",
      "print(dir(math))"
     ],
     "language": "python",
     "metadata": {},
     "outputs": []
    },
    {
     "cell_type": "markdown",
     "metadata": {},
     "source": [
      "**Example:** Use `math.sqrt` to find $\\sqrt{2}$"
     ]
    },
    {
     "cell_type": "code",
     "collapsed": false,
     "input": [
      "math.sqrt(2)"
     ],
     "language": "python",
     "metadata": {},
     "outputs": []
    },
    {
     "cell_type": "markdown",
     "metadata": {},
     "source": [
      "### Understanding Namespaces\n",
      "\n",
      "* Namespaces are like folders\n",
      "    * The root namespace is `__main__`\n",
      "        * Like a drive letter\n",
      "    * Modules\n",
      "        * Live in `__main__`\n",
      "        * act like a child directory\n",
      "* The `dir` function inspects a namespace"
     ]
    },
    {
     "cell_type": "markdown",
     "metadata": {},
     "source": [
      "### Exercise: Do the following in the `spyder` console\n",
      "\n",
      "* `>>> dir()`\n",
      "* `>>> import math`\n",
      "* `>>> dir()`\n",
      "* `>>> dir(math)`"
     ]
    },
    {
     "cell_type": "markdown",
     "metadata": {},
     "source": [
      "### Modules are Like Folders\n",
      "* Files\n",
      "    * Separated by `\\`\n",
      "        * home/hpotter\n",
      "        * home/hpotter/thesis\n",
      "* Modules in `python`\n",
      "    * Separated by `.`\n",
      "        * math.pi\n",
      "        * pyml.kernal.Gaussian"
     ]
    },
    {
     "cell_type": "markdown",
     "metadata": {},
     "source": [
      "<img src=\"https://github.com/yardsale8/cs106/raw/master/images/module-folder.png\" />"
     ]
    },
    {
     "cell_type": "markdown",
     "metadata": {},
     "source": [
      "### Simplifying Module Names\n",
      "\n",
      "Even a short name like `math` can be a burden"
     ]
    },
    {
     "cell_type": "code",
     "collapsed": false,
     "input": [
      "import math\n",
      "math.cos(math.asin(0.5)*math.pi)"
     ],
     "language": "python",
     "metadata": {},
     "outputs": []
    },
    {
     "cell_type": "markdown",
     "metadata": {},
     "source": [
      "We can use `as` to give a short alias"
     ]
    },
    {
     "cell_type": "code",
     "collapsed": false,
     "input": [
      "import math as m\n",
      "m.cos(m.asin(0.5)*m.pi)"
     ],
     "language": "python",
     "metadata": {},
     "outputs": []
    },
    {
     "cell_type": "markdown",
     "metadata": {},
     "source": [
      "### Importing into `__main__`\n",
      "We can use `from module import *` to import into `__main__`"
     ]
    },
    {
     "cell_type": "markdown",
     "metadata": {},
     "source": [
      "<img src=\"https://github.com/yardsale8/cs106/raw/master/images/import-main.png\" />"
     ]
    },
    {
     "cell_type": "markdown",
     "metadata": {},
     "source": [
      "### Exercise: Perform the following in `spyder`\n",
      "\n",
      "\n",
      "* Reset the interpreter\n",
      "* `>>> dir()`\n",
      "* `>>> from math import *`\n",
      "* `>>> dir()`"
     ]
    },
    {
     "cell_type": "markdown",
     "metadata": {},
     "source": [
      "### Importing Only What We Want\n",
      "\n",
      "**Exercise** Do the following\n",
      "\n",
      "* Reset the interpreter\n",
      "* `>>> dir()`\n",
      "* `>>> from math import sin, pi`\n",
      "* `>>> dir()`"
     ]
    },
    {
     "cell_type": "markdown",
     "metadata": {},
     "source": [
      "### Exercise: Using `python` for trig problems\n",
      "\n",
      "* Degrees and radians.  A circle has\n",
      "    * 360 degrees\n",
      "    * $2\\pi$ radians\n",
      "* Converting to radians\n",
      "    * Divide by 360\n",
      "    * multiply by $2\\pi$\n",
      "* Why do we care?\n",
      "    * `python` trig functions use radians\n",
      "* Find the `sin` of a 30 degree angle"
     ]
    },
    {
     "cell_type": "code",
     "collapsed": false,
     "input": [
      "from math import pi, sin\n",
      "rad = (30/360)*2*pi\n",
      "print(\"The sine of a 30 degree angle is\",sin(rad))"
     ],
     "language": "python",
     "metadata": {},
     "outputs": []
    },
    {
     "cell_type": "markdown",
     "metadata": {},
     "source": [
      "### Rational Numbers\n",
      "\n",
      "We can work with exact fractions using the `fractions` module"
     ]
    },
    {
     "cell_type": "code",
     "collapsed": false,
     "input": [
      "from fractions import Fraction\n",
      "print(Fraction(2,5))"
     ],
     "language": "python",
     "metadata": {},
     "outputs": []
    },
    {
     "cell_type": "code",
     "collapsed": false,
     "input": [
      "Fraction(2,5)+Fraction(1,3)"
     ],
     "language": "python",
     "metadata": {},
     "outputs": []
    },
    {
     "cell_type": "code",
     "collapsed": false,
     "input": [
      "print(Fraction(2,5)+Fraction(1,3))"
     ],
     "language": "python",
     "metadata": {},
     "outputs": []
    }
   ],
   "metadata": {}
  }
 ]
}