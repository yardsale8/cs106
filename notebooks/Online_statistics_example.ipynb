{
 "metadata": {
  "name": "",
  "signature": "sha256:06f1332d11f3e03124229730060666b4483d5a548557fd841bf722f5b7b655b9"
 },
 "nbformat": 3,
 "nbformat_minor": 0,
 "worksheets": [
  {
   "cells": [
    {
     "cell_type": "markdown",
     "metadata": {},
     "source": [
      "# Calculating Online Statistics \n",
      "\n",
      "### The problem\n",
      "\n",
      "* Calculate statistics on the fly.\n",
      "* Data streams in\n",
      "    * as entered by user, or\n",
      "    * across a network\n",
      "* We don't know how much data"
     ]
    },
    {
     "cell_type": "markdown",
     "metadata": {},
     "source": [
      "### The Solution\n",
      "\n",
      "* Use the accumulator pattern\n",
      "* This is an indefinite loop\n",
      "    * Use a `while` loop\n"
     ]
    },
    {
     "cell_type": "markdown",
     "metadata": {},
     "source": [
      "### Review: Calculating the average of a fix data set\n",
      "\n",
      "Earlier, we showed how to calculate the average of a fixed dataset\n",
      "\n",
      "* Use two accumulators\n",
      "    * The running total\n",
      "    * A count of how much data"
     ]
    },
    {
     "cell_type": "code",
     "collapsed": false,
     "input": [
      "data = [12, 35, 6, 8]\n",
      "# Set the initial values\n",
      "count = 0\n",
      "total = 0\n",
      "# Iterate through the data\n",
      "# Update the accumulators \n",
      "for value in data:\n",
      "    count = count + 1\n",
      "    total = total + value\n",
      "# Compute the statistic\n",
      "average = total/count\n",
      "print(\"The average of the data was\",average)\n"
     ],
     "language": "python",
     "metadata": {},
     "outputs": [
      {
       "output_type": "stream",
       "stream": "stdout",
       "text": [
        "The average of the data was 15.25\n"
       ]
      }
     ],
     "prompt_number": 7
    },
    {
     "cell_type": "markdown",
     "metadata": {},
     "source": [
      "### Switch to an online solution\n",
      "\n",
      "1. We need to prompt the user for data\n",
      "2. Update the values on the fly\n",
      "3. Give the user an option to exit"
     ]
    },
    {
     "cell_type": "markdown",
     "metadata": {},
     "source": [
      "### Imperative Solution with No Function"
     ]
    },
    {
     "cell_type": "code",
     "collapsed": false,
     "input": [
      "# Set the initial values\n",
      "# We have seen no data\n",
      "count = 0\n",
      "# The total of \"no data\" is 0\n",
      "total = 0\n",
      "# I need a boolean variable to determine if we should continue\n",
      "cont = True # Make sure this can become False later!\n",
      "print(\"I will calculate the average of any group of numbers\")\n",
      "print(\"Please enter one number at each prompt\")\n",
      "print(\"\")\n",
      "while cont:\n",
      "    # Get the value\n",
      "    value = input(\"Please enter a number (enter DONE to stop): \")\n",
      "    if value == \"DONE\":\n",
      "        # We are done, set cont to False to exit loop\n",
      "        cont = False\n",
      "        # Compute and print the average\n",
      "        if count == 0:\n",
      "            print(\"No data was entered, goodbye\")\n",
      "        else:\n",
      "            average = total/count\n",
      "            print(\"The average of of your numbers was\", average)\n",
      "    else:\n",
      "        # Convert the value to number and update\n",
      "        value = float(value)\n",
      "        total = total + value\n",
      "        count = count + 1"
     ],
     "language": "python",
     "metadata": {},
     "outputs": [
      {
       "output_type": "stream",
       "stream": "stdout",
       "text": [
        "I will calculate the average of any group of numbers\n",
        "Please enter one number at each prompt\n",
        "\n"
       ]
      },
      {
       "name": "stdout",
       "output_type": "stream",
       "stream": "stdout",
       "text": [
        "Please enter a number (enter DONE to stop): 12\n"
       ]
      },
      {
       "name": "stdout",
       "output_type": "stream",
       "stream": "stdout",
       "text": [
        "Please enter a number (enter DONE to stop): 35\n"
       ]
      },
      {
       "name": "stdout",
       "output_type": "stream",
       "stream": "stdout",
       "text": [
        "Please enter a number (enter DONE to stop): 5\n"
       ]
      },
      {
       "name": "stdout",
       "output_type": "stream",
       "stream": "stdout",
       "text": [
        "Please enter a number (enter DONE to stop): 7\n"
       ]
      },
      {
       "name": "stdout",
       "output_type": "stream",
       "stream": "stdout",
       "text": [
        "Please enter a number (enter DONE to stop): DONE\n"
       ]
      },
      {
       "output_type": "stream",
       "stream": "stdout",
       "text": [
        "The average of of your numbers was 14.75\n"
       ]
      }
     ],
     "prompt_number": 9
    },
    {
     "cell_type": "markdown",
     "metadata": {},
     "source": [
      "### A Better Solution with Functions\n",
      "\n",
      "* Define the task\n",
      "* Write and test a function for each task\n",
      "* Combine to solve the problem"
     ]
    },
    {
     "cell_type": "markdown",
     "metadata": {},
     "source": [
      "### Tasks\n",
      "\n",
      "* Greet the user\n",
      "* get a value from the user\n",
      "* inspect the value for DONE\n",
      "    * compute average if done\n",
      "    * update value if not"
     ]
    },
    {
     "cell_type": "code",
     "collapsed": false,
     "input": [
      "def main():\n",
      "    \"\"\" Contract: Void -> Void\n",
      "        Purpose: Get data from the user and return the average\n",
      "        Examples: None, this is a void, side-effecting function\n",
      "    \"\"\"\n",
      "    greeting()\n",
      "    total, count, cont = 0, 0, True\n",
      "    while cont:\n",
      "        value = input(\"Please enter a number (enter DONE to stop): \")\n",
      "        total, count, cont = update_values(total, count, value)\n",
      "    calculate_and_print(total, count)\n",
      "  \n",
      "def calculate_and_print(total, count):\n",
      "    \"\"\" Calculate and print solution, making sure we have seen data\"\"\"\n",
      "    if count == 0:\n",
      "        print(\"No data was entered, goodbye\")\n",
      "    else:\n",
      "        average = total / count\n",
      "        print(\"The average of of your numbers was\", average)    \n",
      "# No way to test this void, side-effecting function\n",
      "\n",
      "def greeting():\n",
      "    \"\"\" Greet the user \"\"\"\n",
      "    print(\"I will calculate the average of any group of numbers\")\n",
      "    print(\"Please enter one number at each prompt\")\n",
      "    print(\"\")\n",
      "# No way to test a void, side-effecting function\n",
      "\n",
      "def update_values(total, count, value):\n",
      "    \"\"\" Contract: number, number, string -> number, number, boolean\n",
      "        Purpose: Determine if the user is done, and update the value accordingly\n",
      "        Examples: update_values(10,3,\"5\") returns 15, 4, True\n",
      "                  update_values(10,3,\"DONE\") returns 10, 3, False\n",
      "    \"\"\"\n",
      "    if value == \"DONE\":\n",
      "        return total, count, False\n",
      "    else:\n",
      "        return total + float(value), count + 1, True\n",
      "\n",
      "    \n",
      "def test_update_values():\n",
      "    assert update_values(10,3,\"5\") == (15, 4, True)\n",
      "    assert update_values(10,3,\"DONE\") == (10, 3, False)\n",
      "test_update_values()\n",
      "\n",
      "main()"
     ],
     "language": "python",
     "metadata": {},
     "outputs": [
      {
       "output_type": "stream",
       "stream": "stdout",
       "text": [
        "I will calculate the average of any group of numbers\n",
        "Please enter one number at each prompt\n",
        "\n"
       ]
      },
      {
       "name": "stdout",
       "output_type": "stream",
       "stream": "stdout",
       "text": [
        "Please enter a number (enter DONE to stop): 12\n"
       ]
      },
      {
       "name": "stdout",
       "output_type": "stream",
       "stream": "stdout",
       "text": [
        "Please enter a number (enter DONE to stop): 35\n"
       ]
      },
      {
       "name": "stdout",
       "output_type": "stream",
       "stream": "stdout",
       "text": [
        "Please enter a number (enter DONE to stop): 7\n"
       ]
      },
      {
       "name": "stdout",
       "output_type": "stream",
       "stream": "stdout",
       "text": [
        "Please enter a number (enter DONE to stop): 5\n"
       ]
      },
      {
       "name": "stdout",
       "output_type": "stream",
       "stream": "stdout",
       "text": [
        "Please enter a number (enter DONE to stop): DONE\n"
       ]
      },
      {
       "output_type": "stream",
       "stream": "stdout",
       "text": [
        "The average of of your numbers was 14.75\n"
       ]
      }
     ],
     "prompt_number": 12
    },
    {
     "cell_type": "code",
     "collapsed": false,
     "input": [
      "help(update_values)"
     ],
     "language": "python",
     "metadata": {},
     "outputs": [
      {
       "output_type": "stream",
       "stream": "stdout",
       "text": [
        "Help on function update_values in module __main__:\n",
        "\n",
        "update_values(total, count, value)\n",
        "    Contract: number, number, string -> number, number, boolean\n",
        "    Purpose: Determine if the user is done, and update the value accordingly\n",
        "    Examples: update_values(10,3,\"5\") returns 15, 4, True\n",
        "              update_values(10,3,\"DONE\") returns 10, 3, False\n",
        "\n"
       ]
      }
     ],
     "prompt_number": 13
    },
    {
     "cell_type": "code",
     "collapsed": false,
     "input": [],
     "language": "python",
     "metadata": {},
     "outputs": []
    }
   ],
   "metadata": {}
  }
 ]
}