{
 "metadata": {
  "name": ""
 },
 "nbformat": 3,
 "nbformat_minor": 0,
 "worksheets": [
  {
   "cells": [
    {
     "cell_type": "code",
     "collapsed": false,
     "input": [
      "%run talktools"
     ],
     "language": "python",
     "metadata": {
      "slideshow": {
       "slide_type": "slide"
      }
     },
     "outputs": []
    },
    {
     "cell_type": "code",
     "collapsed": false,
     "input": [
      "from __future__ import division, print_function"
     ],
     "language": "python",
     "metadata": {
      "slideshow": {
       "slide_type": "fragment"
      }
     },
     "outputs": []
    },
    {
     "cell_type": "markdown",
     "metadata": {
      "slideshow": {
       "slide_type": "slide"
      }
     },
     "source": [
      "# Plotting in Python\n",
      "\n",
      "from [Basic Beginners' Introduction to Plotting in Python](http://www.ast.uct.ac.za/~sarblyth/pythonGuide/PythonPlottingBeginnersGuide.pdf) by Sarah Blyth"
     ]
    },
    {
     "cell_type": "markdown",
     "metadata": {
      "slideshow": {
       "slide_type": "slide"
      }
     },
     "source": [
      "## Plotting Libraries\n",
      "\n",
      "We need\n",
      "\n",
      "* `python`\n",
      "* `numpy`\n",
      "    * for data storage and manipulation\n",
      "* `pylab` (`matplotlib`)\n",
      "    * plotting library\n",
      "    * works with `numpy`"
     ]
    },
    {
     "cell_type": "markdown",
     "metadata": {
      "slideshow": {
       "slide_type": "slide"
      }
     },
     "source": [
      "## Importing `numpy` and `pylab`\n",
      "\n",
      "* Start by importing the libraries"
     ]
    },
    {
     "cell_type": "code",
     "collapsed": false,
     "input": [
      "import numpy as np\n",
      "import pylab as pl"
     ],
     "language": "python",
     "metadata": {
      "slideshow": {
       "slide_type": "fragment"
      }
     },
     "outputs": [],
     "prompt_number": 8
    },
    {
     "cell_type": "markdown",
     "metadata": {
      "slideshow": {
       "slide_type": "slide"
      }
     },
     "source": [
      "## Example: Plot a small set of points\n",
      "### Part 1 - Storing the points\n",
      "First, store the $x$ and $y$ values in different `numpy array`s"
     ]
    },
    {
     "cell_type": "code",
     "collapsed": false,
     "input": [
      "#Make an array of x values\n",
      "x = [1, 2, 3, 4, 5]\n",
      "\n",
      "#Make an array of y values\n",
      "y = [1, 4, 9, 16, 25]\n"
     ],
     "language": "python",
     "metadata": {
      "slideshow": {
       "slide_type": "fragment"
      }
     },
     "outputs": [],
     "prompt_number": 9
    },
    {
     "cell_type": "markdown",
     "metadata": {
      "slideshow": {
       "slide_type": "slide"
      }
     },
     "source": [
      "## Example: Plot a small set of points\n",
      "### Part 2 - Construct the plots\n",
      "\n",
      "Now use `pylab` to plot"
     ]
    },
    {
     "cell_type": "code",
     "collapsed": false,
     "input": [
      "#use pylab to plot x and y points\n",
      "pl.plot(x, y)\n",
      "\n",
      "#show the plot on the screen\n",
      "# Needed in pylab but not the notebook\n",
      "pl.show()\n"
     ],
     "language": "python",
     "metadata": {
      "slideshow": {
       "slide_type": "fragment"
      }
     },
     "outputs": []
    },
    {
     "cell_type": "markdown",
     "metadata": {
      "slideshow": {
       "slide_type": "slide"
      }
     },
     "source": [
      "## Some Comments\n",
      "\n",
      "* In `spyder` use `plot` and `show` command\n",
      "* In ipython notebook\n",
      "    * don't need the show command\n",
      "* The plot *connects the dots*\n",
      "    * Your calculator does this too\n",
      "    * Many dots $\\rightarrow$ **smooooooth**"
     ]
    },
    {
     "cell_type": "markdown",
     "metadata": {},
     "source": [
      "## Scatterplot\n",
      "\n",
      "* Make the point unconnected by adding a point type\n",
      "    * Third input"
     ]
    },
    {
     "cell_type": "code",
     "collapsed": false,
     "input": [
      "pl.plot(x, y, \"o\")\n",
      "pl.show()"
     ],
     "language": "python",
     "metadata": {},
     "outputs": [],
     "prompt_number": 12
    },
    {
     "cell_type": "markdown",
     "metadata": {},
     "source": [
      "## Other Point Types\n",
      "\n",
      "<img src=\"https://github.com/yardsale8/cs106/raw/master/images/pylab_points.png\" height=\"300\" width=\"300\" />"
     ]
    },
    {
     "cell_type": "markdown",
     "metadata": {
      "slideshow": {
       "slide_type": "slide"
      }
     },
     "source": [
      "## Graphing Functions\n",
      "\n",
      "\n",
      "1. Create a fine grid of $x$ values\n",
      "2. Use `numpy` array arithematic to get $y$ values\n",
      "3. Plot $x$ and $y$ \n"
     ]
    },
    {
     "cell_type": "markdown",
     "metadata": {
      "slideshow": {
       "slide_type": "slide"
      }
     },
     "source": [
      "## Step 1 - Create a fine grid of $x$ values\n",
      "\n",
      "* Use the `numpy` function `arange`\n",
      "    * Think *a range of numbers*\n",
      "* Basic syntax\n",
      "    * `np.arange(lower,upper,step_size)`\n",
      "        * lower - starting value\n",
      "        * upper - ending value\n",
      "        * step_size - distance between points"
     ]
    },
    {
     "cell_type": "code",
     "collapsed": false,
     "input": [
      "x = np.arange(1,4,0.25)\n",
      "print(x,'\\n', type(x))"
     ],
     "language": "python",
     "metadata": {
      "slideshow": {
       "slide_type": "fragment"
      }
     },
     "outputs": []
    },
    {
     "cell_type": "markdown",
     "metadata": {
      "slideshow": {
       "slide_type": "slide"
      }
     },
     "source": [
      "## Step 2 - Use `numpy array` arithmetic to construct $y$ values\n",
      "\n",
      "\n",
      "Now apply arithmetic or numpy functions to $x$ to get $y$\n",
      "\n",
      "**IMPORTANT** Be sure to use `numpy` functions to avoid errors"
     ]
    },
    {
     "cell_type": "code",
     "collapsed": false,
     "input": [
      "y = np.sin(x)\n",
      "print(y,'\\n',type(y))"
     ],
     "language": "python",
     "metadata": {
      "slideshow": {
       "slide_type": "fragment"
      }
     },
     "outputs": []
    },
    {
     "cell_type": "markdown",
     "metadata": {
      "slideshow": {
       "slide_type": "slide"
      }
     },
     "source": [
      "## Step 3 - Plot $x$ and $y$\n",
      "\n",
      "Use `pylab` to plot $x$ and $y$"
     ]
    },
    {
     "cell_type": "code",
     "collapsed": false,
     "input": [
      "pl.plot(x,y)\n",
      "pl.show()"
     ],
     "language": "python",
     "metadata": {
      "slideshow": {
       "slide_type": "fragment"
      }
     },
     "outputs": []
    },
    {
     "cell_type": "markdown",
     "metadata": {
      "slideshow": {
       "slide_type": "slide"
      }
     },
     "source": [
      "## A Problem with the Grid\n",
      "\n",
      "* **Problem:** The last plot was still jagged.\n",
      "* **Solution:** Make the step size smaller"
     ]
    },
    {
     "cell_type": "code",
     "collapsed": false,
     "input": [
      "x = np.arange(1,4,0.01)\n",
      "y = np.sin(x)\n",
      "pl.plot(x,y)\n",
      "pl.show()"
     ],
     "language": "python",
     "metadata": {
      "slideshow": {
       "slide_type": "fragment"
      }
     },
     "outputs": []
    },
    {
     "cell_type": "markdown",
     "metadata": {
      "slideshow": {
       "slide_type": "slide"
      }
     },
     "source": [
      "## Adding Labels and Changing the Window"
     ]
    },
    {
     "cell_type": "code",
     "collapsed": false,
     "input": [
      "pl.plot(x,y)\n",
      "# Add x and y values\n",
      "# Surround math with $'s to typeset math\n",
      "pl.xlabel('$x$ values')\n",
      "pl.ylabel('$y$ values')\n",
      "\n",
      "# Add a title\n",
      "pl.title('A plot of $sin(x)$')\n",
      "\n",
      "#Change the viewing window\n",
      "pl.xlim(1,4)\n",
      "pl.ylim(-2,2)\n",
      "pl.show()\n"
     ],
     "language": "python",
     "metadata": {
      "slideshow": {
       "slide_type": "fragment"
      }
     },
     "outputs": []
    },
    {
     "cell_type": "markdown",
     "metadata": {
      "slideshow": {
       "slide_type": "slide"
      }
     },
     "source": [
      "## Changing the Line Color - Add a Third Input\n",
      "    "
     ]
    },
    {
     "cell_type": "code",
     "collapsed": false,
     "input": [
      "pl.plot(x, y, 'r')\n",
      "pl.show()"
     ],
     "language": "python",
     "metadata": {
      "slideshow": {
       "slide_type": "fragment"
      }
     },
     "outputs": []
    },
    {
     "cell_type": "markdown",
     "metadata": {
      "slideshow": {
       "slide_type": "subslide"
      }
     },
     "source": [
      "<img src=\"https://github.com/yardsale8/cs106/raw/master/images/pylab_colors.png\" height=\"200\" width=\"200\" />"
     ]
    },
    {
     "cell_type": "markdown",
     "metadata": {
      "slideshow": {
       "slide_type": "slide"
      }
     },
     "source": [
      "## Changing the Line Style"
     ]
    },
    {
     "cell_type": "code",
     "collapsed": false,
     "input": [
      "# Third input '<color><lineType>'\n",
      "pl.plot(x, y, 'r--')\n",
      "pl.show()"
     ],
     "language": "python",
     "metadata": {
      "slideshow": {
       "slide_type": "fragment"
      }
     },
     "outputs": []
    },
    {
     "cell_type": "markdown",
     "metadata": {
      "slideshow": {
       "slide_type": "subslide"
      }
     },
     "source": [
      "<img src=\"https://github.com/yardsale8/cs106/raw/master/images/pylab_lines.png\" height=\"400\" width=\"400\" />"
     ]
    },
    {
     "cell_type": "markdown",
     "metadata": {
      "slideshow": {
       "slide_type": "slide"
      }
     },
     "source": [
      "## Plotting More than One Function\n",
      "\n",
      "Add a plot statement for each function"
     ]
    },
    {
     "cell_type": "code",
     "collapsed": false,
     "input": [
      "x = np.arange(-2,2,0.01)\n",
      "y1 = np.sin(x)\n",
      "y2 = x**2\n",
      "\n",
      "pl.plot(x, y1)\n",
      "pl.plot(x, y2)\n",
      "pl.show()"
     ],
     "language": "python",
     "metadata": {
      "slideshow": {
       "slide_type": "fragment"
      }
     },
     "outputs": []
    },
    {
     "cell_type": "markdown",
     "metadata": {
      "slideshow": {
       "slide_type": "slide"
      }
     },
     "source": [
      "## Show a legend\n",
      "\n",
      "When plotting many cruves, supply a legend."
     ]
    },
    {
     "cell_type": "code",
     "collapsed": false,
     "input": [
      "pl.plot(x, y1, label=\"$y=sin(x)$\")\n",
      "pl.plot(x, y2, label=\"$y=x^2$\")\n",
      "pl.legend()\n",
      "pl.show()"
     ],
     "language": "python",
     "metadata": {
      "slideshow": {
       "slide_type": "fragment"
      }
     },
     "outputs": []
    }
   ],
   "metadata": {}
  }
 ]
}