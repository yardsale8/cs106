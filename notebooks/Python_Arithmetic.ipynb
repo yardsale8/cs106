{
 "metadata": {
  "name": ""
 },
 "nbformat": 3,
 "nbformat_minor": 0,
 "worksheets": [
  {
   "cells": [
    {
     "cell_type": "code",
     "collapsed": false,
     "input": [
      "%run talktools"
     ],
     "language": "python",
     "metadata": {},
     "outputs": []
    },
    {
     "cell_type": "markdown",
     "metadata": {
      "slideshow": {
       "slide_type": "slide"
      }
     },
     "source": [
      "### Important Lines at the Start of a File\n",
      "\n",
      "* Always add these lines to the start of a file.\n",
      "* \"__\" is two underscores."
     ]
    },
    {
     "cell_type": "code",
     "collapsed": false,
     "input": [
      "from __future__ import print_function, division"
     ],
     "language": "python",
     "metadata": {
      "slideshow": {
       "slide_type": "fragment"
      }
     },
     "outputs": [],
     "prompt_number": 5
    },
    {
     "cell_type": "markdown",
     "metadata": {
      "slideshow": {
       "slide_type": "slide"
      }
     },
     "source": [
      "### Data Types in Python\n",
      "\n",
      "* Data comes in a number of types\n",
      "    * integer - counting number\n",
      "    * float - real/rounded number\n",
      "    * string - text characters\n",
      "    * etc.\n",
      "* Data type affects computations"
     ]
    },
    {
     "cell_type": "code",
     "collapsed": false,
     "input": [
      "print(type(2))\n",
      "print(type(2.0))\n",
      "print(type(\"2\"))"
     ],
     "language": "python",
     "metadata": {
      "slideshow": {
       "slide_type": "fragment"
      }
     },
     "outputs": []
    },
    {
     "cell_type": "markdown",
     "metadata": {
      "slideshow": {
       "slide_type": "slide"
      }
     },
     "source": [
      "### Arithmetic in Python\n",
      "We can use python to perform arithmetic like our calculator"
     ]
    },
    {
     "cell_type": "code",
     "collapsed": false,
     "input": [
      "2+2"
     ],
     "language": "python",
     "metadata": {
      "slideshow": {
       "slide_type": "fragment"
      }
     },
     "outputs": []
    },
    {
     "cell_type": "code",
     "collapsed": false,
     "input": [
      "2-2"
     ],
     "language": "python",
     "metadata": {
      "slideshow": {
       "slide_type": "fragment"
      }
     },
     "outputs": []
    },
    {
     "cell_type": "code",
     "collapsed": false,
     "input": [
      "2*2"
     ],
     "language": "python",
     "metadata": {
      "slideshow": {
       "slide_type": "fragment"
      }
     },
     "outputs": []
    },
    {
     "cell_type": "code",
     "collapsed": false,
     "input": [
      "3/2 #Floating division NEEDS IMPORT ABOVE"
     ],
     "language": "python",
     "metadata": {
      "slideshow": {
       "slide_type": "fragment"
      }
     },
     "outputs": []
    },
    {
     "cell_type": "code",
     "collapsed": false,
     "input": [
      "3//2 #integer division NEEDS IMPORT ABOVE"
     ],
     "language": "python",
     "metadata": {
      "slideshow": {
       "slide_type": "fragment"
      }
     },
     "outputs": []
    },
    {
     "cell_type": "code",
     "collapsed": false,
     "input": [
      "3%2 #remainder NEEDS IMPORT ABOVE"
     ],
     "language": "python",
     "metadata": {
      "slideshow": {
       "slide_type": "fragment"
      }
     },
     "outputs": []
    },
    {
     "cell_type": "code",
     "collapsed": false,
     "input": [
      "2**3 #Exponents"
     ],
     "language": "python",
     "metadata": {
      "slideshow": {
       "slide_type": "fragment"
      }
     },
     "outputs": []
    },
    {
     "cell_type": "markdown",
     "metadata": {
      "slideshow": {
       "slide_type": "slide"
      }
     },
     "source": [
      "### Expressions\n",
      "\n",
      "Python will evaluate *expressions* using regular order of operations \n",
      "\n",
      "\n",
      "* PEMDAS\n",
      "* Left-to-right\n",
      "    * except division is right to left\n",
      "* **Evaluation:** expression $\\longrightarrow$ value\n",
      "\n",
      "<img src=\"https://github.com/yardsale8/cs106/raw/master/images/evaluation.png\" />"
     ]
    },
    {
     "cell_type": "markdown",
     "metadata": {
      "slideshow": {
       "slide_type": "slide"
      }
     },
     "source": [
      "### Examples"
     ]
    },
    {
     "cell_type": "code",
     "collapsed": false,
     "input": [
      "2+2+2+2+2"
     ],
     "language": "python",
     "metadata": {
      "slideshow": {
       "slide_type": "fragment"
      }
     },
     "outputs": []
    },
    {
     "cell_type": "code",
     "collapsed": false,
     "input": [
      "8*6"
     ],
     "language": "python",
     "metadata": {
      "slideshow": {
       "slide_type": "fragment"
      }
     },
     "outputs": []
    },
    {
     "cell_type": "code",
     "collapsed": false,
     "input": [
      "10-5+6"
     ],
     "language": "python",
     "metadata": {
      "slideshow": {
       "slide_type": "fragment"
      }
     },
     "outputs": []
    },
    {
     "cell_type": "code",
     "collapsed": false,
     "input": [
      "2   +      2"
     ],
     "language": "python",
     "metadata": {
      "slideshow": {
       "slide_type": "fragment"
      }
     },
     "outputs": []
    },
    {
     "cell_type": "markdown",
     "metadata": {
      "slideshow": {
       "slide_type": "slide"
      }
     },
     "source": [
      "### Operators\n",
      "\n",
      "* An *operator* combines two values into a new value\n",
      "    * Example 2+2 $\\longrightarrow$ 4\n",
      "    * Syntax value/expression operator value\\expression\n",
      "\n",
      "\n",
      "<img src=\"https://github.com/yardsale8/cs106/raw/master/images/expression.png\" />"
     ]
    },
    {
     "cell_type": "markdown",
     "metadata": {
      "slideshow": {
       "slide_type": "slide"
      }
     },
     "source": [
      "### Order of Operation and Trees\n",
      "\n",
      "<img src=\"https://github.com/yardsale8/cs106/raw/master/images/evaluation-tree.png\" />"
     ]
    },
    {
     "cell_type": "markdown",
     "metadata": {
      "slideshow": {
       "slide_type": "slide"
      }
     },
     "source": [
      "### Powers are Tricky!\n",
      "\n",
      "<img src=\"https://github.com/yardsale8/cs106/raw/master/images/evaluation-powers.png\" />\n"
     ]
    },
    {
     "cell_type": "markdown",
     "metadata": {
      "slideshow": {
       "slide_type": "slide"
      }
     },
     "source": [
      "### Syntax Errors\n",
      "\n",
      "* Indicates an incorrect statement\n",
      "* `python` doesn't understand/accept the statement"
     ]
    },
    {
     "cell_type": "code",
     "collapsed": false,
     "input": [
      "5 + "
     ],
     "language": "python",
     "metadata": {
      "slideshow": {
       "slide_type": "fragment"
      }
     },
     "outputs": []
    },
    {
     "cell_type": "markdown",
     "metadata": {
      "slideshow": {
       "slide_type": "slide"
      }
     },
     "source": [
      "### `type` affects arithmetic\n",
      "\n",
      "* The outcome of arithmetic is different for different types"
     ]
    },
    {
     "cell_type": "code",
     "collapsed": false,
     "input": [
      "2 + 2"
     ],
     "language": "python",
     "metadata": {
      "slideshow": {
       "slide_type": "fragment"
      }
     },
     "outputs": []
    },
    {
     "cell_type": "code",
     "collapsed": false,
     "input": [
      "\"2\" + \"2\""
     ],
     "language": "python",
     "metadata": {
      "slideshow": {
       "slide_type": "fragment"
      }
     },
     "outputs": []
    },
    {
     "cell_type": "code",
     "collapsed": false,
     "input": [
      "2*3"
     ],
     "language": "python",
     "metadata": {
      "slideshow": {
       "slide_type": "fragment"
      }
     },
     "outputs": []
    },
    {
     "cell_type": "code",
     "collapsed": false,
     "input": [
      "2*\"3\""
     ],
     "language": "python",
     "metadata": {
      "slideshow": {
       "slide_type": "fragment"
      }
     },
     "outputs": []
    },
    {
     "cell_type": "markdown",
     "metadata": {},
     "source": [
      "### Determine the `type` programmically\n",
      "\n",
      "* We can use the `type` function to determine the type of\n",
      "    * a value\n",
      "    * an expression\n",
      "    * a variable"
     ]
    },
    {
     "cell_type": "code",
     "collapsed": false,
     "input": [
      "type(\"2\")"
     ],
     "language": "python",
     "metadata": {},
     "outputs": [
      {
       "metadata": {},
       "output_type": "pyout",
       "prompt_number": 1,
       "text": [
        "str"
       ]
      }
     ],
     "prompt_number": 1
    },
    {
     "cell_type": "code",
     "collapsed": false,
     "input": [
      "type(2*\"3\")"
     ],
     "language": "python",
     "metadata": {},
     "outputs": [
      {
       "metadata": {},
       "output_type": "pyout",
       "prompt_number": 2,
       "text": [
        "str"
       ]
      }
     ],
     "prompt_number": 2
    },
    {
     "cell_type": "code",
     "collapsed": false,
     "input": [
      "ans = 3*(\"2\" + \"Fred\")\n",
      "type(ans)"
     ],
     "language": "python",
     "metadata": {},
     "outputs": [
      {
       "metadata": {},
       "output_type": "pyout",
       "prompt_number": 3,
       "text": [
        "str"
       ]
      }
     ],
     "prompt_number": 3
    },
    {
     "cell_type": "markdown",
     "metadata": {
      "slideshow": {
       "slide_type": "slide"
      }
     },
     "source": [
      "### Storing Values in Variables\n",
      "\n",
      "* We can store and refer to a value with variables\n",
      "    * name can be almost anything\n",
      "        * starts with a-z or A-Z\n",
      "        * can contain a-zA-Z0-9 or _ or -\n",
      "        * some name are reserved (for, class, def, etc.)\n",
      "* The *assignment statement*\n",
      "    * Used to store a value in a variable\n",
      "    * *no output*"
     ]
    },
    {
     "cell_type": "code",
     "collapsed": false,
     "input": [
      "spam = 15"
     ],
     "language": "python",
     "metadata": {
      "slideshow": {
       "slide_type": "fragment"
      }
     },
     "outputs": []
    },
    {
     "cell_type": "markdown",
     "metadata": {
      "slideshow": {
       "slide_type": "fragment"
      }
     },
     "source": [
      "**Question 1** Check the value and type of `spam` in the varaible explorer"
     ]
    },
    {
     "cell_type": "markdown",
     "metadata": {
      "slideshow": {
       "slide_type": "slide"
      }
     },
     "source": [
      "### Inspecting the state of a variable\n",
      "\n",
      "1. `spyder`: Use the **variable explorer**\n",
      "2. interpreter: Evaluate the variable on it's own line\n",
      "3. In a program: use a print statement"
     ]
    },
    {
     "cell_type": "markdown",
     "metadata": {
      "slideshow": {
       "slide_type": "slide"
      }
     },
     "source": [
      "### Refering to the value in a variable\n",
      "\n",
      "* When `python` evaluates a variable\n",
      "    * variable replaced with value"
     ]
    },
    {
     "cell_type": "code",
     "collapsed": false,
     "input": [
      "spam = 15\n",
      "spam + 5"
     ],
     "language": "python",
     "metadata": {
      "slideshow": {
       "slide_type": "fragment"
      }
     },
     "outputs": []
    },
    {
     "cell_type": "markdown",
     "metadata": {
      "slideshow": {
       "slide_type": "fragment"
      }
     },
     "source": [
      "**QUESTION 2:** Check the value of spam.  Did it change? "
     ]
    },
    {
     "cell_type": "markdown",
     "metadata": {
      "slideshow": {
       "slide_type": "slide"
      }
     },
     "source": [
      "### Update Variables\n",
      "\n",
      "We use an expression and an assignment statement"
     ]
    },
    {
     "cell_type": "code",
     "collapsed": false,
     "input": [
      "spam = 15\n",
      "spam = spam + 5\n",
      "spam = spam + 5\n",
      "spam = spam + 5\n",
      "spam"
     ],
     "language": "python",
     "metadata": {
      "slideshow": {
       "slide_type": "fragment"
      }
     },
     "outputs": []
    },
    {
     "cell_type": "code",
     "collapsed": false,
     "input": [
      "fizz = 10\n",
      "eggs = 15\n",
      "print(\"Fizz is \",fizz,\"and eggs is\", eggs)\n",
      "spam = fizz + eggs\n",
      "print(\"The value of spam is\", spam)"
     ],
     "language": "python",
     "metadata": {
      "slideshow": {
       "slide_type": "fragment"
      }
     },
     "outputs": []
    },
    {
     "cell_type": "markdown",
     "metadata": {},
     "source": [
      "### Computing with `python`\n",
      "\n",
      "**Example:** A 12 foot ladder that is leaning on a wall with the top at a height of 10 feet.  What is the distance from the base of the ladder to the wall\n",
      "\n",
      "**Recall:** $c^2 = a^2 + b^2$"
     ]
    },
    {
     "cell_type": "code",
     "collapsed": false,
     "input": [
      "b_squared = 12**2 - 10**2\n",
      "b = b_squared**0.5\n",
      "print(\"The distance from the wall to the base of the ladder is\",b)"
     ],
     "language": "python",
     "metadata": {},
     "outputs": [
      {
       "output_type": "stream",
       "stream": "stdout",
       "text": [
        "The distance from the wall to the base of the ladder is 6.63324958071\n"
       ]
      }
     ],
     "prompt_number": 6
    },
    {
     "cell_type": "code",
     "collapsed": false,
     "input": [],
     "language": "python",
     "metadata": {},
     "outputs": []
    }
   ],
   "metadata": {}
  }
 ]
}