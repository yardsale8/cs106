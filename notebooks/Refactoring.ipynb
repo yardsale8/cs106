{
 "cells": [
  {
   "cell_type": "code",
   "execution_count": 3,
   "metadata": {
    "collapsed": false,
    "slideshow": {
     "slide_type": "slide"
    }
   },
   "outputs": [],
   "source": [
    "from datetime import timedelta\n",
    "from IPython.display import YouTubeVideo\n",
    "end = int(timedelta(hours=0, minutes=2, seconds=25).total_seconds())"
   ]
  },
  {
   "cell_type": "markdown",
   "metadata": {
    "slideshow": {
     "slide_type": "slide"
    }
   },
   "source": [
    "### Code Refactoring\n",
    "\n",
    "You will\n",
    "\n",
    "* learn what refactoring is\n",
    "* learn why we refactor\n",
    "* refactor some code"
   ]
  },
  {
   "cell_type": "code",
   "execution_count": 6,
   "metadata": {
    "collapsed": false,
    "slideshow": {
     "slide_type": "slide"
    }
   },
   "outputs": [
    {
     "data": {
      "text/html": [
       "\n",
       "        <iframe\n",
       "            width=\"400\"\n",
       "            height=\"300\"\n",
       "            src=\"https://www.youtube.com/embed/vhYK3pDUijk?autostart=0&end=145\"\n",
       "            frameborder=\"0\"\n",
       "            allowfullscreen\n",
       "        ></iframe>\n",
       "        "
      ],
      "text/plain": [
       "<IPython.lib.display.YouTubeVideo at 0x1067385c0>"
      ]
     },
     "execution_count": 6,
     "metadata": {},
     "output_type": "execute_result"
    }
   ],
   "source": [
    "YouTubeVideo(\"vhYK3pDUijk\", end=end, autostart=0)"
   ]
  },
  {
   "cell_type": "markdown",
   "metadata": {
    "slideshow": {
     "slide_type": "slide"
    }
   },
   "source": [
    "### Set Up\n",
    "\n",
    "* Install py.test\n",
    "    * open WinPython Command Prompt\n",
    "    * install pytest\n",
    "        * pip install -U pytest\n",
    "    * install mock\n",
    "        * pip install mock\n",
    "* Downloard and **extract** `project1_V1_refactor.zip`\n",
    "* Open all the files in `project1_V1_refactor.zip`"
   ]
  },
  {
   "cell_type": "markdown",
   "metadata": {
    "slideshow": {
     "slide_type": "slide"
    }
   },
   "source": [
    "### Goal 1 - Better Organization of the controller"
   ]
  },
  {
   "cell_type": "markdown",
   "metadata": {
    "slideshow": {
     "slide_type": "fragment"
    }
   },
   "source": [
    "#### Problem: The current controller is a mess"
   ]
  },
  {
   "cell_type": "markdown",
   "metadata": {
    "slideshow": {
     "slide_type": "fragment"
    }
   },
   "source": [
    "#### Reason: We are trying to do too many things"
   ]
  },
  {
   "cell_type": "markdown",
   "metadata": {
    "slideshow": {
     "slide_type": "subslide"
    }
   },
   "source": [
    "#### Solution: Make a sub-controller for each task\n",
    "\n",
    "1. Make the following functions\n",
    "    1. `vinyl_tile_controller`\n",
    "    2. `vinyl_sheet_controller`\n",
    "2. Replace parts of `if` with a function call"
   ]
  },
  {
   "cell_type": "markdown",
   "metadata": {
    "slideshow": {
     "slide_type": "slide"
    }
   },
   "source": [
    "### Goal 2 - Make the display functions (i.e. `easygui.textbox`) easier to test\n",
    "\n",
    "#### Problem: Can't test the display functions\n",
    "\n",
    "#### Reason: They are not fruitful"
   ]
  },
  {
   "cell_type": "markdown",
   "metadata": {
    "slideshow": {
     "slide_type": "subslide"
    }
   },
   "source": [
    "#### Solution: Return the value of `easygui.testbox` in the following functions\n",
    "\n",
    "1. `display_tile_to_order`\n",
    "2. `display_sheet_to_order`\n",
    "3. `vinyl_tile_controller`\n",
    "4. `vinyl_sheet_controller`"
   ]
  },
  {
   "cell_type": "markdown",
   "metadata": {
    "slideshow": {
     "slide_type": "slide"
    }
   },
   "source": [
    "### We can now test our code\n",
    "\n",
    "* Open `testV1.py`\n",
    "* Run this file\n",
    "* All tests should pass"
   ]
  },
  {
   "cell_type": "markdown",
   "metadata": {
    "slideshow": {
     "slide_type": "slide"
    }
   },
   "source": [
    "### Use these tests often!\n",
    "\n",
    "* Run them after each change\n",
    "* They should still pass\n",
    "* This is why we should love tests!\n",
    "    * Confident we made correct changes"
   ]
  },
  {
   "cell_type": "markdown",
   "metadata": {
    "slideshow": {
     "slide_type": "slide"
    }
   },
   "source": [
    "### Goal 3 - Get at all of the GUI prompts/options programmically\n",
    "\n",
    "#### Problem: Testing the current version will be fragile\n",
    "\n",
    "#### Reason: We have hard-coded in the options\n",
    "\n",
    "If we change **any** text, test will fail"
   ]
  },
  {
   "cell_type": "markdown",
   "metadata": {
    "slideshow": {
     "slide_type": "subslide"
    }
   },
   "source": [
    "#### Solution:\n",
    "\n",
    "1. Make functions that return the prompts/options\n",
    "2. Call these functions in view functions"
   ]
  },
  {
   "cell_type": "markdown",
   "metadata": {
    "slideshow": {
     "slide_type": "subslide"
    }
   },
   "source": [
    "#### Task: Make and use these functions\n",
    "\n",
    "1. main_menu_options\n",
    "2. floor_area_fields\n",
    "3. tile_size_options\n",
    "4. convert_tile_size_to_int\n",
    "5. continue_menu_options"
   ]
  },
  {
   "cell_type": "markdown",
   "metadata": {
    "slideshow": {
     "slide_type": "slide"
    }
   },
   "source": [
    "### Goal 4 - Get all output strings programmically\n",
    "\n",
    "#### Problem: Testing output will be fragile\n",
    "\n",
    "#### Reason: We have hard coded the string construction\n",
    "\n",
    "If we change these strings **at all**, test will fail."
   ]
  },
  {
   "cell_type": "markdown",
   "metadata": {
    "slideshow": {
     "slide_type": "subslide"
    }
   },
   "source": [
    "#### Solution: Create functions that construct the strings\n",
    "\n",
    "#### Task: Make and use the following functions\n",
    "\n",
    "1. tile_prompt\n",
    "2. sheet_prompt"
   ]
  },
  {
   "cell_type": "markdown",
   "metadata": {
    "slideshow": {
     "slide_type": "slide"
    }
   },
   "source": [
    "### Now it is your turn\n",
    "\n",
    "* Move `test_V1_refactored.py` into your project folder\n",
    "* Refactor your code in the same way\n",
    "    * with **exactly** the same names\n",
    "* Get all the tests in `test_V1_refactored.py` to pass"
   ]
  }
 ],
 "metadata": {
  "celltoolbar": "Slideshow",
  "kernelspec": {
   "display_name": "Python 3",
   "language": "python",
   "name": "python3"
  },
  "language_info": {
   "codemirror_mode": {
    "name": "ipython",
    "version": 3
   },
   "file_extension": ".py",
   "mimetype": "text/x-python",
   "name": "python",
   "nbconvert_exporter": "python",
   "pygments_lexer": "ipython3",
   "version": "3.4.4"
  }
 },
 "nbformat": 4,
 "nbformat_minor": 0
}
