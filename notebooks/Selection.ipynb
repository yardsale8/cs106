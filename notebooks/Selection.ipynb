{
 "cells": [
  {
   "cell_type": "markdown",
   "metadata": {
    "slideshow": {
     "slide_type": "slide"
    }
   },
   "source": [
    "### Boolean Variables \n",
    "\n",
    "* Two special values for truth\n",
    "    * `True`\n",
    "    * `False`\n",
    "* A variable that stores the values is called a *Boolean variable*"
   ]
  },
  {
   "cell_type": "markdown",
   "metadata": {
    "slideshow": {
     "slide_type": "slide"
    }
   },
   "source": [
    "### Boolean Operations\n",
    "\n",
    "* `and`\n",
    "    * all must be true\n",
    "* `or`\n",
    "    * at least one must be true"
   ]
  },
  {
   "cell_type": "code",
   "execution_count": 1,
   "metadata": {
    "collapsed": false,
    "slideshow": {
     "slide_type": "subslide"
    }
   },
   "outputs": [
    {
     "name": "stdout",
     "output_type": "stream",
     "text": [
      "True\n",
      "False\n",
      "False\n",
      "False\n"
     ]
    }
   ],
   "source": [
    "print(True and True)\n",
    "print(True and False)\n",
    "print(False and True)\n",
    "print(False and False)"
   ]
  },
  {
   "cell_type": "code",
   "execution_count": 2,
   "metadata": {
    "collapsed": false,
    "slideshow": {
     "slide_type": "subslide"
    }
   },
   "outputs": [
    {
     "name": "stdout",
     "output_type": "stream",
     "text": [
      "True\n",
      "True\n",
      "True\n",
      "False\n"
     ]
    }
   ],
   "source": [
    "print(True or True)\n",
    "print(True or False)\n",
    "print(False or True)\n",
    "print(False or False)"
   ]
  },
  {
   "cell_type": "markdown",
   "metadata": {
    "slideshow": {
     "slide_type": "slide"
    }
   },
   "source": [
    "### Comparison Operations\n",
    "\n",
    "* Comparison operators return `True` or `False`\n",
    "* We have the following comparisons in python\n",
    "    * `==`\n",
    "    * `<=`\n",
    "    * `>=`\n",
    "    * `<`\n",
    "    * `>`"
   ]
  },
  {
   "cell_type": "code",
   "execution_count": 3,
   "metadata": {
    "collapsed": false,
    "slideshow": {
     "slide_type": "subslide"
    }
   },
   "outputs": [
    {
     "name": "stdout",
     "output_type": "stream",
     "text": [
      "False\n",
      "True\n",
      "False\n",
      "True\n",
      "True\n",
      "True\n"
     ]
    }
   ],
   "source": [
    "print(3 == 4)\n",
    "print(3 <= 4)\n",
    "print(3 >= 4)\n",
    "print(3 < 4)\n",
    "print(not (3 > 4))\n",
    "print((3 > 4) or (3 < 4))"
   ]
  },
  {
   "cell_type": "markdown",
   "metadata": {
    "slideshow": {
     "slide_type": "slide"
    }
   },
   "source": [
    "### `if` Statements\n",
    "\n",
    "* Three forms\n",
    "    1. `if`\n",
    "    2. `if-else`\n",
    "    3. `if-elif-else`"
   ]
  },
  {
   "cell_type": "markdown",
   "metadata": {
    "slideshow": {
     "slide_type": "slide"
    }
   },
   "source": [
    "#### Example - Convert Celsius to Fahrenheit\n",
    "1. Print the temp in Fahrenheit\n",
    "2. Print a warning when\n",
    "    1. temp > 90\n",
    "    2. temp < 30"
   ]
  },
  {
   "cell_type": "code",
   "execution_count": 6,
   "metadata": {
    "collapsed": false,
    "slideshow": {
     "slide_type": "subslide"
    }
   },
   "outputs": [],
   "source": [
    "def cels_to_fahr(cels):\n",
    "    fahr = 9.0/5.0 * cels + 32.0\n",
    "    print (\"\\nThe temp is\", fahr, \"degrees F\")\n",
    "    if fahr >= 90:\n",
    "        print (\"It's really hot!\")\n",
    "    if fahr <= 30:\n",
    "        print (\"Brrrrr. Be sure to dress warmly\")"
   ]
  },
  {
   "cell_type": "code",
   "execution_count": 7,
   "metadata": {
    "collapsed": false,
    "slideshow": {
     "slide_type": "fragment"
    }
   },
   "outputs": [
    {
     "name": "stdout",
     "output_type": "stream",
     "text": [
      "\n",
      "The temp is 50.0 degrees F\n",
      "\n",
      "The temp is -4.0 degrees F\n",
      "Brrrrr. Be sure to dress warmly\n",
      "\n",
      "The temp is 95.0 degrees F\n",
      "It's really hot!\n"
     ]
    }
   ],
   "source": [
    "cels_to_fahr(10)\n",
    "cels_to_fahr(-20)\n",
    "cels_to_fahr(35)"
   ]
  },
  {
   "cell_type": "markdown",
   "metadata": {
    "slideshow": {
     "slide_type": "slide"
    }
   },
   "source": [
    "### Diagramming the Flow of Execution\n",
    "<img src=\"files/conditional_temp.png\"/ height=300 width=400>"
   ]
  },
  {
   "cell_type": "markdown",
   "metadata": {
    "slideshow": {
     "slide_type": "slide"
    }
   },
   "source": [
    "#### Example - Quiz Score Function\n",
    "\n",
    "\n",
    "* Quiz is out of 10 points\n",
    "* Grading scale as follows:\n",
    "    * 9 or 10 are A's\n",
    "    * 8 is a B\n",
    "    * 7 is a C\n",
    "    * 6 is a D\n",
    "    * 5 or less is an F"
   ]
  },
  {
   "cell_type": "markdown",
   "metadata": {
    "slideshow": {
     "slide_type": "slide"
    }
   },
   "source": [
    "### Function Definition 1 (Poor Design)"
   ]
  },
  {
   "cell_type": "code",
   "execution_count": 8,
   "metadata": {
    "collapsed": false,
    "slideshow": {
     "slide_type": "fragment"
    }
   },
   "outputs": [],
   "source": [
    "def quiz(score):\n",
    "    if score >= 9:\n",
    "        print(\"The grade is an A\")\n",
    "    elif score == 8:\n",
    "        print(\"The grade is a B\")\n",
    "    elif score == 7:\n",
    "        print(\"The grade is a C\")\n",
    "    elif score == 6:\n",
    "        print(\"The grade is a D\")\n",
    "    else:\n",
    "        print(\"The grade is an F\")"
   ]
  },
  {
   "cell_type": "markdown",
   "metadata": {
    "slideshow": {
     "slide_type": "fragment"
    }
   },
   "source": [
    "#### Why is this a poor function design?"
   ]
  },
  {
   "cell_type": "markdown",
   "metadata": {
    "slideshow": {
     "slide_type": "slide"
    }
   },
   "source": [
    "### Function Definition 2 (Fruitful and No Side Effects"
   ]
  },
  {
   "cell_type": "code",
   "execution_count": 17,
   "metadata": {
    "collapsed": false,
    "slideshow": {
     "slide_type": "fragment"
    }
   },
   "outputs": [],
   "source": [
    "def quiz(score):\n",
    "    if score >= 9:\n",
    "        grade = \"A\"\n",
    "    elif score == 8:\n",
    "        grade = \"B\"\n",
    "    elif score == 7:\n",
    "        grade = \"C\"\n",
    "    elif score == 6:\n",
    "        grade = \"D\"\n",
    "    else:\n",
    "        grade = \"F\"\n",
    "    return grade"
   ]
  },
  {
   "cell_type": "markdown",
   "metadata": {
    "slideshow": {
     "slide_type": "slide"
    }
   },
   "source": [
    "### Testing the Function"
   ]
  },
  {
   "cell_type": "code",
   "execution_count": 19,
   "metadata": {
    "collapsed": false,
    "slideshow": {
     "slide_type": "fragment"
    }
   },
   "outputs": [],
   "source": [
    "def test_quiz():\n",
    "    assert quiz(10) == \"A\"\n",
    "    assert quiz(9) == \"A\"\n",
    "    assert quiz(8) == \"B\"\n",
    "    assert quiz(7) == \"C\"\n",
    "    assert quiz(6) == \"D\"\n",
    "    assert quiz(4) == \"F\"\n",
    "test_quiz()"
   ]
  },
  {
   "cell_type": "markdown",
   "metadata": {
    "slideshow": {
     "slide_type": "slide"
    }
   },
   "source": [
    "### The `if-else` expression\n",
    "\n",
    "Syntax:\n",
    "\n",
    "    <expression1> if <condition> else <expression2>"
   ]
  },
  {
   "cell_type": "code",
   "execution_count": 4,
   "metadata": {
    "collapsed": false,
    "slideshow": {
     "slide_type": "subslide"
    }
   },
   "outputs": [
    {
     "name": "stdout",
     "output_type": "stream",
     "text": [
      "3\n",
      "4\n"
     ]
    }
   ],
   "source": [
    "#Example 1 - With values\n",
    "print(3 if 3 <= 4 else 4)\n",
    "print(3 if 3 >= 4 else 4)"
   ]
  },
  {
   "cell_type": "code",
   "execution_count": 5,
   "metadata": {
    "collapsed": false,
    "slideshow": {
     "slide_type": "subslide"
    }
   },
   "outputs": [
    {
     "name": "stdout",
     "output_type": "stream",
     "text": [
      "5\n",
      "2\n"
     ]
    }
   ],
   "source": [
    "#Examples - The absolute value\n",
    "x = 5\n",
    "print(x if x >= 0 else -1*x)\n",
    "y = -2\n",
    "print(y if y >= 0 else -1*y)"
   ]
  },
  {
   "cell_type": "markdown",
   "metadata": {
    "slideshow": {
     "slide_type": "slide"
    }
   },
   "source": [
    "## `if` expression or `if` statement\n",
    "\n",
    "### Advantages of expression\n",
    "\n",
    "* Can be embedded in other expressions\n",
    "    * the argument for a function\n",
    "    * In an arithmetic expression\n",
    "* `if` statement cannot be embedded"
   ]
  },
  {
   "cell_type": "code",
   "execution_count": 10,
   "metadata": {
    "collapsed": false,
    "slideshow": {
     "slide_type": "subslide"
    }
   },
   "outputs": [
    {
     "name": "stdout",
     "output_type": "stream",
     "text": [
      "39.9\n"
     ]
    }
   ],
   "source": [
    "def tax(gross):\n",
    "    return round(0.07*gross,2)\n",
    "\n",
    "hours = 45\n",
    "rate = 12\n",
    "OT = rate*1.5\n",
    "# The next line has an if expression INSIDE a function call\n",
    "my_tax = tax((rate*40 + (hours - 40)*OT) if hours > 40 else hours*rate)\n",
    "print(my_tax)"
   ]
  },
  {
   "cell_type": "markdown",
   "metadata": {
    "slideshow": {
     "slide_type": "slide"
    }
   },
   "source": [
    "### Disadvantages of expression\n",
    "\n",
    "* Harder to read\n",
    "* Nesting becomes a mess\n",
    "    * but wrapping lines helps"
   ]
  },
  {
   "cell_type": "code",
   "execution_count": 11,
   "metadata": {
    "collapsed": false,
    "slideshow": {
     "slide_type": "subslide"
    }
   },
   "outputs": [],
   "source": [
    "def quiz_expression(score):\n",
    "    print(\"The grade is an A\") if score >= 9 else \\\n",
    "    print(\"The grade is an B\") if score >= 8 else \\\n",
    "    print(\"The grade is an C\") if score >= 7 else \\\n",
    "    print(\"The grade is an D\") if score >= 6 else \\\n",
    "    print(\"The grade is an F\")"
   ]
  },
  {
   "cell_type": "code",
   "execution_count": 12,
   "metadata": {
    "collapsed": false,
    "slideshow": {
     "slide_type": "subslide"
    }
   },
   "outputs": [
    {
     "name": "stdout",
     "output_type": "stream",
     "text": [
      "Score was a 5\n",
      "The grade is an F\n",
      "\n",
      "Score was a 6\n",
      "The grade is an D\n",
      "\n",
      "Score was a 7\n",
      "The grade is an C\n",
      "\n",
      "Score was a 8\n",
      "The grade is an B\n",
      "\n",
      "Score was a 9\n",
      "The grade is an A\n",
      "\n",
      "Score was a 10\n",
      "The grade is an A\n",
      "\n"
     ]
    }
   ],
   "source": [
    "for i in range(5,11):\n",
    "    print(\"Score was a\",i)\n",
    "    quiz_expression(i)\n",
    "    print()"
   ]
  },
  {
   "cell_type": "code",
   "execution_count": null,
   "metadata": {
    "collapsed": false
   },
   "outputs": [],
   "source": []
  }
 ],
 "metadata": {
  "celltoolbar": "Slideshow",
  "kernelspec": {
   "display_name": "Python 3",
   "language": "python",
   "name": "python3"
  },
  "language_info": {
   "codemirror_mode": {
    "name": "ipython",
    "version": 3
   },
   "file_extension": ".py",
   "mimetype": "text/x-python",
   "name": "python",
   "nbconvert_exporter": "python",
   "pygments_lexer": "ipython3",
   "version": "3.4.4"
  }
 },
 "nbformat": 4,
 "nbformat_minor": 0
}
