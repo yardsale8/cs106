{
 "metadata": {
  "celltoolbar": "Slideshow",
  "name": ""
 },
 "nbformat": 3,
 "nbformat_minor": 0,
 "worksheets": [
  {
   "cells": [
    {
     "cell_type": "code",
     "collapsed": false,
     "input": [
      "%run talktools\n",
      "from __future__ import print_function"
     ],
     "language": "python",
     "metadata": {
      "slideshow": {
       "slide_type": "skip"
      }
     },
     "outputs": [
      {
       "html": [
        "<style>\r\n",
        "\r\n",
        ".rendered_html\r\n",
        "{\r\n",
        "  color: #2C5494;\r\n",
        "  font-family: Ubuntu;\r\n",
        "  font-size: 250%;\r\n",
        "  line-height: 1.1;\r\n",
        "  margin: 0.5em 0;\r\n",
        "  }\r\n",
        "\r\n",
        ".title\r\n",
        "{\r\n",
        "  color: #498AF3;\r\n",
        "  font-size: 250%;\r\n",
        "  font-weight:bold;\r\n",
        "  line-height: 1.2; \r\n",
        "  margin: 10px 50px 10px;\r\n",
        "  }\r\n",
        "\r\n",
        ".subtitle\r\n",
        "{\r\n",
        "  color: #386BBC;\r\n",
        "  font-size: 180%;\r\n",
        "  font-weight:bold;\r\n",
        "  line-height: 1.2; \r\n",
        "  margin: 20px 50px 20px;\r\n",
        "  }\r\n",
        "\r\n",
        ".slide-header, p.slide-header\r\n",
        "{\r\n",
        "  color: #498AF3;\r\n",
        "  font-size: 200%;\r\n",
        "  font-weight:bold;\r\n",
        "  margin: 0px 20px 10px;\r\n",
        "  page-break-before: always;\r\n",
        "  text-align: center;\r\n",
        "  }\r\n",
        "\r\n",
        ".rendered_html h1\r\n",
        "{\r\n",
        "  color: #498AF3;\r\n",
        "  line-height: 1.2; \r\n",
        "  margin: 0.15em 0em 0.5em;\r\n",
        "  page-break-before: always;\r\n",
        "  text-align: center;\r\n",
        "  }\r\n",
        "\r\n",
        "\r\n",
        ".rendered_html h2\r\n",
        "{ \r\n",
        "  color: #386BBC;\r\n",
        "  line-height: 1.2;\r\n",
        "  margin: 1.1em 0em 0.5em;\r\n",
        "  }\r\n",
        "\r\n",
        ".rendered_html h3\r\n",
        "{ \r\n",
        "  font-size: 120%;\r\n",
        "  line-height: 1.4;\r\n",
        "  margin: 0.5em 0em 0.5em;\r\n",
        "  }\r\n",
        "\r\n",
        ".rendered_html li\r\n",
        "{\r\n",
        "  line-height: 1.8;\r\n",
        "  }\r\n",
        "\r\n",
        ".input_prompt, .CodeMirror-lines\r\n",
        "{\r\n",
        "  font-family: Consolas;\r\n",
        "  font-size: 200%;\r\n",
        "  line-height:1.4;\r\n",
        "  }\r\n",
        ".output_area\r\n",
        "{\r\n",
        "  font-family: Consolas;\r\n",
        "  font-size: 160%;\r\n",
        "  line-height:1.5;\r\n",
        "  }\r\n",
        "\r\n",
        ".gap-above\r\n",
        "{\r\n",
        "  padding-top: 200px;\r\n",
        "  }\r\n",
        "\r\n",
        ".gap01\r\n",
        "{\r\n",
        "  padding-top: 20px;\r\n",
        "  }\r\n",
        "\r\n",
        ".gap05\r\n",
        "{\r\n",
        "  padding-top: 100px;\r\n",
        "  }\r\n",
        "\r\n",
        ".gap1\r\n",
        "{\r\n",
        "  padding-top: 200px;\r\n",
        "  }\r\n",
        "\r\n",
        ".gap2\r\n",
        "{\r\n",
        "  padding-top: 400px;\r\n",
        "  }\r\n",
        "\r\n",
        ".gap3\r\n",
        "{\r\n",
        "  padding-top: 600px;\r\n",
        "  }\r\n",
        "\r\n",
        ".emph\r\n",
        "{\r\n",
        "  color: #386BBC;\r\n",
        "  }\r\n",
        "\r\n",
        ".warn\r\n",
        "{\r\n",
        "  color: red;\r\n",
        "  }\r\n",
        "\r\n",
        ".center\r\n",
        "{\r\n",
        "  text-align: center;\r\n",
        "  }\r\n",
        "\r\n",
        ".nb_link\r\n",
        "{\r\n",
        "    padding-bottom: 0.5em;\r\n",
        "}\r\n",
        "\r\n",
        "</style>\r\n"
       ],
       "metadata": {},
       "output_type": "display_data",
       "text": [
        "<IPython.core.display.HTML at 0x102fc03d0>"
       ]
      }
     ],
     "prompt_number": 4
    },
    {
     "cell_type": "markdown",
     "metadata": {
      "slideshow": {
       "slide_type": "slide"
      }
     },
     "source": [
      "### Boolean Variables \n",
      "\n",
      "* Two special values for truth\n",
      "    * `True`\n",
      "    * `False`\n",
      "* A variable that stores the values is called a *Boolean variable*"
     ]
    },
    {
     "cell_type": "markdown",
     "metadata": {
      "slideshow": {
       "slide_type": "slide"
      }
     },
     "source": [
      "### Boolean Operations\n",
      "\n",
      "* `and`\n",
      "    * all must be true\n",
      "* `or`\n",
      "    * at least one must be true"
     ]
    },
    {
     "cell_type": "code",
     "collapsed": false,
     "input": [
      "print(True and True)\n",
      "print(True and False)\n",
      "print(False and True)\n",
      "print(False and False)"
     ],
     "language": "python",
     "metadata": {
      "slideshow": {
       "slide_type": "subslide"
      }
     },
     "outputs": [
      {
       "output_type": "stream",
       "stream": "stdout",
       "text": [
        "True\n",
        "False\n",
        "False\n",
        "False\n"
       ]
      }
     ],
     "prompt_number": 20
    },
    {
     "cell_type": "code",
     "collapsed": false,
     "input": [
      "print(True or True)\n",
      "print(True or False)\n",
      "print(False or True)\n",
      "print(False or False)"
     ],
     "language": "python",
     "metadata": {
      "slideshow": {
       "slide_type": "subslide"
      }
     },
     "outputs": [
      {
       "output_type": "stream",
       "stream": "stdout",
       "text": [
        "True\n",
        "True\n",
        "True\n",
        "False\n"
       ]
      }
     ],
     "prompt_number": 21
    },
    {
     "cell_type": "markdown",
     "metadata": {
      "slideshow": {
       "slide_type": "slide"
      }
     },
     "source": [
      "### Comparison Operations\n",
      "\n",
      "* Comparison operators return `True` or `False`\n",
      "* We have the following comparisons in python\n",
      "    * `==`\n",
      "    * `<=`\n",
      "    * `>=`\n",
      "    * `<`\n",
      "    * `>`"
     ]
    },
    {
     "cell_type": "code",
     "collapsed": false,
     "input": [
      "print(3 == 4)\n",
      "print(3 <= 4)\n",
      "print(3 >= 4)\n",
      "print(3 < 4)\n",
      "print(not (3 > 4))\n",
      "print((3 > 4) or (3 < 4))"
     ],
     "language": "python",
     "metadata": {
      "slideshow": {
       "slide_type": "subslide"
      }
     },
     "outputs": [
      {
       "output_type": "stream",
       "stream": "stdout",
       "text": [
        "False\n",
        "True\n",
        "False\n",
        "True\n",
        "True\n",
        "True\n"
       ]
      }
     ],
     "prompt_number": 1
    },
    {
     "cell_type": "markdown",
     "metadata": {
      "slideshow": {
       "slide_type": "slide"
      }
     },
     "source": [
      "### The `if-else` expression\n",
      "\n",
      "Syntax:\n",
      "\n",
      "    <expression1> if <condition> else <expression2>"
     ]
    },
    {
     "cell_type": "code",
     "collapsed": false,
     "input": [
      "#Example 1 - With values\n",
      "print(3 if 3 <= 4 else 4)\n",
      "print(3 if 3 >= 4 else 4)"
     ],
     "language": "python",
     "metadata": {
      "slideshow": {
       "slide_type": "subslide"
      }
     },
     "outputs": [
      {
       "output_type": "stream",
       "stream": "stdout",
       "text": [
        "3\n",
        "4\n"
       ]
      }
     ],
     "prompt_number": 3
    },
    {
     "cell_type": "code",
     "collapsed": false,
     "input": [
      "#Examples - The absolute value\n",
      "x = 5\n",
      "print(x if x >= 0 else -1*x)\n",
      "y = -2\n",
      "print(y if y >= 0 else -1*y)"
     ],
     "language": "python",
     "metadata": {
      "slideshow": {
       "slide_type": "subslide"
      }
     },
     "outputs": [
      {
       "output_type": "stream",
       "stream": "stdout",
       "text": [
        "5\n",
        "2\n"
       ]
      }
     ],
     "prompt_number": 2
    },
    {
     "cell_type": "markdown",
     "metadata": {
      "slideshow": {
       "slide_type": "slide"
      }
     },
     "source": [
      "### `if` Statements\n",
      "\n",
      "* Three forms\n",
      "    1. `if`\n",
      "    2. `if-else`\n",
      "    3. `if-elif-else`"
     ]
    },
    {
     "cell_type": "markdown",
     "metadata": {
      "slideshow": {
       "slide_type": "slide"
      }
     },
     "source": [
      "#### Example - Convert Celsius to Fahrenheit\n",
      "1. Print the temp in Fahrenheit\n",
      "2. Print a warning when\n",
      "    1. temp > 90\n",
      "    2. temp < 30"
     ]
    },
    {
     "cell_type": "code",
     "collapsed": false,
     "input": [
      "def cels_to_fahr(cels):\n",
      "    fahr = 9.0/5.0 * cels + 32.0\n",
      "    print (\"\\nThe temp is\", fahr, \"degrees F\")\n",
      "    if fahr >= 90:\n",
      "        print (\"It's really hot!\")\n",
      "    if fahr <= 30:\n",
      "        print (\"Brrrrr. Be sure to dress warmly\")"
     ],
     "language": "python",
     "metadata": {
      "slideshow": {
       "slide_type": "subslide"
      }
     },
     "outputs": [],
     "prompt_number": 5
    },
    {
     "cell_type": "code",
     "collapsed": false,
     "input": [
      "cels_to_fahr(10)\n",
      "cels_to_fahr(-20)\n",
      "cels_to_fahr(35)"
     ],
     "language": "python",
     "metadata": {
      "slideshow": {
       "slide_type": "fragment"
      }
     },
     "outputs": [
      {
       "output_type": "stream",
       "stream": "stdout",
       "text": [
        "\n",
        "The temp is 50.0 degrees F\n",
        "\n",
        "The temp is -4.0 degrees F\n",
        "Brrrrr. Be sure to dress warmly\n",
        "\n",
        "The temp is 95.0 degrees F\n",
        "It's really hot!\n"
       ]
      }
     ],
     "prompt_number": 6
    },
    {
     "cell_type": "markdown",
     "metadata": {
      "slideshow": {
       "slide_type": "slide"
      }
     },
     "source": [
      "### Diagramming the Flow of Execution\n",
      "<img src=\"files/conditional_temp.png\"/ height=300 width=400>"
     ]
    },
    {
     "cell_type": "markdown",
     "metadata": {
      "slideshow": {
       "slide_type": "slide"
      }
     },
     "source": [
      "#### Example - Quiz Score Function\n",
      "\n",
      "\n",
      "* Quiz is out of 10 points\n",
      "* Grading scale as follows:\n",
      "    * 9 or 10 are A's\n",
      "    * 8 is a B\n",
      "    * 7 is a C\n",
      "    * 6 is a D\n",
      "    * 5 or less is an F"
     ]
    },
    {
     "cell_type": "markdown",
     "metadata": {
      "slideshow": {
       "slide_type": "slide"
      }
     },
     "source": [
      "#### Function Definition"
     ]
    },
    {
     "cell_type": "code",
     "collapsed": false,
     "input": [
      "def quiz(score):\n",
      "    if score >= 9:\n",
      "        print(\"The grade is an A\")\n",
      "    elif score == 8:\n",
      "        print(\"The grade is a B\")\n",
      "    elif score == 7:\n",
      "        print(\"The grade is a C\")\n",
      "    elif score == 6:\n",
      "        print(\"The grade is a D\")\n",
      "    else:\n",
      "        print(\"The grade is an F\")"
     ],
     "language": "python",
     "metadata": {
      "slideshow": {
       "slide_type": "fragment"
      }
     },
     "outputs": [],
     "prompt_number": 62
    },
    {
     "cell_type": "markdown",
     "metadata": {
      "slideshow": {
       "slide_type": "slide"
      }
     },
     "source": [
      "### Testing the Function"
     ]
    },
    {
     "cell_type": "code",
     "collapsed": false,
     "input": [
      "quiz(10)\n",
      "quiz(9)\n",
      "quiz(8)\n",
      "quiz(7)\n",
      "quiz(6)\n",
      "quiz(5)"
     ],
     "language": "python",
     "metadata": {
      "slideshow": {
       "slide_type": "fragment"
      }
     },
     "outputs": [
      {
       "output_type": "stream",
       "stream": "stdout",
       "text": [
        "The grade is an A\n",
        "The grade is an A\n",
        "The grade is a B\n",
        "The grade is a C\n",
        "The grade is a D\n",
        "The grade is an F\n"
       ]
      }
     ],
     "prompt_number": 63
    },
    {
     "cell_type": "markdown",
     "metadata": {
      "slideshow": {
       "slide_type": "slide"
      }
     },
     "source": [
      "## `if` expression or `if` statement\n",
      "\n",
      "### Advantages of expression\n",
      "\n",
      "* Can be embedded in other expressions\n",
      "    * the argument for a function\n",
      "    * In an arithmetic expression\n",
      "* `if` statement cannot be embedded"
     ]
    },
    {
     "cell_type": "code",
     "collapsed": false,
     "input": [
      "def tax(gross):\n",
      "    return round(0.07*gross,2)\n",
      "\n",
      "hours = 45\n",
      "rate = 12\n",
      "OT = rate*1.5\n",
      "# The next line has an if expression INSIDE a function call\n",
      "my_tax = tax((rate*40 + (hours - 40)*OT) if hours > 40 else hours*rate)\n",
      "print(my_tax)"
     ],
     "language": "python",
     "metadata": {
      "slideshow": {
       "slide_type": "subslide"
      }
     },
     "outputs": [
      {
       "output_type": "stream",
       "stream": "stdout",
       "text": [
        "39.9\n"
       ]
      }
     ],
     "prompt_number": 14
    },
    {
     "cell_type": "markdown",
     "metadata": {
      "slideshow": {
       "slide_type": "slide"
      }
     },
     "source": [
      "### Disadvantages of expression\n",
      "\n",
      "* Harder to read\n",
      "* Nesting becomes a mess\n",
      "    * but wrapping lines helps"
     ]
    },
    {
     "cell_type": "code",
     "collapsed": false,
     "input": [
      "def quiz_expression(score):\n",
      "    print(\"The grade is an A\") if score >= 9 else \\\n",
      "    print(\"The grade is an B\") if score >= 8 else \\\n",
      "    print(\"The grade is an C\") if score >= 7 else \\\n",
      "    print(\"The grade is an D\") if score >= 6 else \\\n",
      "    print(\"The grade is an F\")"
     ],
     "language": "python",
     "metadata": {
      "slideshow": {
       "slide_type": "subslide"
      }
     },
     "outputs": [],
     "prompt_number": 9
    },
    {
     "cell_type": "code",
     "collapsed": false,
     "input": [
      "for i in range(5,11):\n",
      "    print(\"Score was a\",i)\n",
      "    quiz_expression(i)\n",
      "    print()"
     ],
     "language": "python",
     "metadata": {
      "slideshow": {
       "slide_type": "subslide"
      }
     },
     "outputs": [
      {
       "output_type": "stream",
       "stream": "stdout",
       "text": [
        "Score was a 5\n",
        "The grade is an F\n",
        "\n",
        "Score was a 6\n",
        "The grade is an D\n",
        "\n",
        "Score was a 7\n",
        "The grade is an C\n",
        "\n",
        "Score was a 8\n",
        "The grade is an B\n",
        "\n",
        "Score was a 9\n",
        "The grade is an A\n",
        "\n",
        "Score was a 10\n",
        "The grade is an A\n",
        "\n"
       ]
      }
     ],
     "prompt_number": 11
    },
    {
     "cell_type": "code",
     "collapsed": false,
     "input": [],
     "language": "python",
     "metadata": {},
     "outputs": []
    }
   ],
   "metadata": {}
  }
 ]
}