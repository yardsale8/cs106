{
 "metadata": {
  "name": "",
  "signature": "sha256:58f87e5e67e11b5d73b1dc1a6c1b966032b1283d2b76413a628075c424d86a1e"
 },
 "nbformat": 3,
 "nbformat_minor": 0,
 "worksheets": [
  {
   "cells": [
    {
     "cell_type": "markdown",
     "metadata": {
      "slideshow": {
       "slide_type": "slide"
      }
     },
     "source": [
      "# Objectives\n",
      "\n",
      "In this lecture we will\n",
      "\n",
      "1. Introduce *abstraction* and *generalization*\n",
      "2. Use variables as a first form of abstraction\n",
      "3. Use variables and input as a first form of generalization"
     ]
    },
    {
     "cell_type": "markdown",
     "metadata": {
      "slideshow": {
       "slide_type": "slide"
      }
     },
     "source": [
      "# Outcomes\n",
      "\n",
      "At the end of this lecture, as student should be able to\n",
      "\n",
      "1. Define abstraction and generalization\n",
      "2. Use variables to provide abstraction\n",
      "3. Use variables and input to provide generalization\n",
      "4. Discuss the improvements provided by abstraction and generalization"
     ]
    },
    {
     "cell_type": "markdown",
     "metadata": {
      "slideshow": {
       "slide_type": "slide"
      }
     },
     "source": [
      "# Abstraction\n",
      "\n",
      "* **Abstraction** is an emphasis on the idea, qualities, and properties rather than the particulars\n",
      "* Supression of detail\n",
      "* We use *variables* when abstracting\n",
      "    * Name the features\n",
      "    * Hide the values"
     ]
    },
    {
     "cell_type": "markdown",
     "metadata": {
      "slideshow": {
       "slide_type": "subslide"
      }
     },
     "source": [
      "# References\n",
      "\n",
      "The following information is a replication of the page found at [THIS LINK](http://www.investopedia.com/articles/03/101503.asp)"
     ]
    },
    {
     "cell_type": "markdown",
     "metadata": {
      "slideshow": {
       "slide_type": "skip"
      }
     },
     "source": [
      "<div class=\"layout-body layout-body-article box clear\">\n",
      "            <div class=\"content-box\" >\n",
      "        <p>At some point in your life, you may have had to make a series of fixed payments over a period of time - such as rent or car payments - or have received a series of payments over a period of time, such as bond coupons. These are called <a href=\"/terms/a/annuity.asp\">annuities</a>. If you <a href=\"/articles/03/082703.asp\">understand the time value of money</a>, you're ready to learn about annuities and how their present and future values are calculated.</p>\n",
      "<p><strong>What Are Annuities?</strong></p>\n",
      "<p><a href=\"/articles/retirement/05/063005.asp\">Annuities are essentially a series of fixed payments</a> required from you or paid to you at a specified frequency over the course of a fixed time period. The most common payment frequencies are yearly, semi-annually (twice a year), quarterly and monthly. There are two basic types of annuities: ordinary annuities and annuities due.</p>\n",
      "<ul><li><a href=\"/terms/o/ordinaryannuity.asp\">Ordinary Annuity</a>: Payments are required at the end of each period. For example, straight bonds usually pay coupon payments at the end of every six months until the bond's maturity date.</li>\n",
      "<li><a href=\"/terms/a/annuitydue.asp\">Annuity Due</a>: Payments are required at the beginning of each period. Rent is an example of annuity due. You are usually required to pay rent when you first move in at the beginning of the month, and then on the first of each month thereafter.</li>\n",
      "</ul><p>Since the present and future value calculations for ordinary annuities and annuities due are slightly different, we will first discuss the present and future value calculation for ordinary annuities.</p>\n",
      "</div>"
     ]
    },
    {
     "cell_type": "markdown",
     "metadata": {
      "slideshow": {
       "slide_type": "skip"
      }
     },
     "source": [
      "<p><strong>Calculating the Future Value of an Ordinary </strong><strong>Annuity</strong></p>\n",
      "<p>If you know how much you can invest per period for a certain time period, the future value of an ordinary annuity formula is useful for finding out how much you would have in the future by investing at your given interest rate. If you are making payments on a loan, the future value is useful in determining the total cost of the loan.</p>"
     ]
    },
    {
     "cell_type": "markdown",
     "metadata": {
      "slideshow": {
       "slide_type": "slide"
      }
     },
     "source": [
      "<p>Let's now run through Example 1. Consider the following annuity cash flow schedule:</p>\n",
      "<table align=\"center\" border=\"0\" cellpadding=\"2\" cellspacing=\"0\" style=\"border-collapse:collapse;text-align:left;width:60%;\"><tbody><tr><td><img alt=\"101503_1.gif\" src=\"http://i.investopedia.com/inv/articles/site/mutualfund/101503_1.gif\" style=\"height:166px;width:288px;\" /></td>\n",
      "</tr></tbody></table>"
     ]
    },
    {
     "cell_type": "markdown",
     "metadata": {
      "slideshow": {
       "slide_type": "skip"
      }
     },
     "source": [
      "<p>To calculate the <a href=\"http://www.investopedia.com/terms/f/future-value-annuity.asp\">future value of the annuity</a>, we have to calculate the future value of each cash flow. Let's assume that you are receiving $1,000 every year for the next five years, and you invested each payment at 5%. The following diagram shows how much you would have at the end of the five-year period:</p>"
     ]
    },
    {
     "cell_type": "markdown",
     "metadata": {
      "slideshow": {
       "slide_type": "slide"
      }
     },
     "source": [
      "<table align=\"center\" border=\"0\" cellpadding=\"2\" cellspacing=\"0\" style=\"border-collapse:collapse;text-align:left;width:60%;\"><tbody><tr><td><img alt=\"101503_2.gif\" src=\"http://i.investopedia.com/inv/articles/site/mutualfund/101503_2.gif\" style=\"height:194px;width:432px;\" /></td>\n",
      "</tr></tbody></table>"
     ]
    },
    {
     "cell_type": "code",
     "collapsed": false,
     "input": [
      "#Calulation with no abstraction\n",
      "print(1000*1.05**0 + 1000*1.05**1 + 1000*1.05**2 + 1000*1.05**3 + 1000*1.05**4)"
     ],
     "language": "python",
     "metadata": {
      "slideshow": {
       "slide_type": "slide"
      }
     },
     "outputs": [
      {
       "output_type": "stream",
       "stream": "stdout",
       "text": [
        "5525.63125\n"
       ]
      }
     ],
     "prompt_number": 3
    },
    {
     "cell_type": "code",
     "collapsed": false,
     "input": [
      "# Calculation with variable abstraction\n",
      "Monthly_Amount = 1000\n",
      "Interest = 0.05\n",
      "Base = 1 + Interest\n",
      "Future_Value = Monthly_Amount*Base**0 + Monthly_Amount*Base**1 \\\n",
      "             + Monthly_Amount*Base**2 + Monthly_Amount*Base**3 \\\n",
      "             + Monthly_Amount*Base**4\n",
      "print(Future_Value)\n",
      "#NOTE: You can wrap a line using \\\\ at the end"
     ],
     "language": "python",
     "metadata": {
      "slideshow": {
       "slide_type": "fragment"
      }
     },
     "outputs": [
      {
       "output_type": "stream",
       "stream": "stdout",
       "text": [
        "5525.63125\n"
       ]
      }
     ],
     "prompt_number": 8
    },
    {
     "cell_type": "markdown",
     "metadata": {
      "slideshow": {
       "slide_type": "slide"
      }
     },
     "source": [
      "# *Important Question*\n",
      "\n",
      "### What do we gain by abstracting with variables?"
     ]
    },
    {
     "cell_type": "markdown",
     "metadata": {
      "slideshow": {
       "slide_type": "fragment"
      }
     },
     "source": [
      "# Answer\n",
      "\n",
      "### Intuition into the meaning of the calculations"
     ]
    },
    {
     "cell_type": "markdown",
     "metadata": {
      "slideshow": {
       "slide_type": "skip"
      }
     },
     "source": [
      "<p>Since we have to add the future value of each payment, you may have noticed that if you have an ordinary annuity with many cash flows, it would take a long time to calculate all the future values and then add them together. Fortunately, mathematics provides a formula that serves as a shortcut for finding the accumulated value of all cash flows received from an ordinary annuity:</p>"
     ]
    },
    {
     "cell_type": "markdown",
     "metadata": {
      "slideshow": {
       "slide_type": "slide"
      }
     },
     "source": [
      "<table align=\"center\" border=\"0\" cellpadding=\"2\" cellspacing=\"0\" style=\"border-collapse:collapse;text-align:left;width:60%;\"><tbody><tr><td><img alt=\"101503_5.gif\" src=\"http://i.investopedia.com/inv/articles/site/mutualfund/101503_5.gif\" style=\"height:47px;width:224px;\" />C = Cash flow per periodi = interest raten = number of payments</td>\n",
      "</tr></tbody></table><p>Using the above formula for Example 1 above, this is the result:</p>\n",
      "<table align=\"center\" border=\"0\" cellpadding=\"2\" cellspacing=\"0\" style=\"border-collapse:collapse;text-align:left;width:60%;\"><tbody><tr><td><img alt=\"101503_4.gif\" src=\"http://i.investopedia.com/inv/articles/site/mutualfund/101503_4.gif\" style=\"height:47px;width:285px;\" />= \\$1000*[5.53] <strong>= \\$5525.63</strong></td>\n",
      "</tr></tbody></table>"
     ]
    },
    {
     "cell_type": "markdown",
     "metadata": {
      "slideshow": {
       "slide_type": "skip"
      }
     },
     "source": [
      "<p>Note that the 1 cent difference between \\$5,525.64 and \\$5,525.63 is due to a rounding error in the first calculation. Each value of the first calculation must be rounded to the nearest penny - the more you have to round numbers in a calculation, the more likely rounding errors will occur. So, the above formula not only provides a shortcut to finding FV of an ordinary annuity but also gives a more accurate result.</p>"
     ]
    },
    {
     "cell_type": "code",
     "collapsed": false,
     "input": [
      "#Calulation with no abstraction\n",
      "print(1000*(((1 + 0.05)**5 -1)/0.05))"
     ],
     "language": "python",
     "metadata": {
      "slideshow": {
       "slide_type": "slide"
      }
     },
     "outputs": [
      {
       "output_type": "stream",
       "stream": "stdout",
       "text": [
        "5525.631250000007\n"
       ]
      }
     ],
     "prompt_number": 9
    },
    {
     "cell_type": "code",
     "collapsed": false,
     "input": [
      "# Calculation with variable abstraction\n",
      "Monthly_Amount = 1000\n",
      "Interest = 0.05\n",
      "Base = 1 + Interest\n",
      "Years = 5\n",
      "Multiplier = (Base**Years - 1)/Interest\n",
      "Future_Value = Monthly_Amount*Multiplier\n",
      "print(Future_Value)"
     ],
     "language": "python",
     "metadata": {
      "slideshow": {
       "slide_type": "fragment"
      }
     },
     "outputs": [
      {
       "output_type": "stream",
       "stream": "stdout",
       "text": [
        "5525.631250000007\n"
       ]
      }
     ],
     "prompt_number": 11
    },
    {
     "cell_type": "markdown",
     "metadata": {
      "slideshow": {
       "slide_type": "slide"
      }
     },
     "source": [
      "# Generalization\n",
      "\n",
      "* **Generalization** is a broadening of application to encompass a larger domain of objects of the same or different type.\n",
      "* We can use variables and user input to generalize our programs\n",
      "    * OLD: Solve one specific instance of this problem\n",
      "    * NEW: Solves any user-defined instance of this problem"
     ]
    },
    {
     "cell_type": "code",
     "collapsed": false,
     "input": [
      "# Without generalization\n",
      "Monthly_Amount = 1000\n",
      "Interest = 0.05\n",
      "Base = 1 + Interest\n",
      "Years = 5\n",
      "Multiplier = (Base**Years - 1)/Interest\n",
      "Future_Value = Monthly_Amount*Multiplier\n",
      "print(Future_Value)"
     ],
     "language": "python",
     "metadata": {
      "slideshow": {
       "slide_type": "slide"
      }
     },
     "outputs": [
      {
       "output_type": "stream",
       "stream": "stdout",
       "text": [
        "5525.631250000007\n"
       ]
      }
     ],
     "prompt_number": 12
    },
    {
     "cell_type": "code",
     "collapsed": false,
     "input": [
      "# With generalization\n",
      "Monthly_Amount = float(input(\"What is the monthly payment? \"))\n",
      "Interest = float(input(\"What is the interest rate? \"))\n",
      "Base = 1 + Interest\n",
      "Years = int(input(\"How many years will you make payments? \"))\n",
      "Multiplier = (Base**Years - 1)/Interest\n",
      "Future_Value = Monthly_Amount*Multiplier\n",
      "print(\"The value of your annuity after\",Years,\"years will be\")\n",
      "print(Future_Value)"
     ],
     "language": "python",
     "metadata": {
      "slideshow": {
       "slide_type": "subslide"
      }
     },
     "outputs": []
    }
   ],
   "metadata": {}
  }
 ]
}