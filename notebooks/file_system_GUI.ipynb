{
 "metadata": {
  "name": ""
 },
 "nbformat": 3,
 "nbformat_minor": 0,
 "worksheets": [
  {
   "cells": [
    {
     "cell_type": "code",
     "collapsed": false,
     "input": [
      "%run talktools"
     ],
     "language": "python",
     "metadata": {
      "slideshow": {
       "slide_type": "skip"
      }
     },
     "outputs": []
    },
    {
     "cell_type": "markdown",
     "metadata": {
      "slideshow": {
       "slide_type": "slide"
      }
     },
     "source": [
      "# The File System"
     ]
    },
    {
     "cell_type": "markdown",
     "metadata": {
      "slideshow": {
       "slide_type": "fragment"
      }
     },
     "source": [
      "## Making and Navigating the File System with the GUI\n",
      "\n",
      "* *Graphic User Interface* (or GUI) \n",
      "    * work with files and folders with mouse\n",
      "    * probably familiar\n",
      "* Important techniques\n",
      "    * Double click to open a file or folder\n",
      "    * Right click for more options"
     ]
    },
    {
     "cell_type": "markdown",
     "metadata": {
      "slideshow": {
       "slide_type": "slide"
      }
     },
     "source": [
      "## Exercise: Make the following files an folders\n",
      "\n",
      "<img src=\"http://www.cgl.ucsf.edu/Outreach/bmi219/slides/swc/lec/img/shell01/directory_tree.png\"/>"
     ]
    },
    {
     "cell_type": "markdown",
     "metadata": {
      "slideshow": {
       "slide_type": "slide"
      }
     },
     "source": [
      "### Step 1 - Make the home folder\n",
      "1. Right click on the Desktop\n",
      "2. Select `New - Folder` and call it `home`.\n",
      "\n",
      "<img src=\"https://github.com/yardsale8/cs106/raw/master/images/folders-gui-1.png\" style=\"float: left;\"/>\n",
      "<img src=\"http://www.cgl.ucsf.edu/Outreach/bmi219/slides/swc/lec/img/shell01/directory_tree.png\" style=\"float: right;\"/>"
     ]
    },
    {
     "cell_type": "markdown",
     "metadata": {
      "slideshow": {
       "slide_type": "slide"
      }
     },
     "source": [
      "### Step 3 - Make the `hpotter` folder.\n",
      "1. Right click on `home` to open the folder.\n",
      "2. Right click in the `home` window.\n",
      "3. Select `New - Folder` and make the name `hpotter`\n",
      "<img src=\"http://www.cgl.ucsf.edu/Outreach/bmi219/slides/swc/lec/img/shell01/directory_tree.png\" style=\"float: right;\"/>"
     ]
    },
    {
     "cell_type": "markdown",
     "metadata": {
      "slideshow": {
       "slide_type": "slide"
      }
     },
     "source": [
      "### Step 3 - Make the `addresses.html` file\n",
      "1. Double click the `hpotter` folder.\n",
      "3. Select `New - Text File`\n",
      "4. Change the name to `addresses.html`\n",
      "\n",
      "\n",
      "<img src=\"https://github.com/yardsale8/cs106/raw/master/images/folders-gui-2.png\" style=\"float: left;\"/>\n",
      "<img src=\"http://www.cgl.ucsf.edu/Outreach/bmi219/slides/swc/lec/img/shell01/directory_tree.png\" style=\"float: right;\"/>"
     ]
    },
    {
     "cell_type": "markdown",
     "metadata": {
      "slideshow": {
       "slide_type": "slide"
      }
     },
     "source": [
      "## Going Up the Folder Tree\n",
      "\n",
      "Use the back arrow (*Blue arrow on the top left*) to go to the parent directory \n",
      "\n",
      "<img src=\"https://github.com/yardsale8/cs106/raw/master/images/folders-back.png\" style=\"float: left;\"/>\n",
      "<img src=\"http://www.cgl.ucsf.edu/Outreach/bmi219/slides/swc/lec/img/shell01/directory_tree.png\" style=\"float: right;\"/>\n",
      "\n"
     ]
    },
    {
     "cell_type": "markdown",
     "metadata": {
      "slideshow": {
       "slide_type": "slide"
      }
     },
     "source": [
      "### Step 4 - Finish the `hpotter` folder\n",
      "1. Make an `rweasley` in the home directory\n",
      "2. Make an `addresses.html` in `rweasley`\n",
      "3. In both `hpotter` and `rweasley`, create the following\n",
      "    1. Make a `thesis` folder\n",
      "    2. Make the `intro.txt` and `spells.txt` files"
     ]
    },
    {
     "cell_type": "markdown",
     "metadata": {
      "slideshow": {
       "slide_type": "slide"
      }
     },
     "source": [
      "### Step 5 - Zip the folder system\n",
      "\n",
      "1. Go back to the Desktop.\n",
      "2. Right click on the `home` folder\n",
      "3. Select `Send To - Compressed (zipped) Folder`\n",
      "\n",
      "<img src=\"https://github.com/yardsale8/cs106/raw/master/images/folders-zipped.png\"/>"
     ]
    },
    {
     "cell_type": "markdown",
     "metadata": {
      "slideshow": {
       "slide_type": "slide"
      }
     },
     "source": [
      "### Step 6 - Submit your zipped file on Blackboard\n",
      "\n",
      "1. Log into Blackboard\n",
      "2. Go to Assignments and click on Day 1 Assignment\n",
      "3. Click `Attach file - Browse My Computer` \n",
      "4. Navigate to and attach home.zip\n",
      "5. Click Submit **NOTE: You can only click submit once**\n",
      "\n",
      "\n",
      "<img src=\"https://github.com/yardsale8/cs106/raw/master/images/blackboard-assign-submit.png\"/>"
     ]
    },
    {
     "cell_type": "markdown",
     "metadata": {
      "slideshow": {
       "slide_type": "slide"
      }
     },
     "source": [
      "## Outcomes\n",
      "Things that you should now know\n",
      "\n",
      "\n",
      "1. Navigate folders with the GUI\n",
      "2. Create text files with GUI\n",
      "3. Zip a folder system\n",
      "4. Submit an attachment to a Blackboard assignment"
     ]
    }
   ],
   "metadata": {}
  }
 ]
}