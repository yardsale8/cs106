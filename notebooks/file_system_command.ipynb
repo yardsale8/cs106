{
 "metadata": {
  "name": ""
 },
 "nbformat": 3,
 "nbformat_minor": 0,
 "worksheets": [
  {
   "cells": [
    {
     "cell_type": "code",
     "collapsed": false,
     "input": [
      "%run talktools"
     ],
     "language": "python",
     "metadata": {
      "slideshow": {
       "slide_type": "skip"
      }
     },
     "outputs": []
    },
    {
     "cell_type": "markdown",
     "metadata": {
      "slideshow": {
       "slide_type": "slide"
      }
     },
     "source": [
      "# The File System \n",
      "## Command Line and Addresses\n",
      "\n",
      "* Command Line\n",
      "    * Navigate/Control with typed commands\n",
      "* Addresses\n",
      "    * Specifies the location of a file/folder"
     ]
    },
    {
     "cell_type": "markdown",
     "metadata": {},
     "source": [
      "## The Command Line\n",
      "\n",
      "* Interactions with the OS by: \n",
      "    * Reading commands from the keyboard\n",
      "    * Executing those commands...\n",
      "    * ...or running another program\n",
      "    * Displaying the output"
     ]
    },
    {
     "cell_type": "markdown",
     "metadata": {},
     "source": [
      "## Winpython's Command Line Terminal\n",
      "\n",
      "\n",
      "* Terminal\n",
      "    * The program providing the command line\n",
      "    * Use `WinPython Command Prompt.exe`\n",
      "    \n",
      "<img src=\"https://github.com/yardsale8/cs106/raw/master/images/command-prompt.png\" />"
     ]
    },
    {
     "cell_type": "markdown",
     "metadata": {},
     "source": [
      "## Introducing the Command Prompt\n",
      "\n",
      "<img src=\"https://github.com/yardsale8/cs106/raw/master/images/terminal.png\" />"
     ]
    },
    {
     "cell_type": "markdown",
     "metadata": {
      "slideshow": {
       "slide_type": "slide"
      }
     },
     "source": [
      "## The File System\n",
      "\n",
      "* Files are stored in directories \n",
      "* Directories can contain other directories or files\n",
      "* Results in the familiar *directory tree*\n",
      "* Directories allow repeat use of names!\n",
      "    * In one directory \u2192 unique names\n",
      "    * Different directories \u2192 can have same name\n"
     ]
    },
    {
     "cell_type": "markdown",
     "metadata": {
      "slideshow": {
       "slide_type": "slide"
      }
     },
     "source": [
      "## Drives in Windows\n",
      "\n",
      "\n",
      "* Each drive has a separate file system\n",
      "* The following are different\n",
      "    * C:\\home\\tiverson\\notes.txt \n",
      "    * J:\\home\\tiverson\\notes.txt\n",
      "* The drive starts a path\n",
      "* more on paths later\n",
      "\n"
     ]
    },
    {
     "cell_type": "markdown",
     "metadata": {},
     "source": [
      "## The Absolute Path\n",
      "\n",
      "* A path describes a files location\n",
      "* **absolute path** : Full address\n",
      "    * Like street address\n",
      "    * Starts with drive, e.g. c:/\n",
      "    * `c:/Users/tiverson/Desktop/home/hpotter`\n",
      "        * Harry Potter's directory\n",
      "    * `c:/Users/tiverson/Desktop/home/hpotter/addresses.html`\n",
      "        * The addresses html file\n"
     ]
    },
    {
     "cell_type": "markdown",
     "metadata": {},
     "source": [
      "## The Relative Path\n",
      "\n",
      "* A relative path location relative to current location \n",
      "    * \"Four blocks north, and seven east\"\n",
      "* Every program has a current working directory (CWD) \n",
      "    * use `chdir` to print\n",
      "    * \"Where am I?\"\n",
      "    * It can change while a program is running\n",
      "* Relative paths are relative to CWD"
     ]
    },
    {
     "cell_type": "markdown",
     "metadata": {},
     "source": [
      "## Relative Paths Cont. \n",
      "\n",
      "* Two special names: \n",
      "    * \".\" \n",
      "        * the current directory\n",
      "    * \"..\" \n",
      "        * the parent directory\n",
      "* If CWD is thesis, then\n",
      "    * ./spells.txt  \n",
      "        * relative address of `spells.txt`\n",
      "    * ../../reweasley \n",
      "        * relative address of `rweasley`"
     ]
    },
    {
     "cell_type": "markdown",
     "metadata": {
      "slideshow": {
       "slide_type": "slide"
      }
     },
     "source": [
      "## Navigating the File system \n",
      "\n",
      "\n",
      "* The \"change directory\" command - `cd`\n",
      "    * followed by a space\n",
      "    * examples\n",
      "        * `cd folder_name`\n",
      "            * change to child folder\n",
      "        * cd ..\n",
      "            * back or up to parent folder\n",
      "        * cd e:\\\n",
      "            * change to drive `e`"
     ]
    },
    {
     "cell_type": "markdown",
     "metadata": {},
     "source": [
      "## Viewing the Current Working Directory\n",
      "\n",
      "* The *current working directory* is the current location\n",
      "* View the contents with `dir`\n",
      "    * think \"directory\"\n",
      "<img src=\"https://github.com/yardsale8/cs106/raw/master/images/dir.png\" />"
     ]
    },
    {
     "cell_type": "markdown",
     "metadata": {},
     "source": [
      "## Making a directory\n",
      "\n",
      "* command is `mkdir folder_name`\n",
      "    * Think \"make directory\"\n",
      "    \n",
      "<img src=\"https://github.com/yardsale8/cs106/raw/master/images/mkdir.png\" />"
     ]
    },
    {
     "cell_type": "markdown",
     "metadata": {
      "slideshow": {
       "slide_type": "slide"
      }
     },
     "source": [
      "### Exercise - Make the all of the folders.\n",
      "\n",
      "<img src=\"http://www.cgl.ucsf.edu/Outreach/bmi219/slides/swc/lec/img/shell01/directory_tree.png\" />"
     ]
    },
    {
     "cell_type": "markdown",
     "metadata": {},
     "source": [
      "## Making and Editing Text Files with `nano`\n",
      "\n",
      "* We will use `nano file_name` to make and edit files\n",
      "* The command are on the bottom of the window\n",
      "* `^` stands for the command key\n",
      "    * `^X` means hold control and press x\n",
      "\n",
      "\n",
      "<img src=\"https://github.com/yardsale8/cs106/raw/master/images/nano.png\" />\n"
     ]
    },
    {
     "cell_type": "markdown",
     "metadata": {
      "slideshow": {
       "slide_type": "slide"
      }
     },
     "source": [
      "## Exercise - Make the `addresses.html` file\n",
      "1. Navigate to `hpotter` folder.\n",
      "2. type `nano addresses.html`\n",
      "3. Make up an address\n",
      "4. Save the file\n",
      "    1. `^x`\n",
      "    2. enter at prompt (check the name)"
     ]
    },
    {
     "cell_type": "markdown",
     "metadata": {
      "slideshow": {
       "slide_type": "slide"
      }
     },
     "source": [
      "## Exercise - Finish the `hpotter` folder system\n",
      "1. Make an `rweasley` in the home directory\n",
      "2. Make an `addresses.html` in `rweasley`\n",
      "3. In both `hpotter` and `rweasley`, create the following\n",
      "    1. Make a `thesis` folder\n",
      "    2. Make the `intro.txt` and `spells.txt` files"
     ]
    },
    {
     "cell_type": "markdown",
     "metadata": {
      "slideshow": {
       "slide_type": "slide"
      }
     },
     "source": [
      "## Outcomes\n",
      "Things that you should now know\n",
      "\n",
      "\n",
      "1. Navigate folders with the command prompt\n",
      "2. Create text files with commant prompt\n",
      "3. determine the absolute and relative address of a file"
     ]
    }
   ],
   "metadata": {}
  }
 ]
}