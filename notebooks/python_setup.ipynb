{
 "cells": [
  {
   "cell_type": "code",
   "execution_count": null,
   "metadata": {
    "collapsed": false,
    "slideshow": {
     "slide_type": "skip"
    }
   },
   "outputs": [],
   "source": [
    "%run talktools"
   ]
  },
  {
   "cell_type": "markdown",
   "metadata": {
    "slideshow": {
     "slide_type": "slide"
    }
   },
   "source": [
    "# Setting up `python` for CS106\n",
    "\n",
    "The organization of this file is as follows:\n",
    "\n",
    "1. Setting up a portable `python` enviroment on Windows 7\n",
    "2. Setting up a `python` enviroment on Mac OS X or Ubuntu"
   ]
  },
  {
   "cell_type": "markdown",
   "metadata": {
    "slideshow": {
     "slide_type": "slide"
    }
   },
   "source": [
    "## Setting up a portable `python` enviroment on Windows 7\n",
    "\n",
    "* First task is to \n",
    "    * set up a portable python enviroment \n",
    "* *Portable* means that the folder that contains \n",
    "    * Can be installed anywhere \n",
    "    * Moved without causing problems.\n",
    "* Important: Your machine must stay your machine\n",
    "* Can install on USB drive \n",
    "    * Take python with you \n",
    "    * it will be slow"
   ]
  },
  {
   "cell_type": "markdown",
   "metadata": {
    "slideshow": {
     "slide_type": "slide"
    }
   },
   "source": [
    "### Step 1: Download Winpython\n",
    "\n",
    "First, download Winpython 3.5 from [this link](http://sourceforge.net/projects/winpython/files/WinPython_3.5/3.5.1.1/WinPython-64bit-3.5.1.1Slim.exe/download)"
   ]
  },
  {
   "cell_type": "markdown",
   "metadata": {
    "slideshow": {
     "slide_type": "subslide"
    }
   },
   "source": [
    "### Step 2: Install Winpython in a folder called `python` on your desktop.\n",
    "\n",
    "**Important note: Change `tiverson` to *your own SMU username* before clicking install!**\n",
    "\n",
    "<img src=\"https://raw.github.com/yardsale8/cs106/master/images/winpython-location.png\"/>"
   ]
  },
  {
   "cell_type": "markdown",
   "metadata": {
    "slideshow": {
     "slide_type": "slide"
    }
   },
   "source": [
    "## Setting up `python` on Mac OS X or Ubuntu\n",
    "\n",
    "My suggestion for setting up a `python` enviroment on a Mac or Ubuntu Linux is to install [Anaconda](https://3230d63b5fc54e62148e-c95ac804525aac4b6dba79b00b39d1d3.ssl.cf1.rackcdn.com/Anaconda3-2.4.1-MacOSX-x86_64.pkg).  \n",
    "\n",
    "(You can also install Anaconda on Windows machines, but this requires administration rights.)"
   ]
  },
  {
   "cell_type": "code",
   "execution_count": null,
   "metadata": {
    "collapsed": false
   },
   "outputs": [],
   "source": []
  }
 ],
 "metadata": {
  "kernelspec": {
   "display_name": "Python 3",
   "language": "python",
   "name": "python3"
  },
  "language_info": {
   "codemirror_mode": {
    "name": "ipython",
    "version": 3
   },
   "file_extension": ".py",
   "mimetype": "text/x-python",
   "name": "python",
   "nbconvert_exporter": "python",
   "pygments_lexer": "ipython3",
   "version": "3.4.1"
  }
 },
 "nbformat": 4,
 "nbformat_minor": 0
}
