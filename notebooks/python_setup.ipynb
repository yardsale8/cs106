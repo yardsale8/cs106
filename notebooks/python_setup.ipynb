{
 "metadata": {
  "name": ""
 },
 "nbformat": 3,
 "nbformat_minor": 0,
 "worksheets": [
  {
   "cells": [
    {
     "cell_type": "code",
     "collapsed": false,
     "input": [
      "%run talktools"
     ],
     "language": "python",
     "metadata": {
      "slideshow": {
       "slide_type": "skip"
      }
     },
     "outputs": []
    },
    {
     "cell_type": "markdown",
     "metadata": {
      "slideshow": {
       "slide_type": "slide"
      }
     },
     "source": [
      "# Setting up `python` for CS106\n",
      "\n",
      "The organization of this file is as follows:\n",
      "\n",
      "1. Setting up a portable `python` enviroment on Windows 7\n",
      "2. Setting up a `python` enviroment on Mac OS X or Ubuntu"
     ]
    },
    {
     "cell_type": "markdown",
     "metadata": {
      "slideshow": {
       "slide_type": "slide"
      }
     },
     "source": [
      "## Setting up a portable `python` enviroment on Windows 7\n",
      "\n",
      "* First task is to \n",
      "    * set up a portable python enviroment \n",
      "* *Portable* means that the folder that contains \n",
      "    * Can be installed anywhere \n",
      "    * Moved without causing problems.\n",
      "* Important: Your machine must stay your machine\n",
      "* Can install on USB drive \n",
      "    * Take python with you \n",
      "    * it will be slow"
     ]
    },
    {
     "cell_type": "markdown",
     "metadata": {
      "slideshow": {
       "slide_type": "slide"
      }
     },
     "source": [
      "### Step 1: Download Winpython\n",
      "\n",
      "First, download Winpython from [this link](http://sourceforge.net/projects/winpython/files/WinPython_2.7/2.7.6.2/WinPython-32bit-2.7.6.2.exe/download)"
     ]
    },
    {
     "cell_type": "markdown",
     "metadata": {
      "slideshow": {
       "slide_type": "subslide"
      }
     },
     "source": [
      "### Step 2: Install Winpython in a folder called `python` on your desktop.\n",
      "\n",
      "**Important note: Change `tiverson` to *your own SMU username* before clicking install!**\n",
      "\n",
      "<img src=\"https://raw.github.com/yardsale8/cs106/master/images/winpython-location.png\"/>"
     ]
    },
    {
     "cell_type": "markdown",
     "metadata": {
      "slideshow": {
       "slide_type": "slide"
      }
     },
     "source": [
      "### Step 3: Open the `python` folder and make new directories\n",
      "\n",
      "Open the python directory on your desktop.  It should look like this:\n",
      "\n",
      "<img src=\"https://github.com/yardsale8/cs106/raw/master/images/winpython-folder-1.png\"/>\n",
      "\n",
      "Make two new folders, `userdata` and `notebooks`."
     ]
    },
    {
     "cell_type": "markdown",
     "metadata": {
      "slideshow": {
       "slide_type": "slide"
      }
     },
     "source": [
      "### Step 4: Make a batch file for opening `ipython` notebooks\n",
      "Right click on the following link and save the link/file as ipython_noteboot.bat in the new notebook folder.\n",
      "[Notebook Batch File - Right click and select save](https://github.com/yardsale8/cs106/raw/master/ipython_notebook.bat)\n",
      "\n",
      "<img src=\"https://github.com/yardsale8/cs106/raw/master/images/winpython-notebook-batch.png\"/>"
     ]
    },
    {
     "cell_type": "markdown",
     "metadata": {
      "slideshow": {
       "slide_type": "subslide"
      }
     },
     "source": [
      "<img src=\"https://github.com/yardsale8/cs106/raw/master/images/winpython-notebook-batch-2.png\"/>"
     ]
    },
    {
     "cell_type": "markdown",
     "metadata": {
      "slideshow": {
       "slide_type": "slide"
      }
     },
     "source": [
      "## Setting up `python` on Mac OS X or Ubuntu\n",
      "\n",
      "My suggestion for setting up a `python` enviroment on a Mac or Ubuntu Linux is to install [Anaconda](https://store.continuum.io/cshop/anaconda/).  \n",
      "\n",
      "(You can also install Anaconda on Windows machines, but this requires administration rights.)"
     ]
    },
    {
     "cell_type": "markdown",
     "metadata": {},
     "source": [
      "### Step 6 - Download the nano terminal editor\n",
      "\n",
      "1. Right click on [this link](http://www.nano-editor.org/dist/v2.2/NT/nano-2.2.6.zip) and save the file under download.\n",
      "2. Double click on the zip file and select Extract.\n",
      "3. Unzip the files into C:/Users/%username%/Desktop/python/tools.\n",
      "4. Open up C:/Users/%username%/Desktop/python/tools and make sure that nano.exe is present.\n",
      "\n"
     ]
    },
    {
     "cell_type": "code",
     "collapsed": false,
     "input": [],
     "language": "python",
     "metadata": {},
     "outputs": []
    }
   ],
   "metadata": {}
  }
 ]
}